{
 "cells": [
  {
   "cell_type": "markdown",
   "id": "662ce108",
   "metadata": {},
   "source": [
    "# PROJETO: CLASSIFICAÇÃO DE RENDA COM DADOS DO CENSO-PARTE 3\n",
    "\n",
    "**Objetivo**: A tarefa é prever se renda anual de um indivíduo é superior a $50.000 por ano com base em dados do censo.\n",
    "\n",
    "**Dataset**: O conjunto de dados para este projeto é originário do [Repositório de Aprendizado de Máquina da UCI](https://archive.ics.uci.edu/ml/datasets/Adult)\n",
    "\n",
    "**Habilidades Avaliadas em Todo o Projeto**: \n",
    "- Manipulação de arquivos .csv\n",
    "- Limpeza e Tratamento dos dados\n",
    "- Análise exploratória dos dados\n",
    "- Técnicas de preprocessamento e transformação dos dados (OneHotEncoder, OrdinalEncoder, StandardScaler, .get_dummies, .qcut)\n",
    "- Seleção de features\n",
    "- Ajuste dos hiperparâmetros (GridSearchCV)\n",
    "- Aplicação de modelos de machine learning para classificação (LogisticRegression, KNeighborsClassifier, RandomForest, DecisionTree, MLPClassifier)\n",
    "- Métricas de validação (validação cruzada, acurácia, precisão, f1 score, matriz de confusão e relatório de classificação)\n",
    "- Previsão com a base de teste\n",
    "- Persistindo o modelo final de machine learning para o disco (joblib)\n",
    "- Pensamento analítico e conclusão\n",
    "- Projeção para outros tipos de problemas de negócio"
   ]
  },
  {
   "cell_type": "markdown",
   "id": "8e1fc2d9",
   "metadata": {},
   "source": [
    "**___________________________________________________________________________________________________________________________**\n",
    "\n",
    "# ETAPAS DO PROJETO\n",
    "- [Importação](#importacao)\n",
    "- [Padronização](#padronizacao)\n",
    "- [Seleção de Features](#feat)\n",
    "- [Modelagem e Avaliação](#modelagem)\n",
    "- [Tunning dos Modelos](#tunning)\n",
    "- [Previsão com o Modelo Final](#previsao)\n",
    "- [Modelo em Disco](#disco)\n",
    "- [Histórico dos Resultados](#resultados)\n",
    "- [Conclusão](#conclusao)"
   ]
  },
  {
   "cell_type": "markdown",
   "id": "4b1aca1f",
   "metadata": {},
   "source": [
    "**___________________________________________________________________________________________________________________________**\n",
    "\n",
    "<a id='importacao'></a>\n",
    "# IMPORTAÇÃO\n",
    "\n",
    "- Vamos importar as bases finais de treino e teste da parte 2 que contém todas as alterações que foram feitas anteriormente."
   ]
  },
  {
   "cell_type": "code",
   "execution_count": 2,
   "id": "f73bf65c",
   "metadata": {},
   "outputs": [],
   "source": [
    "# Importação de algumas bibliotecas\n",
    "import numpy as np\n",
    "import pandas as pd\n",
    "import matplotlib.pyplot as plt\n",
    "import seaborn as sns\n",
    "%matplotlib inline\n",
    "\n",
    "# Ignorando os avisos\n",
    "import warnings\n",
    "warnings.filterwarnings('ignore')"
   ]
  },
  {
   "cell_type": "markdown",
   "id": "e94fd978",
   "metadata": {},
   "source": [
    "- **Base de Treino**"
   ]
  },
  {
   "cell_type": "code",
   "execution_count": 3,
   "id": "b3bccace",
   "metadata": {},
   "outputs": [],
   "source": [
    "# Importação da base de dados\n",
    "df_treino = pd.read_csv('dataset/dados_limpos/adult_train_parte2.csv')"
   ]
  },
  {
   "cell_type": "code",
   "execution_count": 4,
   "id": "751fa638",
   "metadata": {
    "scrolled": false
   },
   "outputs": [
    {
     "data": {
      "text/html": [
       "<div>\n",
       "<style scoped>\n",
       "    .dataframe tbody tr th:only-of-type {\n",
       "        vertical-align: middle;\n",
       "    }\n",
       "\n",
       "    .dataframe tbody tr th {\n",
       "        vertical-align: top;\n",
       "    }\n",
       "\n",
       "    .dataframe thead th {\n",
       "        text-align: right;\n",
       "    }\n",
       "</style>\n",
       "<table border=\"1\" class=\"dataframe\">\n",
       "  <thead>\n",
       "    <tr style=\"text-align: right;\">\n",
       "      <th></th>\n",
       "      <th>education_num</th>\n",
       "      <th>sex</th>\n",
       "      <th>capital_gain</th>\n",
       "      <th>capital_loss</th>\n",
       "      <th>income</th>\n",
       "      <th>hours_check</th>\n",
       "      <th>age_check</th>\n",
       "      <th>married_check</th>\n",
       "      <th>workclass_check</th>\n",
       "      <th>occupation_check</th>\n",
       "      <th>...</th>\n",
       "      <th>native_country_Thailand</th>\n",
       "      <th>native_country_Trinadad&amp;Tobago</th>\n",
       "      <th>native_country_United-States</th>\n",
       "      <th>native_country_Vietnam</th>\n",
       "      <th>native_country_Yugoslavia</th>\n",
       "      <th>race_Amer-Indian-Eskimo</th>\n",
       "      <th>race_Asian-Pac-Islander</th>\n",
       "      <th>race_Black</th>\n",
       "      <th>race_Other</th>\n",
       "      <th>race_White</th>\n",
       "    </tr>\n",
       "  </thead>\n",
       "  <tbody>\n",
       "    <tr>\n",
       "      <th>0</th>\n",
       "      <td>3</td>\n",
       "      <td>1</td>\n",
       "      <td>2174</td>\n",
       "      <td>0</td>\n",
       "      <td>0</td>\n",
       "      <td>1</td>\n",
       "      <td>1</td>\n",
       "      <td>0</td>\n",
       "      <td>2</td>\n",
       "      <td>1</td>\n",
       "      <td>...</td>\n",
       "      <td>0</td>\n",
       "      <td>0</td>\n",
       "      <td>1</td>\n",
       "      <td>0</td>\n",
       "      <td>0</td>\n",
       "      <td>0</td>\n",
       "      <td>0</td>\n",
       "      <td>0</td>\n",
       "      <td>0</td>\n",
       "      <td>1</td>\n",
       "    </tr>\n",
       "    <tr>\n",
       "      <th>1</th>\n",
       "      <td>3</td>\n",
       "      <td>1</td>\n",
       "      <td>0</td>\n",
       "      <td>0</td>\n",
       "      <td>0</td>\n",
       "      <td>0</td>\n",
       "      <td>1</td>\n",
       "      <td>1</td>\n",
       "      <td>3</td>\n",
       "      <td>3</td>\n",
       "      <td>...</td>\n",
       "      <td>0</td>\n",
       "      <td>0</td>\n",
       "      <td>1</td>\n",
       "      <td>0</td>\n",
       "      <td>0</td>\n",
       "      <td>0</td>\n",
       "      <td>0</td>\n",
       "      <td>0</td>\n",
       "      <td>0</td>\n",
       "      <td>1</td>\n",
       "    </tr>\n",
       "    <tr>\n",
       "      <th>2</th>\n",
       "      <td>1</td>\n",
       "      <td>1</td>\n",
       "      <td>0</td>\n",
       "      <td>0</td>\n",
       "      <td>0</td>\n",
       "      <td>1</td>\n",
       "      <td>1</td>\n",
       "      <td>0</td>\n",
       "      <td>1</td>\n",
       "      <td>0</td>\n",
       "      <td>...</td>\n",
       "      <td>0</td>\n",
       "      <td>0</td>\n",
       "      <td>1</td>\n",
       "      <td>0</td>\n",
       "      <td>0</td>\n",
       "      <td>0</td>\n",
       "      <td>0</td>\n",
       "      <td>0</td>\n",
       "      <td>0</td>\n",
       "      <td>1</td>\n",
       "    </tr>\n",
       "  </tbody>\n",
       "</table>\n",
       "<p>3 rows × 57 columns</p>\n",
       "</div>"
      ],
      "text/plain": [
       "   education_num  sex  capital_gain  capital_loss  income  hours_check  \\\n",
       "0              3    1          2174             0       0            1   \n",
       "1              3    1             0             0       0            0   \n",
       "2              1    1             0             0       0            1   \n",
       "\n",
       "   age_check  married_check  workclass_check  occupation_check  ...  \\\n",
       "0          1              0                2                 1  ...   \n",
       "1          1              1                3                 3  ...   \n",
       "2          1              0                1                 0  ...   \n",
       "\n",
       "   native_country_Thailand  native_country_Trinadad&Tobago  \\\n",
       "0                        0                               0   \n",
       "1                        0                               0   \n",
       "2                        0                               0   \n",
       "\n",
       "   native_country_United-States  native_country_Vietnam  \\\n",
       "0                             1                       0   \n",
       "1                             1                       0   \n",
       "2                             1                       0   \n",
       "\n",
       "   native_country_Yugoslavia  race_Amer-Indian-Eskimo  \\\n",
       "0                          0                        0   \n",
       "1                          0                        0   \n",
       "2                          0                        0   \n",
       "\n",
       "   race_Asian-Pac-Islander  race_Black  race_Other  race_White  \n",
       "0                        0           0           0           1  \n",
       "1                        0           0           0           1  \n",
       "2                        0           0           0           1  \n",
       "\n",
       "[3 rows x 57 columns]"
      ]
     },
     "execution_count": 4,
     "metadata": {},
     "output_type": "execute_result"
    }
   ],
   "source": [
    "# Visualizando a base de dados\n",
    "df_treino.head(3)"
   ]
  },
  {
   "cell_type": "markdown",
   "id": "2d39d18b",
   "metadata": {},
   "source": [
    "- **Base de Teste**"
   ]
  },
  {
   "cell_type": "code",
   "execution_count": 5,
   "id": "1127b62f",
   "metadata": {},
   "outputs": [],
   "source": [
    "# Importação da base de dados\n",
    "df_teste = pd.read_csv('dataset/dados_limpos/adult_test_parte2.csv')"
   ]
  },
  {
   "cell_type": "code",
   "execution_count": 6,
   "id": "12043a55",
   "metadata": {
    "scrolled": false
   },
   "outputs": [
    {
     "data": {
      "text/html": [
       "<div>\n",
       "<style scoped>\n",
       "    .dataframe tbody tr th:only-of-type {\n",
       "        vertical-align: middle;\n",
       "    }\n",
       "\n",
       "    .dataframe tbody tr th {\n",
       "        vertical-align: top;\n",
       "    }\n",
       "\n",
       "    .dataframe thead th {\n",
       "        text-align: right;\n",
       "    }\n",
       "</style>\n",
       "<table border=\"1\" class=\"dataframe\">\n",
       "  <thead>\n",
       "    <tr style=\"text-align: right;\">\n",
       "      <th></th>\n",
       "      <th>education_num</th>\n",
       "      <th>sex</th>\n",
       "      <th>capital_gain</th>\n",
       "      <th>capital_loss</th>\n",
       "      <th>income</th>\n",
       "      <th>hours_check</th>\n",
       "      <th>age_check</th>\n",
       "      <th>married_check</th>\n",
       "      <th>workclass_check</th>\n",
       "      <th>occupation_check</th>\n",
       "      <th>...</th>\n",
       "      <th>native_country_Thailand</th>\n",
       "      <th>native_country_Trinadad&amp;Tobago</th>\n",
       "      <th>native_country_United-States</th>\n",
       "      <th>native_country_Vietnam</th>\n",
       "      <th>native_country_Yugoslavia</th>\n",
       "      <th>race_Amer-Indian-Eskimo</th>\n",
       "      <th>race_Asian-Pac-Islander</th>\n",
       "      <th>race_Black</th>\n",
       "      <th>race_Other</th>\n",
       "      <th>race_White</th>\n",
       "    </tr>\n",
       "  </thead>\n",
       "  <tbody>\n",
       "    <tr>\n",
       "      <th>0</th>\n",
       "      <td>1</td>\n",
       "      <td>1</td>\n",
       "      <td>0</td>\n",
       "      <td>0</td>\n",
       "      <td>0</td>\n",
       "      <td>1</td>\n",
       "      <td>1</td>\n",
       "      <td>0</td>\n",
       "      <td>1</td>\n",
       "      <td>1</td>\n",
       "      <td>...</td>\n",
       "      <td>0</td>\n",
       "      <td>0</td>\n",
       "      <td>1</td>\n",
       "      <td>0</td>\n",
       "      <td>0</td>\n",
       "      <td>0</td>\n",
       "      <td>0</td>\n",
       "      <td>1</td>\n",
       "      <td>0</td>\n",
       "      <td>0</td>\n",
       "    </tr>\n",
       "    <tr>\n",
       "      <th>1</th>\n",
       "      <td>1</td>\n",
       "      <td>1</td>\n",
       "      <td>0</td>\n",
       "      <td>0</td>\n",
       "      <td>0</td>\n",
       "      <td>2</td>\n",
       "      <td>1</td>\n",
       "      <td>1</td>\n",
       "      <td>1</td>\n",
       "      <td>1</td>\n",
       "      <td>...</td>\n",
       "      <td>0</td>\n",
       "      <td>0</td>\n",
       "      <td>1</td>\n",
       "      <td>0</td>\n",
       "      <td>0</td>\n",
       "      <td>0</td>\n",
       "      <td>0</td>\n",
       "      <td>0</td>\n",
       "      <td>0</td>\n",
       "      <td>1</td>\n",
       "    </tr>\n",
       "    <tr>\n",
       "      <th>2</th>\n",
       "      <td>2</td>\n",
       "      <td>1</td>\n",
       "      <td>0</td>\n",
       "      <td>0</td>\n",
       "      <td>1</td>\n",
       "      <td>1</td>\n",
       "      <td>1</td>\n",
       "      <td>1</td>\n",
       "      <td>2</td>\n",
       "      <td>3</td>\n",
       "      <td>...</td>\n",
       "      <td>0</td>\n",
       "      <td>0</td>\n",
       "      <td>1</td>\n",
       "      <td>0</td>\n",
       "      <td>0</td>\n",
       "      <td>0</td>\n",
       "      <td>0</td>\n",
       "      <td>0</td>\n",
       "      <td>0</td>\n",
       "      <td>1</td>\n",
       "    </tr>\n",
       "  </tbody>\n",
       "</table>\n",
       "<p>3 rows × 57 columns</p>\n",
       "</div>"
      ],
      "text/plain": [
       "   education_num  sex  capital_gain  capital_loss  income  hours_check  \\\n",
       "0              1    1             0             0       0            1   \n",
       "1              1    1             0             0       0            2   \n",
       "2              2    1             0             0       1            1   \n",
       "\n",
       "   age_check  married_check  workclass_check  occupation_check  ...  \\\n",
       "0          1              0                1                 1  ...   \n",
       "1          1              1                1                 1  ...   \n",
       "2          1              1                2                 3  ...   \n",
       "\n",
       "   native_country_Thailand  native_country_Trinadad&Tobago  \\\n",
       "0                        0                               0   \n",
       "1                        0                               0   \n",
       "2                        0                               0   \n",
       "\n",
       "   native_country_United-States  native_country_Vietnam  \\\n",
       "0                             1                       0   \n",
       "1                             1                       0   \n",
       "2                             1                       0   \n",
       "\n",
       "   native_country_Yugoslavia  race_Amer-Indian-Eskimo  \\\n",
       "0                          0                        0   \n",
       "1                          0                        0   \n",
       "2                          0                        0   \n",
       "\n",
       "   race_Asian-Pac-Islander  race_Black  race_Other  race_White  \n",
       "0                        0           1           0           0  \n",
       "1                        0           0           0           1  \n",
       "2                        0           0           0           1  \n",
       "\n",
       "[3 rows x 57 columns]"
      ]
     },
     "execution_count": 6,
     "metadata": {},
     "output_type": "execute_result"
    }
   ],
   "source": [
    "# Visualizando a base de dados\n",
    "df_teste.head(3)"
   ]
  },
  {
   "cell_type": "markdown",
   "id": "90f142d2",
   "metadata": {},
   "source": [
    "**___________________________________________________________________________________________________________________________**\n",
    "\n",
    "<a id='padronizacao'></a>\n",
    "# PADRONIZAÇÃO\n",
    "- Redimensionamento dos recursos para criar um \"padrão\" garantindo que os novos dados tenham **média zero e desvio padrão igual a 1**\n",
    "    - https://scikit-learn.org/stable/modules/generated/sklearn.preprocessing.StandardScaler.html#sklearn.preprocessing.StandardScaler\n",
    "\n",
    "\n",
    "- A escala padrão de cada valor **x** será dada por:\n",
    "    - **z = (x - u) / s**, onde:\n",
    "        - **u:** média das amostras\n",
    "        - **s:** desvio padrão das amostras\n"
   ]
  },
  {
   "cell_type": "code",
   "execution_count": 7,
   "id": "c842387f",
   "metadata": {},
   "outputs": [
    {
     "data": {
      "text/html": [
       "<div>\n",
       "<style scoped>\n",
       "    .dataframe tbody tr th:only-of-type {\n",
       "        vertical-align: middle;\n",
       "    }\n",
       "\n",
       "    .dataframe tbody tr th {\n",
       "        vertical-align: top;\n",
       "    }\n",
       "\n",
       "    .dataframe thead th {\n",
       "        text-align: right;\n",
       "    }\n",
       "</style>\n",
       "<table border=\"1\" class=\"dataframe\">\n",
       "  <thead>\n",
       "    <tr style=\"text-align: right;\">\n",
       "      <th></th>\n",
       "      <th>education_num</th>\n",
       "      <th>sex</th>\n",
       "      <th>capital_gain</th>\n",
       "      <th>capital_loss</th>\n",
       "      <th>hours_check</th>\n",
       "      <th>age_check</th>\n",
       "      <th>married_check</th>\n",
       "      <th>workclass_check</th>\n",
       "      <th>occupation_check</th>\n",
       "      <th>native_country_?</th>\n",
       "      <th>...</th>\n",
       "      <th>native_country_Thailand</th>\n",
       "      <th>native_country_Trinadad&amp;Tobago</th>\n",
       "      <th>native_country_United-States</th>\n",
       "      <th>native_country_Vietnam</th>\n",
       "      <th>native_country_Yugoslavia</th>\n",
       "      <th>race_Amer-Indian-Eskimo</th>\n",
       "      <th>race_Asian-Pac-Islander</th>\n",
       "      <th>race_Black</th>\n",
       "      <th>race_Other</th>\n",
       "      <th>race_White</th>\n",
       "    </tr>\n",
       "  </thead>\n",
       "  <tbody>\n",
       "    <tr>\n",
       "      <th>count</th>\n",
       "      <td>32537.000000</td>\n",
       "      <td>32537.000000</td>\n",
       "      <td>32537.000000</td>\n",
       "      <td>32537.000000</td>\n",
       "      <td>32537.000000</td>\n",
       "      <td>32537.000000</td>\n",
       "      <td>32537.000000</td>\n",
       "      <td>32537.000000</td>\n",
       "      <td>32537.000000</td>\n",
       "      <td>32537.000000</td>\n",
       "      <td>...</td>\n",
       "      <td>32537.000000</td>\n",
       "      <td>32537.000000</td>\n",
       "      <td>32537.000000</td>\n",
       "      <td>32537.000000</td>\n",
       "      <td>32537.000000</td>\n",
       "      <td>32537.000000</td>\n",
       "      <td>32537.000000</td>\n",
       "      <td>32537.000000</td>\n",
       "      <td>32537.000000</td>\n",
       "      <td>32537.000000</td>\n",
       "    </tr>\n",
       "    <tr>\n",
       "      <th>mean</th>\n",
       "      <td>1.868703</td>\n",
       "      <td>0.669238</td>\n",
       "      <td>1078.443741</td>\n",
       "      <td>87.368227</td>\n",
       "      <td>1.047853</td>\n",
       "      <td>0.975658</td>\n",
       "      <td>0.460798</td>\n",
       "      <td>1.301380</td>\n",
       "      <td>1.683683</td>\n",
       "      <td>0.017887</td>\n",
       "      <td>...</td>\n",
       "      <td>0.000553</td>\n",
       "      <td>0.000584</td>\n",
       "      <td>0.895995</td>\n",
       "      <td>0.002059</td>\n",
       "      <td>0.000492</td>\n",
       "      <td>0.009558</td>\n",
       "      <td>0.031902</td>\n",
       "      <td>0.095952</td>\n",
       "      <td>0.008329</td>\n",
       "      <td>0.854258</td>\n",
       "    </tr>\n",
       "    <tr>\n",
       "      <th>std</th>\n",
       "      <td>1.154085</td>\n",
       "      <td>0.470495</td>\n",
       "      <td>7387.957424</td>\n",
       "      <td>403.101833</td>\n",
       "      <td>0.623255</td>\n",
       "      <td>0.408702</td>\n",
       "      <td>0.498469</td>\n",
       "      <td>0.741244</td>\n",
       "      <td>1.107267</td>\n",
       "      <td>0.132544</td>\n",
       "      <td>...</td>\n",
       "      <td>0.023514</td>\n",
       "      <td>0.024158</td>\n",
       "      <td>0.305271</td>\n",
       "      <td>0.045332</td>\n",
       "      <td>0.022170</td>\n",
       "      <td>0.097300</td>\n",
       "      <td>0.175742</td>\n",
       "      <td>0.294530</td>\n",
       "      <td>0.090884</td>\n",
       "      <td>0.352853</td>\n",
       "    </tr>\n",
       "    <tr>\n",
       "      <th>min</th>\n",
       "      <td>0.000000</td>\n",
       "      <td>0.000000</td>\n",
       "      <td>0.000000</td>\n",
       "      <td>0.000000</td>\n",
       "      <td>0.000000</td>\n",
       "      <td>0.000000</td>\n",
       "      <td>0.000000</td>\n",
       "      <td>0.000000</td>\n",
       "      <td>0.000000</td>\n",
       "      <td>0.000000</td>\n",
       "      <td>...</td>\n",
       "      <td>0.000000</td>\n",
       "      <td>0.000000</td>\n",
       "      <td>0.000000</td>\n",
       "      <td>0.000000</td>\n",
       "      <td>0.000000</td>\n",
       "      <td>0.000000</td>\n",
       "      <td>0.000000</td>\n",
       "      <td>0.000000</td>\n",
       "      <td>0.000000</td>\n",
       "      <td>0.000000</td>\n",
       "    </tr>\n",
       "    <tr>\n",
       "      <th>25%</th>\n",
       "      <td>1.000000</td>\n",
       "      <td>0.000000</td>\n",
       "      <td>0.000000</td>\n",
       "      <td>0.000000</td>\n",
       "      <td>1.000000</td>\n",
       "      <td>1.000000</td>\n",
       "      <td>0.000000</td>\n",
       "      <td>1.000000</td>\n",
       "      <td>1.000000</td>\n",
       "      <td>0.000000</td>\n",
       "      <td>...</td>\n",
       "      <td>0.000000</td>\n",
       "      <td>0.000000</td>\n",
       "      <td>1.000000</td>\n",
       "      <td>0.000000</td>\n",
       "      <td>0.000000</td>\n",
       "      <td>0.000000</td>\n",
       "      <td>0.000000</td>\n",
       "      <td>0.000000</td>\n",
       "      <td>0.000000</td>\n",
       "      <td>1.000000</td>\n",
       "    </tr>\n",
       "    <tr>\n",
       "      <th>50%</th>\n",
       "      <td>2.000000</td>\n",
       "      <td>1.000000</td>\n",
       "      <td>0.000000</td>\n",
       "      <td>0.000000</td>\n",
       "      <td>1.000000</td>\n",
       "      <td>1.000000</td>\n",
       "      <td>0.000000</td>\n",
       "      <td>1.000000</td>\n",
       "      <td>2.000000</td>\n",
       "      <td>0.000000</td>\n",
       "      <td>...</td>\n",
       "      <td>0.000000</td>\n",
       "      <td>0.000000</td>\n",
       "      <td>1.000000</td>\n",
       "      <td>0.000000</td>\n",
       "      <td>0.000000</td>\n",
       "      <td>0.000000</td>\n",
       "      <td>0.000000</td>\n",
       "      <td>0.000000</td>\n",
       "      <td>0.000000</td>\n",
       "      <td>1.000000</td>\n",
       "    </tr>\n",
       "    <tr>\n",
       "      <th>75%</th>\n",
       "      <td>2.000000</td>\n",
       "      <td>1.000000</td>\n",
       "      <td>0.000000</td>\n",
       "      <td>0.000000</td>\n",
       "      <td>1.000000</td>\n",
       "      <td>1.000000</td>\n",
       "      <td>1.000000</td>\n",
       "      <td>1.000000</td>\n",
       "      <td>3.000000</td>\n",
       "      <td>0.000000</td>\n",
       "      <td>...</td>\n",
       "      <td>0.000000</td>\n",
       "      <td>0.000000</td>\n",
       "      <td>1.000000</td>\n",
       "      <td>0.000000</td>\n",
       "      <td>0.000000</td>\n",
       "      <td>0.000000</td>\n",
       "      <td>0.000000</td>\n",
       "      <td>0.000000</td>\n",
       "      <td>0.000000</td>\n",
       "      <td>1.000000</td>\n",
       "    </tr>\n",
       "    <tr>\n",
       "      <th>max</th>\n",
       "      <td>6.000000</td>\n",
       "      <td>1.000000</td>\n",
       "      <td>99999.000000</td>\n",
       "      <td>4356.000000</td>\n",
       "      <td>2.000000</td>\n",
       "      <td>2.000000</td>\n",
       "      <td>1.000000</td>\n",
       "      <td>3.000000</td>\n",
       "      <td>3.000000</td>\n",
       "      <td>1.000000</td>\n",
       "      <td>...</td>\n",
       "      <td>1.000000</td>\n",
       "      <td>1.000000</td>\n",
       "      <td>1.000000</td>\n",
       "      <td>1.000000</td>\n",
       "      <td>1.000000</td>\n",
       "      <td>1.000000</td>\n",
       "      <td>1.000000</td>\n",
       "      <td>1.000000</td>\n",
       "      <td>1.000000</td>\n",
       "      <td>1.000000</td>\n",
       "    </tr>\n",
       "  </tbody>\n",
       "</table>\n",
       "<p>8 rows × 56 columns</p>\n",
       "</div>"
      ],
      "text/plain": [
       "       education_num           sex  capital_gain  capital_loss   hours_check  \\\n",
       "count   32537.000000  32537.000000  32537.000000  32537.000000  32537.000000   \n",
       "mean        1.868703      0.669238   1078.443741     87.368227      1.047853   \n",
       "std         1.154085      0.470495   7387.957424    403.101833      0.623255   \n",
       "min         0.000000      0.000000      0.000000      0.000000      0.000000   \n",
       "25%         1.000000      0.000000      0.000000      0.000000      1.000000   \n",
       "50%         2.000000      1.000000      0.000000      0.000000      1.000000   \n",
       "75%         2.000000      1.000000      0.000000      0.000000      1.000000   \n",
       "max         6.000000      1.000000  99999.000000   4356.000000      2.000000   \n",
       "\n",
       "          age_check  married_check  workclass_check  occupation_check  \\\n",
       "count  32537.000000   32537.000000     32537.000000      32537.000000   \n",
       "mean       0.975658       0.460798         1.301380          1.683683   \n",
       "std        0.408702       0.498469         0.741244          1.107267   \n",
       "min        0.000000       0.000000         0.000000          0.000000   \n",
       "25%        1.000000       0.000000         1.000000          1.000000   \n",
       "50%        1.000000       0.000000         1.000000          2.000000   \n",
       "75%        1.000000       1.000000         1.000000          3.000000   \n",
       "max        2.000000       1.000000         3.000000          3.000000   \n",
       "\n",
       "       native_country_?  ...  native_country_Thailand  \\\n",
       "count      32537.000000  ...             32537.000000   \n",
       "mean           0.017887  ...                 0.000553   \n",
       "std            0.132544  ...                 0.023514   \n",
       "min            0.000000  ...                 0.000000   \n",
       "25%            0.000000  ...                 0.000000   \n",
       "50%            0.000000  ...                 0.000000   \n",
       "75%            0.000000  ...                 0.000000   \n",
       "max            1.000000  ...                 1.000000   \n",
       "\n",
       "       native_country_Trinadad&Tobago  native_country_United-States  \\\n",
       "count                    32537.000000                  32537.000000   \n",
       "mean                         0.000584                      0.895995   \n",
       "std                          0.024158                      0.305271   \n",
       "min                          0.000000                      0.000000   \n",
       "25%                          0.000000                      1.000000   \n",
       "50%                          0.000000                      1.000000   \n",
       "75%                          0.000000                      1.000000   \n",
       "max                          1.000000                      1.000000   \n",
       "\n",
       "       native_country_Vietnam  native_country_Yugoslavia  \\\n",
       "count            32537.000000               32537.000000   \n",
       "mean                 0.002059                   0.000492   \n",
       "std                  0.045332                   0.022170   \n",
       "min                  0.000000                   0.000000   \n",
       "25%                  0.000000                   0.000000   \n",
       "50%                  0.000000                   0.000000   \n",
       "75%                  0.000000                   0.000000   \n",
       "max                  1.000000                   1.000000   \n",
       "\n",
       "       race_Amer-Indian-Eskimo  race_Asian-Pac-Islander    race_Black  \\\n",
       "count             32537.000000             32537.000000  32537.000000   \n",
       "mean                  0.009558                 0.031902      0.095952   \n",
       "std                   0.097300                 0.175742      0.294530   \n",
       "min                   0.000000                 0.000000      0.000000   \n",
       "25%                   0.000000                 0.000000      0.000000   \n",
       "50%                   0.000000                 0.000000      0.000000   \n",
       "75%                   0.000000                 0.000000      0.000000   \n",
       "max                   1.000000                 1.000000      1.000000   \n",
       "\n",
       "         race_Other    race_White  \n",
       "count  32537.000000  32537.000000  \n",
       "mean       0.008329      0.854258  \n",
       "std        0.090884      0.352853  \n",
       "min        0.000000      0.000000  \n",
       "25%        0.000000      1.000000  \n",
       "50%        0.000000      1.000000  \n",
       "75%        0.000000      1.000000  \n",
       "max        1.000000      1.000000  \n",
       "\n",
       "[8 rows x 56 columns]"
      ]
     },
     "execution_count": 7,
     "metadata": {},
     "output_type": "execute_result"
    }
   ],
   "source": [
    "# Antes de fazer a padronização, observe os valores das médias e dos desvios padrão de cada coluna\n",
    "df_treino.drop('income', axis=1).describe()"
   ]
  },
  {
   "cell_type": "code",
   "execution_count": 8,
   "id": "29c3bca0",
   "metadata": {},
   "outputs": [],
   "source": [
    "# Importando\n",
    "from sklearn.preprocessing import StandardScaler"
   ]
  },
  {
   "cell_type": "code",
   "execution_count": 9,
   "id": "cf71c6e1",
   "metadata": {},
   "outputs": [],
   "source": [
    "# Instanciando\n",
    "scaler = StandardScaler()"
   ]
  },
  {
   "cell_type": "code",
   "execution_count": 10,
   "id": "b6c9b9e1",
   "metadata": {},
   "outputs": [],
   "source": [
    "# Transformando os dados\n",
    "df_treino[df_treino.drop('income', axis=1).columns] = scaler.fit_transform(df_treino.drop('income', axis=1))"
   ]
  },
  {
   "cell_type": "code",
   "execution_count": 11,
   "id": "02a5b2e2",
   "metadata": {},
   "outputs": [
    {
     "data": {
      "text/html": [
       "<div>\n",
       "<style scoped>\n",
       "    .dataframe tbody tr th:only-of-type {\n",
       "        vertical-align: middle;\n",
       "    }\n",
       "\n",
       "    .dataframe tbody tr th {\n",
       "        vertical-align: top;\n",
       "    }\n",
       "\n",
       "    .dataframe thead th {\n",
       "        text-align: right;\n",
       "    }\n",
       "</style>\n",
       "<table border=\"1\" class=\"dataframe\">\n",
       "  <thead>\n",
       "    <tr style=\"text-align: right;\">\n",
       "      <th></th>\n",
       "      <th>education_num</th>\n",
       "      <th>sex</th>\n",
       "      <th>capital_gain</th>\n",
       "      <th>capital_loss</th>\n",
       "      <th>hours_check</th>\n",
       "      <th>age_check</th>\n",
       "      <th>married_check</th>\n",
       "      <th>workclass_check</th>\n",
       "      <th>occupation_check</th>\n",
       "      <th>native_country_?</th>\n",
       "      <th>...</th>\n",
       "      <th>native_country_Thailand</th>\n",
       "      <th>native_country_Trinadad&amp;Tobago</th>\n",
       "      <th>native_country_United-States</th>\n",
       "      <th>native_country_Vietnam</th>\n",
       "      <th>native_country_Yugoslavia</th>\n",
       "      <th>race_Amer-Indian-Eskimo</th>\n",
       "      <th>race_Asian-Pac-Islander</th>\n",
       "      <th>race_Black</th>\n",
       "      <th>race_Other</th>\n",
       "      <th>race_White</th>\n",
       "    </tr>\n",
       "  </thead>\n",
       "  <tbody>\n",
       "    <tr>\n",
       "      <th>count</th>\n",
       "      <td>32537.000</td>\n",
       "      <td>32537.000</td>\n",
       "      <td>32537.000</td>\n",
       "      <td>32537.000</td>\n",
       "      <td>32537.000</td>\n",
       "      <td>32537.000</td>\n",
       "      <td>32537.000</td>\n",
       "      <td>32537.000</td>\n",
       "      <td>32537.000</td>\n",
       "      <td>32537.000</td>\n",
       "      <td>...</td>\n",
       "      <td>32537.000</td>\n",
       "      <td>32537.000</td>\n",
       "      <td>32537.000</td>\n",
       "      <td>32537.000</td>\n",
       "      <td>32537.000</td>\n",
       "      <td>32537.000</td>\n",
       "      <td>32537.000</td>\n",
       "      <td>32537.000</td>\n",
       "      <td>32537.000</td>\n",
       "      <td>32537.000</td>\n",
       "    </tr>\n",
       "    <tr>\n",
       "      <th>mean</th>\n",
       "      <td>0.000</td>\n",
       "      <td>0.000</td>\n",
       "      <td>0.000</td>\n",
       "      <td>0.000</td>\n",
       "      <td>0.000</td>\n",
       "      <td>-0.000</td>\n",
       "      <td>0.000</td>\n",
       "      <td>-0.000</td>\n",
       "      <td>0.000</td>\n",
       "      <td>-0.000</td>\n",
       "      <td>...</td>\n",
       "      <td>0.000</td>\n",
       "      <td>-0.000</td>\n",
       "      <td>-0.000</td>\n",
       "      <td>0.000</td>\n",
       "      <td>-0.000</td>\n",
       "      <td>0.000</td>\n",
       "      <td>0.000</td>\n",
       "      <td>-0.000</td>\n",
       "      <td>-0.000</td>\n",
       "      <td>0.000</td>\n",
       "    </tr>\n",
       "    <tr>\n",
       "      <th>std</th>\n",
       "      <td>1.000</td>\n",
       "      <td>1.000</td>\n",
       "      <td>1.000</td>\n",
       "      <td>1.000</td>\n",
       "      <td>1.000</td>\n",
       "      <td>1.000</td>\n",
       "      <td>1.000</td>\n",
       "      <td>1.000</td>\n",
       "      <td>1.000</td>\n",
       "      <td>1.000</td>\n",
       "      <td>...</td>\n",
       "      <td>1.000</td>\n",
       "      <td>1.000</td>\n",
       "      <td>1.000</td>\n",
       "      <td>1.000</td>\n",
       "      <td>1.000</td>\n",
       "      <td>1.000</td>\n",
       "      <td>1.000</td>\n",
       "      <td>1.000</td>\n",
       "      <td>1.000</td>\n",
       "      <td>1.000</td>\n",
       "    </tr>\n",
       "    <tr>\n",
       "      <th>min</th>\n",
       "      <td>-1.619</td>\n",
       "      <td>-1.422</td>\n",
       "      <td>-0.146</td>\n",
       "      <td>-0.217</td>\n",
       "      <td>-1.681</td>\n",
       "      <td>-2.387</td>\n",
       "      <td>-0.924</td>\n",
       "      <td>-1.756</td>\n",
       "      <td>-1.521</td>\n",
       "      <td>-0.135</td>\n",
       "      <td>...</td>\n",
       "      <td>-0.024</td>\n",
       "      <td>-0.024</td>\n",
       "      <td>-2.935</td>\n",
       "      <td>-0.045</td>\n",
       "      <td>-0.022</td>\n",
       "      <td>-0.098</td>\n",
       "      <td>-0.182</td>\n",
       "      <td>-0.326</td>\n",
       "      <td>-0.092</td>\n",
       "      <td>-2.421</td>\n",
       "    </tr>\n",
       "    <tr>\n",
       "      <th>25%</th>\n",
       "      <td>-0.753</td>\n",
       "      <td>-1.422</td>\n",
       "      <td>-0.146</td>\n",
       "      <td>-0.217</td>\n",
       "      <td>-0.077</td>\n",
       "      <td>0.060</td>\n",
       "      <td>-0.924</td>\n",
       "      <td>-0.407</td>\n",
       "      <td>-0.617</td>\n",
       "      <td>-0.135</td>\n",
       "      <td>...</td>\n",
       "      <td>-0.024</td>\n",
       "      <td>-0.024</td>\n",
       "      <td>0.341</td>\n",
       "      <td>-0.045</td>\n",
       "      <td>-0.022</td>\n",
       "      <td>-0.098</td>\n",
       "      <td>-0.182</td>\n",
       "      <td>-0.326</td>\n",
       "      <td>-0.092</td>\n",
       "      <td>0.413</td>\n",
       "    </tr>\n",
       "    <tr>\n",
       "      <th>50%</th>\n",
       "      <td>0.114</td>\n",
       "      <td>0.703</td>\n",
       "      <td>-0.146</td>\n",
       "      <td>-0.217</td>\n",
       "      <td>-0.077</td>\n",
       "      <td>0.060</td>\n",
       "      <td>-0.924</td>\n",
       "      <td>-0.407</td>\n",
       "      <td>0.286</td>\n",
       "      <td>-0.135</td>\n",
       "      <td>...</td>\n",
       "      <td>-0.024</td>\n",
       "      <td>-0.024</td>\n",
       "      <td>0.341</td>\n",
       "      <td>-0.045</td>\n",
       "      <td>-0.022</td>\n",
       "      <td>-0.098</td>\n",
       "      <td>-0.182</td>\n",
       "      <td>-0.326</td>\n",
       "      <td>-0.092</td>\n",
       "      <td>0.413</td>\n",
       "    </tr>\n",
       "    <tr>\n",
       "      <th>75%</th>\n",
       "      <td>0.114</td>\n",
       "      <td>0.703</td>\n",
       "      <td>-0.146</td>\n",
       "      <td>-0.217</td>\n",
       "      <td>-0.077</td>\n",
       "      <td>0.060</td>\n",
       "      <td>1.082</td>\n",
       "      <td>-0.407</td>\n",
       "      <td>1.189</td>\n",
       "      <td>-0.135</td>\n",
       "      <td>...</td>\n",
       "      <td>-0.024</td>\n",
       "      <td>-0.024</td>\n",
       "      <td>0.341</td>\n",
       "      <td>-0.045</td>\n",
       "      <td>-0.022</td>\n",
       "      <td>-0.098</td>\n",
       "      <td>-0.182</td>\n",
       "      <td>-0.326</td>\n",
       "      <td>-0.092</td>\n",
       "      <td>0.413</td>\n",
       "    </tr>\n",
       "    <tr>\n",
       "      <th>max</th>\n",
       "      <td>3.580</td>\n",
       "      <td>0.703</td>\n",
       "      <td>13.390</td>\n",
       "      <td>10.590</td>\n",
       "      <td>1.528</td>\n",
       "      <td>2.506</td>\n",
       "      <td>1.082</td>\n",
       "      <td>2.292</td>\n",
       "      <td>1.189</td>\n",
       "      <td>7.410</td>\n",
       "      <td>...</td>\n",
       "      <td>42.504</td>\n",
       "      <td>41.370</td>\n",
       "      <td>0.341</td>\n",
       "      <td>22.014</td>\n",
       "      <td>45.084</td>\n",
       "      <td>10.179</td>\n",
       "      <td>5.509</td>\n",
       "      <td>3.070</td>\n",
       "      <td>10.912</td>\n",
       "      <td>0.413</td>\n",
       "    </tr>\n",
       "  </tbody>\n",
       "</table>\n",
       "<p>8 rows × 56 columns</p>\n",
       "</div>"
      ],
      "text/plain": [
       "       education_num        sex  capital_gain  capital_loss  hours_check  \\\n",
       "count      32537.000  32537.000     32537.000     32537.000    32537.000   \n",
       "mean           0.000      0.000         0.000         0.000        0.000   \n",
       "std            1.000      1.000         1.000         1.000        1.000   \n",
       "min           -1.619     -1.422        -0.146        -0.217       -1.681   \n",
       "25%           -0.753     -1.422        -0.146        -0.217       -0.077   \n",
       "50%            0.114      0.703        -0.146        -0.217       -0.077   \n",
       "75%            0.114      0.703        -0.146        -0.217       -0.077   \n",
       "max            3.580      0.703        13.390        10.590        1.528   \n",
       "\n",
       "       age_check  married_check  workclass_check  occupation_check  \\\n",
       "count  32537.000      32537.000        32537.000         32537.000   \n",
       "mean      -0.000          0.000           -0.000             0.000   \n",
       "std        1.000          1.000            1.000             1.000   \n",
       "min       -2.387         -0.924           -1.756            -1.521   \n",
       "25%        0.060         -0.924           -0.407            -0.617   \n",
       "50%        0.060         -0.924           -0.407             0.286   \n",
       "75%        0.060          1.082           -0.407             1.189   \n",
       "max        2.506          1.082            2.292             1.189   \n",
       "\n",
       "       native_country_?  ...  native_country_Thailand  \\\n",
       "count         32537.000  ...                32537.000   \n",
       "mean             -0.000  ...                    0.000   \n",
       "std               1.000  ...                    1.000   \n",
       "min              -0.135  ...                   -0.024   \n",
       "25%              -0.135  ...                   -0.024   \n",
       "50%              -0.135  ...                   -0.024   \n",
       "75%              -0.135  ...                   -0.024   \n",
       "max               7.410  ...                   42.504   \n",
       "\n",
       "       native_country_Trinadad&Tobago  native_country_United-States  \\\n",
       "count                       32537.000                     32537.000   \n",
       "mean                           -0.000                        -0.000   \n",
       "std                             1.000                         1.000   \n",
       "min                            -0.024                        -2.935   \n",
       "25%                            -0.024                         0.341   \n",
       "50%                            -0.024                         0.341   \n",
       "75%                            -0.024                         0.341   \n",
       "max                            41.370                         0.341   \n",
       "\n",
       "       native_country_Vietnam  native_country_Yugoslavia  \\\n",
       "count               32537.000                  32537.000   \n",
       "mean                    0.000                     -0.000   \n",
       "std                     1.000                      1.000   \n",
       "min                    -0.045                     -0.022   \n",
       "25%                    -0.045                     -0.022   \n",
       "50%                    -0.045                     -0.022   \n",
       "75%                    -0.045                     -0.022   \n",
       "max                    22.014                     45.084   \n",
       "\n",
       "       race_Amer-Indian-Eskimo  race_Asian-Pac-Islander  race_Black  \\\n",
       "count                32537.000                32537.000   32537.000   \n",
       "mean                     0.000                    0.000      -0.000   \n",
       "std                      1.000                    1.000       1.000   \n",
       "min                     -0.098                   -0.182      -0.326   \n",
       "25%                     -0.098                   -0.182      -0.326   \n",
       "50%                     -0.098                   -0.182      -0.326   \n",
       "75%                     -0.098                   -0.182      -0.326   \n",
       "max                     10.179                    5.509       3.070   \n",
       "\n",
       "       race_Other  race_White  \n",
       "count   32537.000   32537.000  \n",
       "mean       -0.000       0.000  \n",
       "std         1.000       1.000  \n",
       "min        -0.092      -2.421  \n",
       "25%        -0.092       0.413  \n",
       "50%        -0.092       0.413  \n",
       "75%        -0.092       0.413  \n",
       "max        10.912       0.413  \n",
       "\n",
       "[8 rows x 56 columns]"
      ]
     },
     "execution_count": 11,
     "metadata": {},
     "output_type": "execute_result"
    }
   ],
   "source": [
    "# Analisando os dados transformandos com média igual 0 e desvio padrão igual a 1\n",
    "df_treino.drop('income', axis=1).describe().round(3)"
   ]
  },
  {
   "cell_type": "markdown",
   "id": "62d9d469",
   "metadata": {},
   "source": [
    "- **Base de Teste**"
   ]
  },
  {
   "cell_type": "code",
   "execution_count": 12,
   "id": "160e097f",
   "metadata": {},
   "outputs": [],
   "source": [
    "# Transformando os dados\n",
    "df_teste[df_teste.drop('income', axis=1).columns] = scaler.transform(df_teste.drop('income', axis=1))"
   ]
  },
  {
   "cell_type": "code",
   "execution_count": 13,
   "id": "613be651",
   "metadata": {
    "scrolled": true
   },
   "outputs": [
    {
     "data": {
      "text/html": [
       "<div>\n",
       "<style scoped>\n",
       "    .dataframe tbody tr th:only-of-type {\n",
       "        vertical-align: middle;\n",
       "    }\n",
       "\n",
       "    .dataframe tbody tr th {\n",
       "        vertical-align: top;\n",
       "    }\n",
       "\n",
       "    .dataframe thead th {\n",
       "        text-align: right;\n",
       "    }\n",
       "</style>\n",
       "<table border=\"1\" class=\"dataframe\">\n",
       "  <thead>\n",
       "    <tr style=\"text-align: right;\">\n",
       "      <th></th>\n",
       "      <th>education_num</th>\n",
       "      <th>sex</th>\n",
       "      <th>capital_gain</th>\n",
       "      <th>capital_loss</th>\n",
       "      <th>hours_check</th>\n",
       "      <th>age_check</th>\n",
       "      <th>married_check</th>\n",
       "      <th>workclass_check</th>\n",
       "      <th>occupation_check</th>\n",
       "      <th>native_country_?</th>\n",
       "      <th>...</th>\n",
       "      <th>native_country_Thailand</th>\n",
       "      <th>native_country_Trinadad&amp;Tobago</th>\n",
       "      <th>native_country_United-States</th>\n",
       "      <th>native_country_Vietnam</th>\n",
       "      <th>native_country_Yugoslavia</th>\n",
       "      <th>race_Amer-Indian-Eskimo</th>\n",
       "      <th>race_Asian-Pac-Islander</th>\n",
       "      <th>race_Black</th>\n",
       "      <th>race_Other</th>\n",
       "      <th>race_White</th>\n",
       "    </tr>\n",
       "  </thead>\n",
       "  <tbody>\n",
       "    <tr>\n",
       "      <th>count</th>\n",
       "      <td>16276.000</td>\n",
       "      <td>16276.000</td>\n",
       "      <td>16276.000</td>\n",
       "      <td>16276.000</td>\n",
       "      <td>16276.000</td>\n",
       "      <td>16276.000</td>\n",
       "      <td>16276.000</td>\n",
       "      <td>16276.000</td>\n",
       "      <td>16276.000</td>\n",
       "      <td>16276.000</td>\n",
       "      <td>...</td>\n",
       "      <td>16276.000</td>\n",
       "      <td>16276.000</td>\n",
       "      <td>16276.000</td>\n",
       "      <td>16276.000</td>\n",
       "      <td>16276.000</td>\n",
       "      <td>16276.000</td>\n",
       "      <td>16276.000</td>\n",
       "      <td>16276.000</td>\n",
       "      <td>16276.000</td>\n",
       "      <td>16276.000</td>\n",
       "    </tr>\n",
       "    <tr>\n",
       "      <th>mean</th>\n",
       "      <td>-0.006</td>\n",
       "      <td>-0.005</td>\n",
       "      <td>0.001</td>\n",
       "      <td>0.001</td>\n",
       "      <td>-0.003</td>\n",
       "      <td>0.012</td>\n",
       "      <td>-0.010</td>\n",
       "      <td>0.010</td>\n",
       "      <td>-0.005</td>\n",
       "      <td>-0.008</td>\n",
       "      <td>...</td>\n",
       "      <td>0.008</td>\n",
       "      <td>-0.004</td>\n",
       "      <td>0.015</td>\n",
       "      <td>-0.020</td>\n",
       "      <td>-0.003</td>\n",
       "      <td>0.002</td>\n",
       "      <td>-0.014</td>\n",
       "      <td>-0.000</td>\n",
       "      <td>-0.000</td>\n",
       "      <td>0.006</td>\n",
       "    </tr>\n",
       "    <tr>\n",
       "      <th>std</th>\n",
       "      <td>0.990</td>\n",
       "      <td>1.002</td>\n",
       "      <td>1.027</td>\n",
       "      <td>1.000</td>\n",
       "      <td>1.001</td>\n",
       "      <td>1.025</td>\n",
       "      <td>0.999</td>\n",
       "      <td>1.015</td>\n",
       "      <td>1.005</td>\n",
       "      <td>0.971</td>\n",
       "      <td>...</td>\n",
       "      <td>1.154</td>\n",
       "      <td>0.918</td>\n",
       "      <td>0.980</td>\n",
       "      <td>0.753</td>\n",
       "      <td>0.935</td>\n",
       "      <td>1.011</td>\n",
       "      <td>0.963</td>\n",
       "      <td>1.000</td>\n",
       "      <td>0.998</td>\n",
       "      <td>0.994</td>\n",
       "    </tr>\n",
       "    <tr>\n",
       "      <th>min</th>\n",
       "      <td>-1.619</td>\n",
       "      <td>-1.422</td>\n",
       "      <td>-0.146</td>\n",
       "      <td>-0.217</td>\n",
       "      <td>-1.681</td>\n",
       "      <td>-2.387</td>\n",
       "      <td>-0.924</td>\n",
       "      <td>-1.756</td>\n",
       "      <td>-1.521</td>\n",
       "      <td>-0.135</td>\n",
       "      <td>...</td>\n",
       "      <td>-0.024</td>\n",
       "      <td>-0.024</td>\n",
       "      <td>-2.935</td>\n",
       "      <td>-0.045</td>\n",
       "      <td>-0.022</td>\n",
       "      <td>-0.098</td>\n",
       "      <td>-0.182</td>\n",
       "      <td>-0.326</td>\n",
       "      <td>-0.092</td>\n",
       "      <td>-2.421</td>\n",
       "    </tr>\n",
       "    <tr>\n",
       "      <th>25%</th>\n",
       "      <td>-0.753</td>\n",
       "      <td>-1.422</td>\n",
       "      <td>-0.146</td>\n",
       "      <td>-0.217</td>\n",
       "      <td>-0.077</td>\n",
       "      <td>0.060</td>\n",
       "      <td>-0.924</td>\n",
       "      <td>-0.407</td>\n",
       "      <td>-0.617</td>\n",
       "      <td>-0.135</td>\n",
       "      <td>...</td>\n",
       "      <td>-0.024</td>\n",
       "      <td>-0.024</td>\n",
       "      <td>0.341</td>\n",
       "      <td>-0.045</td>\n",
       "      <td>-0.022</td>\n",
       "      <td>-0.098</td>\n",
       "      <td>-0.182</td>\n",
       "      <td>-0.326</td>\n",
       "      <td>-0.092</td>\n",
       "      <td>0.413</td>\n",
       "    </tr>\n",
       "    <tr>\n",
       "      <th>50%</th>\n",
       "      <td>0.114</td>\n",
       "      <td>0.703</td>\n",
       "      <td>-0.146</td>\n",
       "      <td>-0.217</td>\n",
       "      <td>-0.077</td>\n",
       "      <td>0.060</td>\n",
       "      <td>-0.924</td>\n",
       "      <td>-0.407</td>\n",
       "      <td>0.286</td>\n",
       "      <td>-0.135</td>\n",
       "      <td>...</td>\n",
       "      <td>-0.024</td>\n",
       "      <td>-0.024</td>\n",
       "      <td>0.341</td>\n",
       "      <td>-0.045</td>\n",
       "      <td>-0.022</td>\n",
       "      <td>-0.098</td>\n",
       "      <td>-0.182</td>\n",
       "      <td>-0.326</td>\n",
       "      <td>-0.092</td>\n",
       "      <td>0.413</td>\n",
       "    </tr>\n",
       "    <tr>\n",
       "      <th>75%</th>\n",
       "      <td>0.114</td>\n",
       "      <td>0.703</td>\n",
       "      <td>-0.146</td>\n",
       "      <td>-0.217</td>\n",
       "      <td>-0.077</td>\n",
       "      <td>0.060</td>\n",
       "      <td>1.082</td>\n",
       "      <td>0.943</td>\n",
       "      <td>1.189</td>\n",
       "      <td>-0.135</td>\n",
       "      <td>...</td>\n",
       "      <td>-0.024</td>\n",
       "      <td>-0.024</td>\n",
       "      <td>0.341</td>\n",
       "      <td>-0.045</td>\n",
       "      <td>-0.022</td>\n",
       "      <td>-0.098</td>\n",
       "      <td>-0.182</td>\n",
       "      <td>-0.326</td>\n",
       "      <td>-0.092</td>\n",
       "      <td>0.413</td>\n",
       "    </tr>\n",
       "    <tr>\n",
       "      <th>max</th>\n",
       "      <td>3.580</td>\n",
       "      <td>0.703</td>\n",
       "      <td>13.390</td>\n",
       "      <td>9.136</td>\n",
       "      <td>1.528</td>\n",
       "      <td>2.506</td>\n",
       "      <td>1.082</td>\n",
       "      <td>2.292</td>\n",
       "      <td>1.189</td>\n",
       "      <td>7.410</td>\n",
       "      <td>...</td>\n",
       "      <td>42.504</td>\n",
       "      <td>41.370</td>\n",
       "      <td>0.341</td>\n",
       "      <td>22.014</td>\n",
       "      <td>45.084</td>\n",
       "      <td>10.179</td>\n",
       "      <td>5.509</td>\n",
       "      <td>3.070</td>\n",
       "      <td>10.912</td>\n",
       "      <td>0.413</td>\n",
       "    </tr>\n",
       "  </tbody>\n",
       "</table>\n",
       "<p>8 rows × 56 columns</p>\n",
       "</div>"
      ],
      "text/plain": [
       "       education_num        sex  capital_gain  capital_loss  hours_check  \\\n",
       "count      16276.000  16276.000     16276.000     16276.000    16276.000   \n",
       "mean          -0.006     -0.005         0.001         0.001       -0.003   \n",
       "std            0.990      1.002         1.027         1.000        1.001   \n",
       "min           -1.619     -1.422        -0.146        -0.217       -1.681   \n",
       "25%           -0.753     -1.422        -0.146        -0.217       -0.077   \n",
       "50%            0.114      0.703        -0.146        -0.217       -0.077   \n",
       "75%            0.114      0.703        -0.146        -0.217       -0.077   \n",
       "max            3.580      0.703        13.390         9.136        1.528   \n",
       "\n",
       "       age_check  married_check  workclass_check  occupation_check  \\\n",
       "count  16276.000      16276.000        16276.000         16276.000   \n",
       "mean       0.012         -0.010            0.010            -0.005   \n",
       "std        1.025          0.999            1.015             1.005   \n",
       "min       -2.387         -0.924           -1.756            -1.521   \n",
       "25%        0.060         -0.924           -0.407            -0.617   \n",
       "50%        0.060         -0.924           -0.407             0.286   \n",
       "75%        0.060          1.082            0.943             1.189   \n",
       "max        2.506          1.082            2.292             1.189   \n",
       "\n",
       "       native_country_?  ...  native_country_Thailand  \\\n",
       "count         16276.000  ...                16276.000   \n",
       "mean             -0.008  ...                    0.008   \n",
       "std               0.971  ...                    1.154   \n",
       "min              -0.135  ...                   -0.024   \n",
       "25%              -0.135  ...                   -0.024   \n",
       "50%              -0.135  ...                   -0.024   \n",
       "75%              -0.135  ...                   -0.024   \n",
       "max               7.410  ...                   42.504   \n",
       "\n",
       "       native_country_Trinadad&Tobago  native_country_United-States  \\\n",
       "count                       16276.000                     16276.000   \n",
       "mean                           -0.004                         0.015   \n",
       "std                             0.918                         0.980   \n",
       "min                            -0.024                        -2.935   \n",
       "25%                            -0.024                         0.341   \n",
       "50%                            -0.024                         0.341   \n",
       "75%                            -0.024                         0.341   \n",
       "max                            41.370                         0.341   \n",
       "\n",
       "       native_country_Vietnam  native_country_Yugoslavia  \\\n",
       "count               16276.000                  16276.000   \n",
       "mean                   -0.020                     -0.003   \n",
       "std                     0.753                      0.935   \n",
       "min                    -0.045                     -0.022   \n",
       "25%                    -0.045                     -0.022   \n",
       "50%                    -0.045                     -0.022   \n",
       "75%                    -0.045                     -0.022   \n",
       "max                    22.014                     45.084   \n",
       "\n",
       "       race_Amer-Indian-Eskimo  race_Asian-Pac-Islander  race_Black  \\\n",
       "count                16276.000                16276.000   16276.000   \n",
       "mean                     0.002                   -0.014      -0.000   \n",
       "std                      1.011                    0.963       1.000   \n",
       "min                     -0.098                   -0.182      -0.326   \n",
       "25%                     -0.098                   -0.182      -0.326   \n",
       "50%                     -0.098                   -0.182      -0.326   \n",
       "75%                     -0.098                   -0.182      -0.326   \n",
       "max                     10.179                    5.509       3.070   \n",
       "\n",
       "       race_Other  race_White  \n",
       "count   16276.000   16276.000  \n",
       "mean       -0.000       0.006  \n",
       "std         0.998       0.994  \n",
       "min        -0.092      -2.421  \n",
       "25%        -0.092       0.413  \n",
       "50%        -0.092       0.413  \n",
       "75%        -0.092       0.413  \n",
       "max        10.912       0.413  \n",
       "\n",
       "[8 rows x 56 columns]"
      ]
     },
     "execution_count": 13,
     "metadata": {},
     "output_type": "execute_result"
    }
   ],
   "source": [
    "# Analisando os dados transformandos com média igual 0 e desvio padrão igual a 1\n",
    "df_teste.drop('income', axis=1).describe().round(3)"
   ]
  },
  {
   "cell_type": "markdown",
   "id": "96e9417f",
   "metadata": {},
   "source": [
    "**___________________________________________________________________________________________________________________________**\n",
    "\n",
    "<a id='feat'></a>\n",
    "# SELEÇÃO DE FEATURES\n",
    "- Seleciona as variáveis ou atributos mais relevantes para o modelo e descartar aquelas que são irrelevantes, redundantes ou ruidosas.\n",
    "- A seleção dos recursos será baseado no RandomForest que já possue cálculos da importância das features."
   ]
  },
  {
   "cell_type": "code",
   "execution_count": 14,
   "id": "be3094eb",
   "metadata": {},
   "outputs": [
    {
     "data": {
      "text/plain": [
       "income                                       1.000000\n",
       "married_check                                0.445202\n",
       "education_num                                0.352113\n",
       "occupation_check                             0.330871\n",
       "hours_check                                  0.255751\n",
       "capital_gain                                 0.223336\n",
       "sex                                          0.215969\n",
       "capital_loss                                 0.150501\n",
       "workclass_check                              0.143448\n",
       "age_check                                    0.129568\n",
       "race_White                                   0.085235\n",
       "native_country_United-States                 0.034206\n",
       "native_country_India                         0.020654\n",
       "native_country_Iran                          0.015114\n",
       "native_country_Japan                         0.014935\n",
       "native_country_Taiwan                        0.014012\n",
       "native_country_Philippines                   0.012288\n",
       "native_country_Germany                       0.012201\n",
       "native_country_France                        0.012074\n",
       "native_country_Canada                        0.011628\n",
       "native_country_England                       0.011380\n",
       "native_country_Italy                         0.011259\n",
       "race_Asian-Pac-Islander                      0.010600\n",
       "native_country_Cambodia                      0.007207\n",
       "native_country_Yugoslavia                    0.006954\n",
       "native_country_Hong                          0.003426\n",
       "native_country_?                             0.003135\n",
       "native_country_China                         0.002893\n",
       "native_country_Cuba                          0.002813\n",
       "native_country_Greece                        0.002440\n",
       "native_country_Scotland                      0.000408\n",
       "native_country_Hungary                      -0.000475\n",
       "native_country_Ireland                      -0.002071\n",
       "native_country_Holand-Netherlands           -0.003123\n",
       "native_country_Thailand                     -0.004085\n",
       "native_country_Poland                       -0.004113\n",
       "native_country_South                        -0.004751\n",
       "native_country_Ecuador                      -0.006730\n",
       "native_country_Laos                         -0.007142\n",
       "native_country_Honduras                     -0.007667\n",
       "native_country_Trinadad&Tobago              -0.007668\n",
       "native_country_Portugal                     -0.010479\n",
       "native_country_Outlying-US(Guam-USVI-etc)   -0.011689\n",
       "native_country_Peru                         -0.012739\n",
       "native_country_Haiti                        -0.012909\n",
       "native_country_Jamaica                      -0.013723\n",
       "native_country_Nicaragua                    -0.013772\n",
       "native_country_Vietnam                      -0.017665\n",
       "native_country_Puerto-Rico                  -0.018811\n",
       "native_country_Guatemala                    -0.019672\n",
       "native_country_Columbia                     -0.020634\n",
       "native_country_El-Salvador                  -0.020858\n",
       "native_country_Dominican-Republic           -0.023057\n",
       "race_Amer-Indian-Eskimo                     -0.028754\n",
       "race_Other                                  -0.031861\n",
       "native_country_Mexico                       -0.062646\n",
       "race_Black                                  -0.089107\n",
       "Name: income, dtype: float64"
      ]
     },
     "execution_count": 14,
     "metadata": {},
     "output_type": "execute_result"
    }
   ],
   "source": [
    "# Analisando as colunas que mais se relacionam com a nossa coluna target income\n",
    "df_treino.corr()['income'].sort_values(ascending=False)"
   ]
  },
  {
   "cell_type": "code",
   "execution_count": 15,
   "id": "31456339",
   "metadata": {},
   "outputs": [],
   "source": [
    "# Separando a base\n",
    "X_importance = df_treino.drop('income',axis=1)\n",
    "y_importance = df_treino['income']"
   ]
  },
  {
   "cell_type": "code",
   "execution_count": 16,
   "id": "1507d966",
   "metadata": {},
   "outputs": [
    {
     "data": {
      "text/html": [
       "<style>#sk-container-id-1 {color: black;background-color: white;}#sk-container-id-1 pre{padding: 0;}#sk-container-id-1 div.sk-toggleable {background-color: white;}#sk-container-id-1 label.sk-toggleable__label {cursor: pointer;display: block;width: 100%;margin-bottom: 0;padding: 0.3em;box-sizing: border-box;text-align: center;}#sk-container-id-1 label.sk-toggleable__label-arrow:before {content: \"▸\";float: left;margin-right: 0.25em;color: #696969;}#sk-container-id-1 label.sk-toggleable__label-arrow:hover:before {color: black;}#sk-container-id-1 div.sk-estimator:hover label.sk-toggleable__label-arrow:before {color: black;}#sk-container-id-1 div.sk-toggleable__content {max-height: 0;max-width: 0;overflow: hidden;text-align: left;background-color: #f0f8ff;}#sk-container-id-1 div.sk-toggleable__content pre {margin: 0.2em;color: black;border-radius: 0.25em;background-color: #f0f8ff;}#sk-container-id-1 input.sk-toggleable__control:checked~div.sk-toggleable__content {max-height: 200px;max-width: 100%;overflow: auto;}#sk-container-id-1 input.sk-toggleable__control:checked~label.sk-toggleable__label-arrow:before {content: \"▾\";}#sk-container-id-1 div.sk-estimator input.sk-toggleable__control:checked~label.sk-toggleable__label {background-color: #d4ebff;}#sk-container-id-1 div.sk-label input.sk-toggleable__control:checked~label.sk-toggleable__label {background-color: #d4ebff;}#sk-container-id-1 input.sk-hidden--visually {border: 0;clip: rect(1px 1px 1px 1px);clip: rect(1px, 1px, 1px, 1px);height: 1px;margin: -1px;overflow: hidden;padding: 0;position: absolute;width: 1px;}#sk-container-id-1 div.sk-estimator {font-family: monospace;background-color: #f0f8ff;border: 1px dotted black;border-radius: 0.25em;box-sizing: border-box;margin-bottom: 0.5em;}#sk-container-id-1 div.sk-estimator:hover {background-color: #d4ebff;}#sk-container-id-1 div.sk-parallel-item::after {content: \"\";width: 100%;border-bottom: 1px solid gray;flex-grow: 1;}#sk-container-id-1 div.sk-label:hover label.sk-toggleable__label {background-color: #d4ebff;}#sk-container-id-1 div.sk-serial::before {content: \"\";position: absolute;border-left: 1px solid gray;box-sizing: border-box;top: 0;bottom: 0;left: 50%;z-index: 0;}#sk-container-id-1 div.sk-serial {display: flex;flex-direction: column;align-items: center;background-color: white;padding-right: 0.2em;padding-left: 0.2em;position: relative;}#sk-container-id-1 div.sk-item {position: relative;z-index: 1;}#sk-container-id-1 div.sk-parallel {display: flex;align-items: stretch;justify-content: center;background-color: white;position: relative;}#sk-container-id-1 div.sk-item::before, #sk-container-id-1 div.sk-parallel-item::before {content: \"\";position: absolute;border-left: 1px solid gray;box-sizing: border-box;top: 0;bottom: 0;left: 50%;z-index: -1;}#sk-container-id-1 div.sk-parallel-item {display: flex;flex-direction: column;z-index: 1;position: relative;background-color: white;}#sk-container-id-1 div.sk-parallel-item:first-child::after {align-self: flex-end;width: 50%;}#sk-container-id-1 div.sk-parallel-item:last-child::after {align-self: flex-start;width: 50%;}#sk-container-id-1 div.sk-parallel-item:only-child::after {width: 0;}#sk-container-id-1 div.sk-dashed-wrapped {border: 1px dashed gray;margin: 0 0.4em 0.5em 0.4em;box-sizing: border-box;padding-bottom: 0.4em;background-color: white;}#sk-container-id-1 div.sk-label label {font-family: monospace;font-weight: bold;display: inline-block;line-height: 1.2em;}#sk-container-id-1 div.sk-label-container {text-align: center;}#sk-container-id-1 div.sk-container {/* jupyter's `normalize.less` sets `[hidden] { display: none; }` but bootstrap.min.css set `[hidden] { display: none !important; }` so we also need the `!important` here to be able to override the default hidden behavior on the sphinx rendered scikit-learn.org. See: https://github.com/scikit-learn/scikit-learn/issues/21755 */display: inline-block !important;position: relative;}#sk-container-id-1 div.sk-text-repr-fallback {display: none;}</style><div id=\"sk-container-id-1\" class=\"sk-top-container\"><div class=\"sk-text-repr-fallback\"><pre>RandomForestClassifier(random_state=42)</pre><b>In a Jupyter environment, please rerun this cell to show the HTML representation or trust the notebook. <br />On GitHub, the HTML representation is unable to render, please try loading this page with nbviewer.org.</b></div><div class=\"sk-container\" hidden><div class=\"sk-item\"><div class=\"sk-estimator sk-toggleable\"><input class=\"sk-toggleable__control sk-hidden--visually\" id=\"sk-estimator-id-1\" type=\"checkbox\" checked><label for=\"sk-estimator-id-1\" class=\"sk-toggleable__label sk-toggleable__label-arrow\">RandomForestClassifier</label><div class=\"sk-toggleable__content\"><pre>RandomForestClassifier(random_state=42)</pre></div></div></div></div></div>"
      ],
      "text/plain": [
       "RandomForestClassifier(random_state=42)"
      ]
     },
     "execution_count": 16,
     "metadata": {},
     "output_type": "execute_result"
    }
   ],
   "source": [
    "# Importando\n",
    "from sklearn.ensemble import RandomForestClassifier\n",
    "\n",
    "# Criando um classificados\n",
    "clf=RandomForestClassifier(n_estimators=100, random_state=42)\n",
    "clf.fit(X_importance, y_importance)"
   ]
  },
  {
   "cell_type": "code",
   "execution_count": 17,
   "id": "8b67fd31",
   "metadata": {},
   "outputs": [
    {
     "data": {
      "text/plain": [
       "married_check                                0.241521\n",
       "capital_gain                                 0.208410\n",
       "education_num                                0.154498\n",
       "occupation_check                             0.105642\n",
       "capital_loss                                 0.078672\n",
       "hours_check                                  0.053948\n",
       "sex                                          0.036679\n",
       "workclass_check                              0.033090\n",
       "age_check                                    0.026278\n",
       "native_country_United-States                 0.006470\n",
       "race_White                                   0.006019\n",
       "race_Black                                   0.004475\n",
       "native_country_?                             0.004145\n",
       "native_country_Mexico                        0.004143\n",
       "race_Asian-Pac-Islander                      0.003364\n",
       "native_country_Canada                        0.002260\n",
       "race_Amer-Indian-Eskimo                      0.001967\n",
       "native_country_Germany                       0.001963\n",
       "native_country_Philippines                   0.001826\n",
       "native_country_England                       0.001741\n",
       "native_country_Italy                         0.001511\n",
       "race_Other                                   0.001499\n",
       "native_country_India                         0.001395\n",
       "native_country_Japan                         0.001354\n",
       "native_country_South                         0.001338\n",
       "native_country_Cuba                          0.001293\n",
       "native_country_Iran                          0.001009\n",
       "native_country_Puerto-Rico                   0.000893\n",
       "native_country_Poland                        0.000868\n",
       "native_country_Taiwan                        0.000819\n",
       "native_country_China                         0.000796\n",
       "native_country_France                        0.000790\n",
       "native_country_Jamaica                       0.000736\n",
       "native_country_Greece                        0.000678\n",
       "native_country_Cambodia                      0.000670\n",
       "native_country_Columbia                      0.000652\n",
       "native_country_Yugoslavia                    0.000613\n",
       "native_country_El-Salvador                   0.000563\n",
       "native_country_Vietnam                       0.000518\n",
       "native_country_Dominican-Republic            0.000505\n",
       "native_country_Guatemala                     0.000475\n",
       "native_country_Portugal                      0.000474\n",
       "native_country_Ireland                       0.000427\n",
       "native_country_Haiti                         0.000409\n",
       "native_country_Hungary                       0.000382\n",
       "native_country_Ecuador                       0.000366\n",
       "native_country_Hong                          0.000329\n",
       "native_country_Thailand                      0.000277\n",
       "native_country_Nicaragua                     0.000265\n",
       "native_country_Scotland                      0.000221\n",
       "native_country_Laos                          0.000214\n",
       "native_country_Trinadad&Tobago               0.000206\n",
       "native_country_Peru                          0.000200\n",
       "native_country_Outlying-US(Guam-USVI-etc)    0.000112\n",
       "native_country_Honduras                      0.000027\n",
       "native_country_Holand-Netherlands            0.000002\n",
       "dtype: float64"
      ]
     },
     "execution_count": 17,
     "metadata": {},
     "output_type": "execute_result"
    }
   ],
   "source": [
    "# Analisando a importância das features\n",
    "feature_imp = pd.Series(clf.feature_importances_,index=X_importance.columns).sort_values(ascending=False)\n",
    "feature_imp"
   ]
  },
  {
   "cell_type": "code",
   "execution_count": 18,
   "id": "12a54ed3",
   "metadata": {
    "scrolled": false
   },
   "outputs": [
    {
     "name": "stdout",
     "output_type": "stream",
     "text": [
      "married_check: 24%\n",
      "capital_gain: 21%\n",
      "education_num: 15%\n",
      "occupation_check: 11%\n",
      "capital_loss: 8%\n",
      "hours_check: 5%\n"
     ]
    }
   ],
   "source": [
    "# Selecionando as features de maior importância.\n",
    "features_selecionadas = []\n",
    "\n",
    "for feature, pontuacao in feature_imp.items():\n",
    "    if pontuacao >= 0.05:\n",
    "        print(f'{feature}: {round(pontuacao * 100)}%')\n",
    "        features_selecionadas.append(feature)"
   ]
  },
  {
   "cell_type": "code",
   "execution_count": 19,
   "id": "4e756bd7",
   "metadata": {
    "scrolled": false
   },
   "outputs": [
    {
     "name": "stdout",
     "output_type": "stream",
     "text": [
      "Colunas que serão removidas:  ['sex', 'age_check', 'workclass_check', 'native_country_?', 'native_country_Cambodia', 'native_country_Canada', 'native_country_China', 'native_country_Columbia', 'native_country_Cuba', 'native_country_Dominican-Republic', 'native_country_Ecuador', 'native_country_El-Salvador', 'native_country_England', 'native_country_France', 'native_country_Germany', 'native_country_Greece', 'native_country_Guatemala', 'native_country_Haiti', 'native_country_Holand-Netherlands', 'native_country_Honduras', 'native_country_Hong', 'native_country_Hungary', 'native_country_India', 'native_country_Iran', 'native_country_Ireland', 'native_country_Italy', 'native_country_Jamaica', 'native_country_Japan', 'native_country_Laos', 'native_country_Mexico', 'native_country_Nicaragua', 'native_country_Outlying-US(Guam-USVI-etc)', 'native_country_Peru', 'native_country_Philippines', 'native_country_Poland', 'native_country_Portugal', 'native_country_Puerto-Rico', 'native_country_Scotland', 'native_country_South', 'native_country_Taiwan', 'native_country_Thailand', 'native_country_Trinadad&Tobago', 'native_country_United-States', 'native_country_Vietnam', 'native_country_Yugoslavia', 'race_Amer-Indian-Eskimo', 'race_Asian-Pac-Islander', 'race_Black', 'race_Other', 'race_White']\n"
     ]
    }
   ],
   "source": [
    "# Seleciona as colunas que iremos remover com pontuações baixas\n",
    "remove_cols = [x for x in df_treino.drop('income', axis=1).columns if x not in features_selecionadas]\n",
    "\n",
    "print('Colunas que serão removidas: ', remove_cols)"
   ]
  },
  {
   "cell_type": "markdown",
   "id": "68020f89",
   "metadata": {},
   "source": [
    "## Removendo as colunas com pontuações baixas"
   ]
  },
  {
   "cell_type": "markdown",
   "id": "1c124132",
   "metadata": {},
   "source": [
    "- **Base de Treino**"
   ]
  },
  {
   "cell_type": "code",
   "execution_count": 20,
   "id": "83b5b8cc",
   "metadata": {},
   "outputs": [],
   "source": [
    "# Removendo as colunas\n",
    "df_treino.drop(remove_cols, axis=1, inplace=True)"
   ]
  },
  {
   "cell_type": "code",
   "execution_count": 21,
   "id": "05b6c461",
   "metadata": {
    "scrolled": false
   },
   "outputs": [
    {
     "data": {
      "text/html": [
       "<div>\n",
       "<style scoped>\n",
       "    .dataframe tbody tr th:only-of-type {\n",
       "        vertical-align: middle;\n",
       "    }\n",
       "\n",
       "    .dataframe tbody tr th {\n",
       "        vertical-align: top;\n",
       "    }\n",
       "\n",
       "    .dataframe thead th {\n",
       "        text-align: right;\n",
       "    }\n",
       "</style>\n",
       "<table border=\"1\" class=\"dataframe\">\n",
       "  <thead>\n",
       "    <tr style=\"text-align: right;\">\n",
       "      <th></th>\n",
       "      <th>education_num</th>\n",
       "      <th>capital_gain</th>\n",
       "      <th>capital_loss</th>\n",
       "      <th>income</th>\n",
       "      <th>hours_check</th>\n",
       "      <th>married_check</th>\n",
       "      <th>occupation_check</th>\n",
       "    </tr>\n",
       "  </thead>\n",
       "  <tbody>\n",
       "    <tr>\n",
       "      <th>0</th>\n",
       "      <td>0.980269</td>\n",
       "      <td>0.148292</td>\n",
       "      <td>-0.216743</td>\n",
       "      <td>0</td>\n",
       "      <td>-0.076781</td>\n",
       "      <td>-0.924443</td>\n",
       "      <td>-0.617460</td>\n",
       "    </tr>\n",
       "    <tr>\n",
       "      <th>1</th>\n",
       "      <td>0.980269</td>\n",
       "      <td>-0.145975</td>\n",
       "      <td>-0.216743</td>\n",
       "      <td>0</td>\n",
       "      <td>-1.681286</td>\n",
       "      <td>1.081733</td>\n",
       "      <td>1.188816</td>\n",
       "    </tr>\n",
       "    <tr>\n",
       "      <th>2</th>\n",
       "      <td>-0.752732</td>\n",
       "      <td>-0.145975</td>\n",
       "      <td>-0.216743</td>\n",
       "      <td>0</td>\n",
       "      <td>-0.076781</td>\n",
       "      <td>-0.924443</td>\n",
       "      <td>-1.520599</td>\n",
       "    </tr>\n",
       "  </tbody>\n",
       "</table>\n",
       "</div>"
      ],
      "text/plain": [
       "   education_num  capital_gain  capital_loss  income  hours_check  \\\n",
       "0       0.980269      0.148292     -0.216743       0    -0.076781   \n",
       "1       0.980269     -0.145975     -0.216743       0    -1.681286   \n",
       "2      -0.752732     -0.145975     -0.216743       0    -0.076781   \n",
       "\n",
       "   married_check  occupation_check  \n",
       "0      -0.924443         -0.617460  \n",
       "1       1.081733          1.188816  \n",
       "2      -0.924443         -1.520599  "
      ]
     },
     "execution_count": 21,
     "metadata": {},
     "output_type": "execute_result"
    }
   ],
   "source": [
    "# Visualizando a Base que será avaliada\n",
    "df_treino.head(3)"
   ]
  },
  {
   "cell_type": "markdown",
   "id": "ef928b04",
   "metadata": {},
   "source": [
    "- **Base de Teste**"
   ]
  },
  {
   "cell_type": "code",
   "execution_count": 22,
   "id": "aa311fdd",
   "metadata": {},
   "outputs": [],
   "source": [
    "# Removendo as colunas\n",
    "df_teste.drop(remove_cols, axis=1, inplace=True)"
   ]
  },
  {
   "cell_type": "code",
   "execution_count": 23,
   "id": "77128c8c",
   "metadata": {
    "scrolled": false
   },
   "outputs": [
    {
     "data": {
      "text/html": [
       "<div>\n",
       "<style scoped>\n",
       "    .dataframe tbody tr th:only-of-type {\n",
       "        vertical-align: middle;\n",
       "    }\n",
       "\n",
       "    .dataframe tbody tr th {\n",
       "        vertical-align: top;\n",
       "    }\n",
       "\n",
       "    .dataframe thead th {\n",
       "        text-align: right;\n",
       "    }\n",
       "</style>\n",
       "<table border=\"1\" class=\"dataframe\">\n",
       "  <thead>\n",
       "    <tr style=\"text-align: right;\">\n",
       "      <th></th>\n",
       "      <th>education_num</th>\n",
       "      <th>capital_gain</th>\n",
       "      <th>capital_loss</th>\n",
       "      <th>income</th>\n",
       "      <th>hours_check</th>\n",
       "      <th>married_check</th>\n",
       "      <th>occupation_check</th>\n",
       "    </tr>\n",
       "  </thead>\n",
       "  <tbody>\n",
       "    <tr>\n",
       "      <th>0</th>\n",
       "      <td>-0.752732</td>\n",
       "      <td>-0.145975</td>\n",
       "      <td>-0.216743</td>\n",
       "      <td>0</td>\n",
       "      <td>-0.076781</td>\n",
       "      <td>-0.924443</td>\n",
       "      <td>-0.617460</td>\n",
       "    </tr>\n",
       "    <tr>\n",
       "      <th>1</th>\n",
       "      <td>-0.752732</td>\n",
       "      <td>-0.145975</td>\n",
       "      <td>-0.216743</td>\n",
       "      <td>0</td>\n",
       "      <td>1.527724</td>\n",
       "      <td>1.081733</td>\n",
       "      <td>-0.617460</td>\n",
       "    </tr>\n",
       "    <tr>\n",
       "      <th>2</th>\n",
       "      <td>0.113769</td>\n",
       "      <td>-0.145975</td>\n",
       "      <td>-0.216743</td>\n",
       "      <td>1</td>\n",
       "      <td>-0.076781</td>\n",
       "      <td>1.081733</td>\n",
       "      <td>1.188816</td>\n",
       "    </tr>\n",
       "  </tbody>\n",
       "</table>\n",
       "</div>"
      ],
      "text/plain": [
       "   education_num  capital_gain  capital_loss  income  hours_check  \\\n",
       "0      -0.752732     -0.145975     -0.216743       0    -0.076781   \n",
       "1      -0.752732     -0.145975     -0.216743       0     1.527724   \n",
       "2       0.113769     -0.145975     -0.216743       1    -0.076781   \n",
       "\n",
       "   married_check  occupation_check  \n",
       "0      -0.924443         -0.617460  \n",
       "1       1.081733         -0.617460  \n",
       "2       1.081733          1.188816  "
      ]
     },
     "execution_count": 23,
     "metadata": {},
     "output_type": "execute_result"
    }
   ],
   "source": [
    "# Visualizando a Base que será avaliada\n",
    "df_teste.head(3)"
   ]
  },
  {
   "cell_type": "markdown",
   "id": "d403e579",
   "metadata": {},
   "source": [
    "**___________________________________________________________________________________________________________________________**\n",
    "\n",
    "<a id='modelagem'></a>\n",
    "# MODELAGEM E AVALIAÇÃO"
   ]
  },
  {
   "cell_type": "markdown",
   "id": "7a7c3c7f",
   "metadata": {},
   "source": [
    "### Modelos\n",
    "- Podemos selecionar algoritmos mais avançados dos que vimos nas partes anteriores.\n",
    "    - **Random Forest**\n",
    "        - https://scikit-learn.org/stable/modules/generated/sklearn.ensemble.RandomForestClassifier.html#sklearn.ensemble.RandomForestClassifier    \n",
    "    \n",
    "    - **DecisionTreeClassifier**\n",
    "        - https://scikit-learn.org/stable/modules/generated/sklearn.tree.DecisionTreeClassifier.html\n",
    "    \n",
    "    - **KNeighborsClassifier (KNN)**\n",
    "        - https://scikit-learn.org/stable/modules/generated/sklearn.neighbors.KNeighborsClassifier.html#sklearn.neighbors.KNeighborsClassifier\n",
    "    \n",
    "    - **MLPClassifier (Redes Neurais)**\n",
    "        - https://scikit-learn.org/stable/modules/generated/sklearn.neural_network.MLPClassifier.html#sklearn.neural_network.MLPClassifier\n"
   ]
  },
  {
   "cell_type": "markdown",
   "id": "cf6768d5",
   "metadata": {},
   "source": [
    "### Validação Cruzada\n",
    "\n",
    "- Para fazer essa análise, podemos usar:\n",
    "    - **CrossValPredict**\n",
    "        - https://scikit-learn.org/dev/modules/generated/sklearn.model_selection.cross_val_predict.html"
   ]
  },
  {
   "cell_type": "markdown",
   "id": "55c2e384",
   "metadata": {},
   "source": [
    "### Métricas de Validação\n",
    "\n",
    "- Para fazer essa análise, podemos usar:\n",
    "    - **Acurácia**\n",
    "        - https://scikit-learn.org/stable/modules/generated/sklearn.metrics.accuracy_score.html\n",
    "    - **Precisão**\n",
    "        - https://scikit-learn.org/stable/modules/generated/sklearn.metrics.precision_score.html\n",
    "    - **F1 Score**\n",
    "        - https://scikit-learn.org/stable/modules/generated/sklearn.metrics.f1_score.html\n",
    "    - **Matriz de confusão**\n",
    "        - https://scikit-learn.org/stable/modules/generated/sklearn.metrics.confusion_matrix.html\n",
    "    - **Relatório de Classificação**\n",
    "        - https://scikit-learn.org/stable/modules/generated/sklearn.metrics.classification_report.html"
   ]
  },
  {
   "cell_type": "markdown",
   "id": "528b9db5",
   "metadata": {},
   "source": [
    "## Função de Avaliação\n",
    "\n",
    "- Para facilitar nossa análise, vamos criar uma função para criar o modelo, avaliá-lo com a validação cruzada e por fim, esta função retornará o resultado do modelo.\n",
    "\n",
    "- Vamos executar esta função e sempre que quisermos avaliar nossos modelos, basta chamar a função e inserir como parâmetro o classificador."
   ]
  },
  {
   "cell_type": "code",
   "execution_count": 24,
   "id": "ba1ff3ce",
   "metadata": {},
   "outputs": [],
   "source": [
    "# Importando Classificadores\n",
    "from sklearn.ensemble import RandomForestClassifier\n",
    "from sklearn.tree import DecisionTreeClassifier\n",
    "from sklearn.neighbors import KNeighborsClassifier\n",
    "from sklearn.neural_network import MLPClassifier\n",
    "\n",
    "# Importando Validação Cruzada\n",
    "from sklearn.model_selection import cross_val_predict\n",
    "\n",
    "# Importando Métricas de Validação\n",
    "from sklearn.metrics import accuracy_score, precision_score, f1_score\n",
    "from sklearn.metrics import classification_report, confusion_matrix"
   ]
  },
  {
   "cell_type": "code",
   "execution_count": 25,
   "id": "bff85eec",
   "metadata": {},
   "outputs": [],
   "source": [
    "# Função para avaliação\n",
    "def avaliar(modelo):\n",
    "    \n",
    "    # Separando a base de treino em X e y\n",
    "    X = df_treino.drop('income',axis=1)\n",
    "    y = df_treino['income']\n",
    "\n",
    "    ###################### Modelo\n",
    "    # Criando o classificador\n",
    "    clf = modelo\n",
    "    y_pred = cross_val_predict(clf, X, y, cv=8)    \n",
    "    \n",
    "    # Acurácia\n",
    "    acc = accuracy_score(y, y_pred)\n",
    "    # Precisão\n",
    "    pre = precision_score(y, y_pred)\n",
    "    # F1 Score\n",
    "    f1 = f1_score(y, y_pred)\n",
    "    \n",
    "    print('Accuracy:', acc)\n",
    "    print('\\nPrecision:', pre)\n",
    "    print('\\nF1 Score:', f1)\n",
    "\n",
    "    # Relatório de classificação\n",
    "    print('\\n', classification_report(y, y_pred))\n",
    "\n",
    "    # Matriz de confusão\n",
    "    print('\\n', pd.crosstab(y, y_pred, rownames=['Real'], colnames=['Predito'], margins=True).reindex(index=[1, 0], columns=[1, 0], ))\n",
    "    \n",
    "    return acc, pre, f1"
   ]
  },
  {
   "cell_type": "markdown",
   "id": "ff8060ed",
   "metadata": {},
   "source": [
    "## Random Forest"
   ]
  },
  {
   "cell_type": "code",
   "execution_count": 26,
   "id": "10173299",
   "metadata": {
    "scrolled": false
   },
   "outputs": [
    {
     "name": "stdout",
     "output_type": "stream",
     "text": [
      "Accuracy: 0.8622798659987092\n",
      "\n",
      "Precision: 0.7654965211891208\n",
      "\n",
      "F1 Score: 0.6836122290475182\n",
      "\n",
      "               precision    recall  f1-score   support\n",
      "\n",
      "           0       0.89      0.94      0.91     24698\n",
      "           1       0.77      0.62      0.68      7839\n",
      "\n",
      "    accuracy                           0.86     32537\n",
      "   macro avg       0.83      0.78      0.80     32537\n",
      "weighted avg       0.86      0.86      0.86     32537\n",
      "\n",
      "\n",
      " Predito     1      0\n",
      "Real                \n",
      "1        4841   2998\n",
      "0        1483  23215\n"
     ]
    }
   ],
   "source": [
    "# Para Random Forest\n",
    "acc_rf, pre_rf, f1_rf = avaliar(RandomForestClassifier(random_state=42))"
   ]
  },
  {
   "cell_type": "markdown",
   "id": "4f10a06c",
   "metadata": {},
   "source": [
    "## Decision Tree"
   ]
  },
  {
   "cell_type": "code",
   "execution_count": 27,
   "id": "5b9a4e29",
   "metadata": {
    "scrolled": true
   },
   "outputs": [
    {
     "name": "stdout",
     "output_type": "stream",
     "text": [
      "Accuracy: 0.8629252850600855\n",
      "\n",
      "Precision: 0.7693288697592858\n",
      "\n",
      "F1 Score: 0.6839569160997733\n",
      "\n",
      "               precision    recall  f1-score   support\n",
      "\n",
      "           0       0.89      0.94      0.91     24698\n",
      "           1       0.77      0.62      0.68      7839\n",
      "\n",
      "    accuracy                           0.86     32537\n",
      "   macro avg       0.83      0.78      0.80     32537\n",
      "weighted avg       0.86      0.86      0.86     32537\n",
      "\n",
      "\n",
      " Predito     1      0\n",
      "Real                \n",
      "1        4826   3013\n",
      "0        1447  23251\n"
     ]
    }
   ],
   "source": [
    "# Para Decision Tree\n",
    "acc_dt, pre_dt, f1_dt = avaliar(DecisionTreeClassifier(random_state=42))"
   ]
  },
  {
   "cell_type": "markdown",
   "id": "75e875a0",
   "metadata": {},
   "source": [
    "## KNeighborsClassifier"
   ]
  },
  {
   "cell_type": "code",
   "execution_count": 28,
   "id": "805fda4d",
   "metadata": {},
   "outputs": [
    {
     "name": "stdout",
     "output_type": "stream",
     "text": [
      "Accuracy: 0.8332667424777945\n",
      "\n",
      "Precision: 0.6881234413965087\n",
      "\n",
      "F1 Score: 0.6194317783233954\n",
      "\n",
      "               precision    recall  f1-score   support\n",
      "\n",
      "           0       0.87      0.92      0.89     24698\n",
      "           1       0.69      0.56      0.62      7839\n",
      "\n",
      "    accuracy                           0.83     32537\n",
      "   macro avg       0.78      0.74      0.76     32537\n",
      "weighted avg       0.83      0.83      0.83     32537\n",
      "\n",
      "\n",
      " Predito     1      0\n",
      "Real                \n",
      "1        4415   3424\n",
      "0        2001  22697\n"
     ]
    }
   ],
   "source": [
    "# Para KNeighborsClassifier\n",
    "acc_knn, pre_knn, f1_knn = avaliar(KNeighborsClassifier())"
   ]
  },
  {
   "cell_type": "markdown",
   "id": "392675e3",
   "metadata": {},
   "source": [
    "## MLPClassifier"
   ]
  },
  {
   "cell_type": "code",
   "execution_count": 29,
   "id": "d6a68d89",
   "metadata": {
    "scrolled": false
   },
   "outputs": [
    {
     "name": "stdout",
     "output_type": "stream",
     "text": [
      "Accuracy: 0.8515228816424378\n",
      "\n",
      "Precision: 0.7388059701492538\n",
      "\n",
      "F1 Score: 0.6582726179528897\n",
      "\n",
      "               precision    recall  f1-score   support\n",
      "\n",
      "           0       0.88      0.93      0.91     24698\n",
      "           1       0.74      0.59      0.66      7839\n",
      "\n",
      "    accuracy                           0.85     32537\n",
      "   macro avg       0.81      0.76      0.78     32537\n",
      "weighted avg       0.84      0.85      0.85     32537\n",
      "\n",
      "\n",
      " Predito     1      0\n",
      "Real                \n",
      "1        4653   3186\n",
      "0        1645  23053\n"
     ]
    }
   ],
   "source": [
    "# Para MLPClassifier\n",
    "acc_mlp, pre_mlp, f1_mlp = avaliar(MLPClassifier(random_state=42))"
   ]
  },
  {
   "cell_type": "markdown",
   "id": "11e59e8d",
   "metadata": {},
   "source": [
    "## DataFrame de Comparação"
   ]
  },
  {
   "cell_type": "code",
   "execution_count": 30,
   "id": "bdf4fbe7",
   "metadata": {
    "scrolled": false
   },
   "outputs": [
    {
     "data": {
      "text/html": [
       "<div>\n",
       "<style scoped>\n",
       "    .dataframe tbody tr th:only-of-type {\n",
       "        vertical-align: middle;\n",
       "    }\n",
       "\n",
       "    .dataframe tbody tr th {\n",
       "        vertical-align: top;\n",
       "    }\n",
       "\n",
       "    .dataframe thead th {\n",
       "        text-align: right;\n",
       "    }\n",
       "</style>\n",
       "<table border=\"1\" class=\"dataframe\">\n",
       "  <thead>\n",
       "    <tr style=\"text-align: right;\">\n",
       "      <th></th>\n",
       "      <th>Random Forest</th>\n",
       "      <th>Decision Tree</th>\n",
       "      <th>KNN</th>\n",
       "      <th>MLPClassifier</th>\n",
       "    </tr>\n",
       "  </thead>\n",
       "  <tbody>\n",
       "    <tr>\n",
       "      <th>Acurácia</th>\n",
       "      <td>0.862280</td>\n",
       "      <td>0.862925</td>\n",
       "      <td>0.833267</td>\n",
       "      <td>0.851523</td>\n",
       "    </tr>\n",
       "    <tr>\n",
       "      <th>Precisão</th>\n",
       "      <td>0.765497</td>\n",
       "      <td>0.769329</td>\n",
       "      <td>0.688123</td>\n",
       "      <td>0.738806</td>\n",
       "    </tr>\n",
       "    <tr>\n",
       "      <th>F1_Score</th>\n",
       "      <td>0.683612</td>\n",
       "      <td>0.683957</td>\n",
       "      <td>0.619432</td>\n",
       "      <td>0.658273</td>\n",
       "    </tr>\n",
       "  </tbody>\n",
       "</table>\n",
       "</div>"
      ],
      "text/plain": [
       "          Random Forest  Decision Tree       KNN  MLPClassifier\n",
       "Acurácia       0.862280       0.862925  0.833267       0.851523\n",
       "Precisão       0.765497       0.769329  0.688123       0.738806\n",
       "F1_Score       0.683612       0.683957  0.619432       0.658273"
      ]
     },
     "execution_count": 30,
     "metadata": {},
     "output_type": "execute_result"
    }
   ],
   "source": [
    "# Cria o dataframe\n",
    "df_treino_avaliacao = pd.DataFrame(index=['Acurácia', 'Precisão', 'F1_Score'],columns=['Random Forest', 'Decision Tree', 'KNN', 'MLPClassifier']) #cria uma matriz de diferentes níveis\n",
    "\n",
    "# Insere os valores nas colunas\n",
    "df_treino_avaliacao['Random Forest'] = [acc_rf, pre_rf, f1_rf]\n",
    "df_treino_avaliacao['Decision Tree'] = [acc_dt, pre_dt, f1_dt]\n",
    "df_treino_avaliacao['KNN'] = [acc_knn, pre_knn, f1_knn]\n",
    "df_treino_avaliacao['MLPClassifier'] = [acc_mlp, pre_mlp, f1_mlp]\n",
    "\n",
    "df_treino_avaliacao"
   ]
  },
  {
   "cell_type": "markdown",
   "id": "35cb8267",
   "metadata": {},
   "source": [
    "**___________________________________________________________________________________________________________________________**\n",
    "\n",
    "<a id='tunning'></a>\n",
    "# TUNNING DOS MODELOS\n"
   ]
  },
  {
   "cell_type": "markdown",
   "id": "9c37c69e",
   "metadata": {},
   "source": [
    "### GridSearchCV\n",
    "\n",
    "- Vamos usar o **grid_search** para estimar os melhores parâmetros\n",
    "    - https://scikit-learn.org/stable/modules/generated/sklearn.model_selection.GridSearchCV.html"
   ]
  },
  {
   "cell_type": "markdown",
   "id": "ea84a3b4",
   "metadata": {},
   "source": [
    "- Será que é possível melhorar ainda mais o nosso modelo? Vamos tentar fazer isso utilizando o GridSearchCv"
   ]
  },
  {
   "cell_type": "code",
   "execution_count": 31,
   "id": "b2e70444",
   "metadata": {},
   "outputs": [],
   "source": [
    "# Importando\n",
    "from sklearn.model_selection import GridSearchCV\n",
    "from sklearn.model_selection import KFold"
   ]
  },
  {
   "cell_type": "markdown",
   "id": "5f8cd02c",
   "metadata": {},
   "source": [
    "## Definindo os parâmetros"
   ]
  },
  {
   "cell_type": "code",
   "execution_count": 32,
   "id": "57f1280b",
   "metadata": {},
   "outputs": [],
   "source": [
    "# Definindo os parâmetros\n",
    "parametros_rf = {\n",
    "    'n_estimators': [100,200,500,1000],  # Número de árvores\n",
    "    'max_depth': [2,4,6,10,None],  # Profundidade máxima das árvores\n",
    "    'min_samples_split': [2, 5, 10],  # Número mínimo de amostras para dividir um nó\n",
    "}"
   ]
  },
  {
   "cell_type": "code",
   "execution_count": 33,
   "id": "b0b21a1a",
   "metadata": {},
   "outputs": [],
   "source": [
    "# Definindo os parâmetros\n",
    "parametros_dt = {\n",
    "    'criterion': ['gini', 'entropy'],  # Critério de divisão\n",
    "    'max_depth': [2,4,6,10,None],  # Profundidade máxima da árvore\n",
    "    'min_samples_split': [2, 5, 10]  # Número mínimo de amostras para dividir um nó\n",
    "}"
   ]
  },
  {
   "cell_type": "code",
   "execution_count": 34,
   "id": "160b64f9",
   "metadata": {},
   "outputs": [],
   "source": [
    "# Parâmetros para o GridSearch\n",
    "parametros_knn = {\n",
    "    'n_neighbors': [1, 3, 5, 7, 9, 11, 13], # Número de vizinhos\n",
    "    'weights': ['uniform', 'distance'],  # Peso aplicado aos vizinhos\n",
    "    'metric': ['euclidean', 'manhattan']  # Métrica de distância\n",
    "}"
   ]
  },
  {
   "cell_type": "code",
   "execution_count": 35,
   "id": "3c8fcbdb",
   "metadata": {},
   "outputs": [],
   "source": [
    "# Definindo os parâmetros\n",
    "parametros_mlp = {\n",
    "    'hidden_layer_sizes': [(50,), (100,), (50, 50)],  # Tamanho das camadas ocultas\n",
    "    'activation': ['tanh', 'relu'],  # Função de ativação\n",
    "    'solver': ['adam', 'sgd'],  # Algoritmo para otimização\n",
    "}"
   ]
  },
  {
   "cell_type": "markdown",
   "id": "589eb534",
   "metadata": {},
   "source": [
    "## Criando uma função para executar o GridSearchCV"
   ]
  },
  {
   "cell_type": "code",
   "execution_count": 36,
   "id": "96647dad",
   "metadata": {},
   "outputs": [],
   "source": [
    "# Importando o datetime para visualizar a hora atual\n",
    "from datetime import datetime\n",
    "\n",
    "def hora_atual():\n",
    "    agora = datetime.now()\n",
    "    print(str(agora.hour) + ':' + str(agora.minute) + ':' + str(agora.second))"
   ]
  },
  {
   "cell_type": "code",
   "execution_count": 37,
   "id": "1b58d1fe",
   "metadata": {},
   "outputs": [
    {
     "name": "stdout",
     "output_type": "stream",
     "text": [
      "12:41:31\n"
     ]
    }
   ],
   "source": [
    "hora_atual()"
   ]
  },
  {
   "cell_type": "code",
   "execution_count": 38,
   "id": "ed3148c9",
   "metadata": {},
   "outputs": [],
   "source": [
    "# Definindo uma função para realizar o gridsearch\n",
    "def grid(modelo, parametros):\n",
    "    \n",
    "    # Separando a base de treino em X e y\n",
    "    X = df_treino.drop('income',axis=1)\n",
    "    y = df_treino['income']\n",
    "\n",
    "    print('Início: ') \n",
    "    hora_atual()\n",
    "\n",
    "    kfold = KFold(n_splits=8, random_state=42, shuffle=True)\n",
    "    \n",
    "    grid_search = GridSearchCV(modelo, parametros, scoring='f1', cv=kfold)\n",
    "    grid_search = grid_search.fit(X, y)\n",
    "\n",
    "    print('Fim: ')\n",
    "    hora_atual()\n",
    "    \n",
    "    return grid_search"
   ]
  },
  {
   "cell_type": "markdown",
   "id": "83094acc",
   "metadata": {},
   "source": [
    "## Executando o GridSearchCV"
   ]
  },
  {
   "cell_type": "code",
   "execution_count": 39,
   "id": "5c918479",
   "metadata": {
    "scrolled": true
   },
   "outputs": [
    {
     "name": "stdout",
     "output_type": "stream",
     "text": [
      "Início: \n",
      "12:41:31\n",
      "Fim: \n",
      "13:44:11\n"
     ]
    }
   ],
   "source": [
    "# Para o RandomForestClassifier\n",
    "grid_search_rf = grid(RandomForestClassifier(random_state=42), parametros_rf)"
   ]
  },
  {
   "cell_type": "code",
   "execution_count": 40,
   "id": "79e6dacf",
   "metadata": {
    "scrolled": false
   },
   "outputs": [
    {
     "name": "stdout",
     "output_type": "stream",
     "text": [
      "Início: \n",
      "13:44:11\n",
      "Fim: \n",
      "13:44:24\n"
     ]
    }
   ],
   "source": [
    "# Para o DecisionTreeClassifier\n",
    "grid_search_dt = grid(DecisionTreeClassifier(random_state=42), parametros_dt)"
   ]
  },
  {
   "cell_type": "code",
   "execution_count": 41,
   "id": "afba4bcb",
   "metadata": {
    "scrolled": false
   },
   "outputs": [
    {
     "name": "stdout",
     "output_type": "stream",
     "text": [
      "Início: \n",
      "13:44:24\n",
      "Fim: \n",
      "13:48:46\n"
     ]
    }
   ],
   "source": [
    "# Para o KNN\n",
    "grid_search_knn = grid(KNeighborsClassifier(), parametros_knn)"
   ]
  },
  {
   "cell_type": "code",
   "execution_count": 42,
   "id": "52c4d1f5",
   "metadata": {
    "scrolled": true
   },
   "outputs": [
    {
     "name": "stdout",
     "output_type": "stream",
     "text": [
      "Início: \n",
      "13:48:46\n",
      "Fim: \n",
      "14:47:50\n"
     ]
    }
   ],
   "source": [
    "# Para o MLPClassifier\n",
    "grid_search_mlp = grid(MLPClassifier(random_state=42), parametros_mlp)"
   ]
  },
  {
   "cell_type": "markdown",
   "id": "c93d7022",
   "metadata": {},
   "source": [
    "- **Verificando os melhores scores**"
   ]
  },
  {
   "cell_type": "code",
   "execution_count": 43,
   "id": "4d8af0d9",
   "metadata": {
    "scrolled": true
   },
   "outputs": [
    {
     "data": {
      "text/plain": [
       "0.68284749778713"
      ]
     },
     "execution_count": 43,
     "metadata": {},
     "output_type": "execute_result"
    }
   ],
   "source": [
    "# Para o RandomForest\n",
    "rf_best_score = grid_search_rf.best_score_\n",
    "rf_best_score"
   ]
  },
  {
   "cell_type": "code",
   "execution_count": 44,
   "id": "16e48f7a",
   "metadata": {
    "scrolled": false
   },
   "outputs": [
    {
     "data": {
      "text/plain": [
       "0.6831484123525403"
      ]
     },
     "execution_count": 44,
     "metadata": {},
     "output_type": "execute_result"
    }
   ],
   "source": [
    "# Para o DecisionTree\n",
    "dt_best_score = grid_search_dt.best_score_\n",
    "dt_best_score"
   ]
  },
  {
   "cell_type": "code",
   "execution_count": 45,
   "id": "a0e44b11",
   "metadata": {
    "scrolled": false
   },
   "outputs": [
    {
     "data": {
      "text/plain": [
       "0.6576937519574556"
      ]
     },
     "execution_count": 45,
     "metadata": {},
     "output_type": "execute_result"
    }
   ],
   "source": [
    "# Para o KNN\n",
    "knn_best_score = grid_search_knn.best_score_\n",
    "knn_best_score"
   ]
  },
  {
   "cell_type": "code",
   "execution_count": 46,
   "id": "a9af6bb4",
   "metadata": {
    "scrolled": true
   },
   "outputs": [
    {
     "data": {
      "text/plain": [
       "0.6649781315197414"
      ]
     },
     "execution_count": 46,
     "metadata": {},
     "output_type": "execute_result"
    }
   ],
   "source": [
    "# e para o MLPClassifier\n",
    "mlp_best_score = grid_search_mlp.best_score_\n",
    "mlp_best_score"
   ]
  },
  {
   "cell_type": "markdown",
   "id": "65c9d920",
   "metadata": {},
   "source": [
    "- **E os melhores parâmetros**"
   ]
  },
  {
   "cell_type": "code",
   "execution_count": 47,
   "id": "ded63e47",
   "metadata": {
    "scrolled": true
   },
   "outputs": [
    {
     "data": {
      "text/plain": [
       "{'max_depth': None, 'min_samples_split': 2, 'n_estimators': 100}"
      ]
     },
     "execution_count": 47,
     "metadata": {},
     "output_type": "execute_result"
    }
   ],
   "source": [
    "# Para o RandomForest\n",
    "grid_search_rf.best_params_"
   ]
  },
  {
   "cell_type": "code",
   "execution_count": 48,
   "id": "e9b5d489",
   "metadata": {
    "scrolled": true
   },
   "outputs": [
    {
     "data": {
      "text/plain": [
       "{'criterion': 'gini', 'max_depth': None, 'min_samples_split': 2}"
      ]
     },
     "execution_count": 48,
     "metadata": {},
     "output_type": "execute_result"
    }
   ],
   "source": [
    "# Para o DecisionTree\n",
    "grid_search_dt.best_params_"
   ]
  },
  {
   "cell_type": "code",
   "execution_count": 49,
   "id": "0bcef275",
   "metadata": {},
   "outputs": [
    {
     "data": {
      "text/plain": [
       "{'metric': 'manhattan', 'n_neighbors': 11, 'weights': 'distance'}"
      ]
     },
     "execution_count": 49,
     "metadata": {},
     "output_type": "execute_result"
    }
   ],
   "source": [
    "# Para o KNN\n",
    "grid_search_knn.best_params_"
   ]
  },
  {
   "cell_type": "code",
   "execution_count": 50,
   "id": "c1f0aa91",
   "metadata": {},
   "outputs": [
    {
     "data": {
      "text/plain": [
       "{'activation': 'tanh', 'hidden_layer_sizes': (50, 50), 'solver': 'adam'}"
      ]
     },
     "execution_count": 50,
     "metadata": {},
     "output_type": "execute_result"
    }
   ],
   "source": [
    "# e para o MLPClassifier\n",
    "grid_search_mlp.best_params_"
   ]
  },
  {
   "cell_type": "markdown",
   "id": "61f3648b",
   "metadata": {},
   "source": [
    "**___________________________________________________________________________________________________________________________**\n",
    "\n",
    "<a id='previsao'></a>\n",
    "# PREVISÃO COM O MODELO FINAL\n",
    "\n",
    "- O modelo RandomForest apresentou um maior valor F1 e portanto eerá usado na construção da versão final do modelo.\n",
    "- A pontuação F1 pode ser interpretada como uma média harmônica da precisão e recall."
   ]
  },
  {
   "cell_type": "code",
   "execution_count": 51,
   "id": "434bdf16",
   "metadata": {
    "scrolled": true
   },
   "outputs": [
    {
     "data": {
      "text/html": [
       "<style>#sk-container-id-2 {color: black;background-color: white;}#sk-container-id-2 pre{padding: 0;}#sk-container-id-2 div.sk-toggleable {background-color: white;}#sk-container-id-2 label.sk-toggleable__label {cursor: pointer;display: block;width: 100%;margin-bottom: 0;padding: 0.3em;box-sizing: border-box;text-align: center;}#sk-container-id-2 label.sk-toggleable__label-arrow:before {content: \"▸\";float: left;margin-right: 0.25em;color: #696969;}#sk-container-id-2 label.sk-toggleable__label-arrow:hover:before {color: black;}#sk-container-id-2 div.sk-estimator:hover label.sk-toggleable__label-arrow:before {color: black;}#sk-container-id-2 div.sk-toggleable__content {max-height: 0;max-width: 0;overflow: hidden;text-align: left;background-color: #f0f8ff;}#sk-container-id-2 div.sk-toggleable__content pre {margin: 0.2em;color: black;border-radius: 0.25em;background-color: #f0f8ff;}#sk-container-id-2 input.sk-toggleable__control:checked~div.sk-toggleable__content {max-height: 200px;max-width: 100%;overflow: auto;}#sk-container-id-2 input.sk-toggleable__control:checked~label.sk-toggleable__label-arrow:before {content: \"▾\";}#sk-container-id-2 div.sk-estimator input.sk-toggleable__control:checked~label.sk-toggleable__label {background-color: #d4ebff;}#sk-container-id-2 div.sk-label input.sk-toggleable__control:checked~label.sk-toggleable__label {background-color: #d4ebff;}#sk-container-id-2 input.sk-hidden--visually {border: 0;clip: rect(1px 1px 1px 1px);clip: rect(1px, 1px, 1px, 1px);height: 1px;margin: -1px;overflow: hidden;padding: 0;position: absolute;width: 1px;}#sk-container-id-2 div.sk-estimator {font-family: monospace;background-color: #f0f8ff;border: 1px dotted black;border-radius: 0.25em;box-sizing: border-box;margin-bottom: 0.5em;}#sk-container-id-2 div.sk-estimator:hover {background-color: #d4ebff;}#sk-container-id-2 div.sk-parallel-item::after {content: \"\";width: 100%;border-bottom: 1px solid gray;flex-grow: 1;}#sk-container-id-2 div.sk-label:hover label.sk-toggleable__label {background-color: #d4ebff;}#sk-container-id-2 div.sk-serial::before {content: \"\";position: absolute;border-left: 1px solid gray;box-sizing: border-box;top: 0;bottom: 0;left: 50%;z-index: 0;}#sk-container-id-2 div.sk-serial {display: flex;flex-direction: column;align-items: center;background-color: white;padding-right: 0.2em;padding-left: 0.2em;position: relative;}#sk-container-id-2 div.sk-item {position: relative;z-index: 1;}#sk-container-id-2 div.sk-parallel {display: flex;align-items: stretch;justify-content: center;background-color: white;position: relative;}#sk-container-id-2 div.sk-item::before, #sk-container-id-2 div.sk-parallel-item::before {content: \"\";position: absolute;border-left: 1px solid gray;box-sizing: border-box;top: 0;bottom: 0;left: 50%;z-index: -1;}#sk-container-id-2 div.sk-parallel-item {display: flex;flex-direction: column;z-index: 1;position: relative;background-color: white;}#sk-container-id-2 div.sk-parallel-item:first-child::after {align-self: flex-end;width: 50%;}#sk-container-id-2 div.sk-parallel-item:last-child::after {align-self: flex-start;width: 50%;}#sk-container-id-2 div.sk-parallel-item:only-child::after {width: 0;}#sk-container-id-2 div.sk-dashed-wrapped {border: 1px dashed gray;margin: 0 0.4em 0.5em 0.4em;box-sizing: border-box;padding-bottom: 0.4em;background-color: white;}#sk-container-id-2 div.sk-label label {font-family: monospace;font-weight: bold;display: inline-block;line-height: 1.2em;}#sk-container-id-2 div.sk-label-container {text-align: center;}#sk-container-id-2 div.sk-container {/* jupyter's `normalize.less` sets `[hidden] { display: none; }` but bootstrap.min.css set `[hidden] { display: none !important; }` so we also need the `!important` here to be able to override the default hidden behavior on the sphinx rendered scikit-learn.org. See: https://github.com/scikit-learn/scikit-learn/issues/21755 */display: inline-block !important;position: relative;}#sk-container-id-2 div.sk-text-repr-fallback {display: none;}</style><div id=\"sk-container-id-2\" class=\"sk-top-container\"><div class=\"sk-text-repr-fallback\"><pre>RandomForestClassifier(random_state=42)</pre><b>In a Jupyter environment, please rerun this cell to show the HTML representation or trust the notebook. <br />On GitHub, the HTML representation is unable to render, please try loading this page with nbviewer.org.</b></div><div class=\"sk-container\" hidden><div class=\"sk-item\"><div class=\"sk-estimator sk-toggleable\"><input class=\"sk-toggleable__control sk-hidden--visually\" id=\"sk-estimator-id-2\" type=\"checkbox\" checked><label for=\"sk-estimator-id-2\" class=\"sk-toggleable__label sk-toggleable__label-arrow\">RandomForestClassifier</label><div class=\"sk-toggleable__content\"><pre>RandomForestClassifier(random_state=42)</pre></div></div></div></div></div>"
      ],
      "text/plain": [
       "RandomForestClassifier(random_state=42)"
      ]
     },
     "execution_count": 51,
     "metadata": {},
     "output_type": "execute_result"
    }
   ],
   "source": [
    "# Melhores parâmetros do RandomForest\n",
    "grid_search_rf.best_estimator_"
   ]
  },
  {
   "cell_type": "code",
   "execution_count": 52,
   "id": "67853f2a",
   "metadata": {
    "scrolled": false
   },
   "outputs": [],
   "source": [
    "#___________________________________ DIVISÃO EM X E Y __________________________________________\n",
    "# Separando a base de treino em X e y\n",
    "X = df_treino.drop('income', axis=1)\n",
    "y = df_treino['income']\n",
    "\n",
    "#___________________________________ MODELO __________________________________________\n",
    "# Criando o classificador\n",
    "clf_best_rf = RandomForestClassifier(random_state=42)\n",
    "\n",
    "# Treinando o classificador\n",
    "clf_best_rf = clf_best_rf.fit(X, y)"
   ]
  },
  {
   "cell_type": "code",
   "execution_count": 53,
   "id": "0ed337ec",
   "metadata": {},
   "outputs": [],
   "source": [
    "# Separando em X e y\n",
    "X_test = df_teste.drop('income', axis=1)\n",
    "y_test = df_teste['income']"
   ]
  },
  {
   "cell_type": "code",
   "execution_count": 54,
   "id": "b0add47c",
   "metadata": {},
   "outputs": [
    {
     "data": {
      "text/html": [
       "<div>\n",
       "<style scoped>\n",
       "    .dataframe tbody tr th:only-of-type {\n",
       "        vertical-align: middle;\n",
       "    }\n",
       "\n",
       "    .dataframe tbody tr th {\n",
       "        vertical-align: top;\n",
       "    }\n",
       "\n",
       "    .dataframe thead th {\n",
       "        text-align: right;\n",
       "    }\n",
       "</style>\n",
       "<table border=\"1\" class=\"dataframe\">\n",
       "  <thead>\n",
       "    <tr style=\"text-align: right;\">\n",
       "      <th></th>\n",
       "      <th>education_num</th>\n",
       "      <th>capital_gain</th>\n",
       "      <th>capital_loss</th>\n",
       "      <th>hours_check</th>\n",
       "      <th>married_check</th>\n",
       "      <th>occupation_check</th>\n",
       "    </tr>\n",
       "  </thead>\n",
       "  <tbody>\n",
       "    <tr>\n",
       "      <th>0</th>\n",
       "      <td>-0.752732</td>\n",
       "      <td>-0.145975</td>\n",
       "      <td>-0.216743</td>\n",
       "      <td>-0.076781</td>\n",
       "      <td>-0.924443</td>\n",
       "      <td>-0.617460</td>\n",
       "    </tr>\n",
       "    <tr>\n",
       "      <th>1</th>\n",
       "      <td>-0.752732</td>\n",
       "      <td>-0.145975</td>\n",
       "      <td>-0.216743</td>\n",
       "      <td>1.527724</td>\n",
       "      <td>1.081733</td>\n",
       "      <td>-0.617460</td>\n",
       "    </tr>\n",
       "    <tr>\n",
       "      <th>2</th>\n",
       "      <td>0.113769</td>\n",
       "      <td>-0.145975</td>\n",
       "      <td>-0.216743</td>\n",
       "      <td>-0.076781</td>\n",
       "      <td>1.081733</td>\n",
       "      <td>1.188816</td>\n",
       "    </tr>\n",
       "    <tr>\n",
       "      <th>3</th>\n",
       "      <td>0.113769</td>\n",
       "      <td>0.894653</td>\n",
       "      <td>-0.216743</td>\n",
       "      <td>-0.076781</td>\n",
       "      <td>1.081733</td>\n",
       "      <td>-0.617460</td>\n",
       "    </tr>\n",
       "    <tr>\n",
       "      <th>4</th>\n",
       "      <td>0.113769</td>\n",
       "      <td>-0.145975</td>\n",
       "      <td>-0.216743</td>\n",
       "      <td>-1.681286</td>\n",
       "      <td>-0.924443</td>\n",
       "      <td>-1.520599</td>\n",
       "    </tr>\n",
       "  </tbody>\n",
       "</table>\n",
       "</div>"
      ],
      "text/plain": [
       "   education_num  capital_gain  capital_loss  hours_check  married_check  \\\n",
       "0      -0.752732     -0.145975     -0.216743    -0.076781      -0.924443   \n",
       "1      -0.752732     -0.145975     -0.216743     1.527724       1.081733   \n",
       "2       0.113769     -0.145975     -0.216743    -0.076781       1.081733   \n",
       "3       0.113769      0.894653     -0.216743    -0.076781       1.081733   \n",
       "4       0.113769     -0.145975     -0.216743    -1.681286      -0.924443   \n",
       "\n",
       "   occupation_check  \n",
       "0         -0.617460  \n",
       "1         -0.617460  \n",
       "2          1.188816  \n",
       "3         -0.617460  \n",
       "4         -1.520599  "
      ]
     },
     "execution_count": 54,
     "metadata": {},
     "output_type": "execute_result"
    }
   ],
   "source": [
    "# Visualizando o X_test\n",
    "X_test.head()"
   ]
  },
  {
   "cell_type": "code",
   "execution_count": 55,
   "id": "74255116",
   "metadata": {},
   "outputs": [],
   "source": [
    "# Fazendo a previsão\n",
    "y_pred = clf_best_rf.predict(X_test)"
   ]
  },
  {
   "cell_type": "code",
   "execution_count": 56,
   "id": "2f06a9dc",
   "metadata": {
    "scrolled": false
   },
   "outputs": [
    {
     "name": "stdout",
     "output_type": "stream",
     "text": [
      "Accuracy: 0.8636028508232981\n",
      "\n",
      "Precision: 0.7681398416886543\n",
      "\n",
      "F1 Score: 0.677231753416691\n",
      "\n",
      "               precision    recall  f1-score   support\n",
      "\n",
      "           0       0.89      0.94      0.91     12430\n",
      "           1       0.77      0.61      0.68      3846\n",
      "\n",
      "    accuracy                           0.86     16276\n",
      "   macro avg       0.83      0.77      0.80     16276\n",
      "weighted avg       0.86      0.86      0.86     16276\n",
      "\n",
      "\n",
      " Predito     1      0\n",
      "Real                \n",
      "1        2329   1517\n",
      "0         703  11727\n"
     ]
    }
   ],
   "source": [
    "#___________________________________ AVALIAÇÃO __________________________________________\n",
    "# Acurácia\n",
    "acc = accuracy_score(y_test, y_pred)\n",
    "# Precisão\n",
    "pre = precision_score(y_test, y_pred)\n",
    "# F1 Score\n",
    "f1 = f1_score(y_test, y_pred)\n",
    "\n",
    "print('Accuracy:', acc)\n",
    "print('\\nPrecision:', pre)\n",
    "print('\\nF1 Score:', f1)\n",
    "\n",
    "# Relatório de classificação\n",
    "print('\\n', classification_report(y_test, y_pred))\n",
    "\n",
    "# Matriz de confusão\n",
    "print('\\n', pd.crosstab(y_test, y_pred, rownames=['Real'], colnames=['Predito'], margins=True).reindex(index=[1, 0], columns=[1, 0], ))"
   ]
  },
  {
   "cell_type": "markdown",
   "id": "fdd282a6",
   "metadata": {},
   "source": [
    "**___________________________________________________________________________________________________________________________**\n",
    "\n",
    "<a id='disco'></a>\n",
    "# MODELO EM DISCO\n",
    "\n",
    "- Persistindo o modelo de Machine Learning para o disco."
   ]
  },
  {
   "cell_type": "code",
   "execution_count": 57,
   "id": "47d5972c",
   "metadata": {},
   "outputs": [],
   "source": [
    "# Importando o joblib\n",
    "import joblib"
   ]
  },
  {
   "cell_type": "code",
   "execution_count": 58,
   "id": "4246a15f",
   "metadata": {
    "colab": {},
    "colab_type": "code",
    "id": "vOKnfexDwRNt",
    "outputId": "2fd088dd-1cb2-45f8-8c91-141220fb2ef6",
    "scrolled": true
   },
   "outputs": [
    {
     "data": {
      "text/plain": [
       "['modelo_final_rf.joblib']"
      ]
     },
     "execution_count": 58,
     "metadata": {},
     "output_type": "execute_result"
    }
   ],
   "source": [
    "# Persistindo o melhor modelo em disco.\n",
    "joblib.dump(clf_best_rf, 'modelo_final_rf.joblib')"
   ]
  },
  {
   "cell_type": "markdown",
   "id": "39341845",
   "metadata": {
    "colab_type": "text",
    "id": "mNIV4VAxwRNp"
   },
   "source": [
    "- Carregando o modelo a partir do disco para a memória."
   ]
  },
  {
   "cell_type": "code",
   "execution_count": 59,
   "id": "e26f10f6",
   "metadata": {
    "colab": {},
    "colab_type": "code",
    "id": "0xrJO3M5wRNv",
    "scrolled": true
   },
   "outputs": [
    {
     "data": {
      "text/html": [
       "<style>#sk-container-id-3 {color: black;background-color: white;}#sk-container-id-3 pre{padding: 0;}#sk-container-id-3 div.sk-toggleable {background-color: white;}#sk-container-id-3 label.sk-toggleable__label {cursor: pointer;display: block;width: 100%;margin-bottom: 0;padding: 0.3em;box-sizing: border-box;text-align: center;}#sk-container-id-3 label.sk-toggleable__label-arrow:before {content: \"▸\";float: left;margin-right: 0.25em;color: #696969;}#sk-container-id-3 label.sk-toggleable__label-arrow:hover:before {color: black;}#sk-container-id-3 div.sk-estimator:hover label.sk-toggleable__label-arrow:before {color: black;}#sk-container-id-3 div.sk-toggleable__content {max-height: 0;max-width: 0;overflow: hidden;text-align: left;background-color: #f0f8ff;}#sk-container-id-3 div.sk-toggleable__content pre {margin: 0.2em;color: black;border-radius: 0.25em;background-color: #f0f8ff;}#sk-container-id-3 input.sk-toggleable__control:checked~div.sk-toggleable__content {max-height: 200px;max-width: 100%;overflow: auto;}#sk-container-id-3 input.sk-toggleable__control:checked~label.sk-toggleable__label-arrow:before {content: \"▾\";}#sk-container-id-3 div.sk-estimator input.sk-toggleable__control:checked~label.sk-toggleable__label {background-color: #d4ebff;}#sk-container-id-3 div.sk-label input.sk-toggleable__control:checked~label.sk-toggleable__label {background-color: #d4ebff;}#sk-container-id-3 input.sk-hidden--visually {border: 0;clip: rect(1px 1px 1px 1px);clip: rect(1px, 1px, 1px, 1px);height: 1px;margin: -1px;overflow: hidden;padding: 0;position: absolute;width: 1px;}#sk-container-id-3 div.sk-estimator {font-family: monospace;background-color: #f0f8ff;border: 1px dotted black;border-radius: 0.25em;box-sizing: border-box;margin-bottom: 0.5em;}#sk-container-id-3 div.sk-estimator:hover {background-color: #d4ebff;}#sk-container-id-3 div.sk-parallel-item::after {content: \"\";width: 100%;border-bottom: 1px solid gray;flex-grow: 1;}#sk-container-id-3 div.sk-label:hover label.sk-toggleable__label {background-color: #d4ebff;}#sk-container-id-3 div.sk-serial::before {content: \"\";position: absolute;border-left: 1px solid gray;box-sizing: border-box;top: 0;bottom: 0;left: 50%;z-index: 0;}#sk-container-id-3 div.sk-serial {display: flex;flex-direction: column;align-items: center;background-color: white;padding-right: 0.2em;padding-left: 0.2em;position: relative;}#sk-container-id-3 div.sk-item {position: relative;z-index: 1;}#sk-container-id-3 div.sk-parallel {display: flex;align-items: stretch;justify-content: center;background-color: white;position: relative;}#sk-container-id-3 div.sk-item::before, #sk-container-id-3 div.sk-parallel-item::before {content: \"\";position: absolute;border-left: 1px solid gray;box-sizing: border-box;top: 0;bottom: 0;left: 50%;z-index: -1;}#sk-container-id-3 div.sk-parallel-item {display: flex;flex-direction: column;z-index: 1;position: relative;background-color: white;}#sk-container-id-3 div.sk-parallel-item:first-child::after {align-self: flex-end;width: 50%;}#sk-container-id-3 div.sk-parallel-item:last-child::after {align-self: flex-start;width: 50%;}#sk-container-id-3 div.sk-parallel-item:only-child::after {width: 0;}#sk-container-id-3 div.sk-dashed-wrapped {border: 1px dashed gray;margin: 0 0.4em 0.5em 0.4em;box-sizing: border-box;padding-bottom: 0.4em;background-color: white;}#sk-container-id-3 div.sk-label label {font-family: monospace;font-weight: bold;display: inline-block;line-height: 1.2em;}#sk-container-id-3 div.sk-label-container {text-align: center;}#sk-container-id-3 div.sk-container {/* jupyter's `normalize.less` sets `[hidden] { display: none; }` but bootstrap.min.css set `[hidden] { display: none !important; }` so we also need the `!important` here to be able to override the default hidden behavior on the sphinx rendered scikit-learn.org. See: https://github.com/scikit-learn/scikit-learn/issues/21755 */display: inline-block !important;position: relative;}#sk-container-id-3 div.sk-text-repr-fallback {display: none;}</style><div id=\"sk-container-id-3\" class=\"sk-top-container\"><div class=\"sk-text-repr-fallback\"><pre>RandomForestClassifier(random_state=42)</pre><b>In a Jupyter environment, please rerun this cell to show the HTML representation or trust the notebook. <br />On GitHub, the HTML representation is unable to render, please try loading this page with nbviewer.org.</b></div><div class=\"sk-container\" hidden><div class=\"sk-item\"><div class=\"sk-estimator sk-toggleable\"><input class=\"sk-toggleable__control sk-hidden--visually\" id=\"sk-estimator-id-3\" type=\"checkbox\" checked><label for=\"sk-estimator-id-3\" class=\"sk-toggleable__label sk-toggleable__label-arrow\">RandomForestClassifier</label><div class=\"sk-toggleable__content\"><pre>RandomForestClassifier(random_state=42)</pre></div></div></div></div></div>"
      ],
      "text/plain": [
       "RandomForestClassifier(random_state=42)"
      ]
     },
     "execution_count": 59,
     "metadata": {},
     "output_type": "execute_result"
    }
   ],
   "source": [
    "model = joblib.load('modelo_final_rf.joblib')\n",
    "model"
   ]
  },
  {
   "cell_type": "markdown",
   "id": "9516c62f",
   "metadata": {},
   "source": [
    "**___________________________________________________________________________________________________________________________**\n",
    "\n",
    "<a id='resultados'></a>\n",
    "# HISTÓRICO DOS RESULTADOS"
   ]
  },
  {
   "cell_type": "code",
   "execution_count": 60,
   "id": "c389494a",
   "metadata": {
    "scrolled": false
   },
   "outputs": [
    {
     "data": {
      "image/png": "[encoded data removed]",
      "text/plain": [
       "<Figure size 640x480 with 1 Axes>"
      ]
     },
     "metadata": {},
     "output_type": "display_data"
    }
   ],
   "source": [
    "# Gráfico do histórico dos resultados\n",
    "x = [1, 2, 3]\n",
    "y_accuracy = [0.8087, 0.8562, 0.8636]\n",
    "y_precision = [0.6154, 0.7503, 0.7681]\n",
    "\n",
    "plt.plot(x, y_accuracy, '-o', label='accuracy')\n",
    "plt.plot(x, y_precision, '-o', color='green', label='precision')\n",
    "\n",
    "plt.legend(bbox_to_anchor=(0.75, 0.1, 0.5, 0.1))\n",
    "plt.xticks(x, ['Parte1', 'Parte2', 'Parte3'])\n",
    "plt.yticks([])\n",
    "\n",
    "# Deixar apenas o eixo x visível  \n",
    "plt.gca().spines['left'].set_visible(False)  \n",
    "plt.gca().spines['right'].set_visible(False)  \n",
    "plt.gca().spines['top'].set_visible(False)  \n",
    "plt.gca().spines['bottom'].set_visible(False)\n",
    "\n",
    "for i, y_valor in enumerate(y_accuracy):\n",
    "    plt.annotate(y_valor, [x[i], y_accuracy[i]+0.01])\n",
    "    \n",
    "for i, y_valor in enumerate(y_precision):\n",
    "    plt.annotate(y_valor, [x[i], y_precision[i]+0.01])\n",
    "\n",
    "plt.title('Histórico dos Resultados\\n\\n')\n",
    "\n",
    "plt.show()"
   ]
  },
  {
   "cell_type": "markdown",
   "id": "87f8dcc1",
   "metadata": {},
   "source": [
    "**___________________________________________________________________________________________________________________________**\n",
    "\n",
    "<a id='conclusao'></a>\n",
    "# CONCLUSÃO"
   ]
  },
  {
   "attachments": {
    "image-10.png": {
     "image/png": "[encoded data removed]"
    },
    "image-11.png": {
     "image/png": "[encoded data removed]"
    },
    "image-12.png": {
     "image/png": "[encoded data removed]"
    },
    "image-2.png": {
     "image/png": "[encoded data removed]"
    },
    "image-8.png": {
     "image/png": "[encoded data removed]"
    },
    "image-9.png": {
     "image/png": "[encoded data removed]"
    }
   },
   "cell_type": "markdown",
   "id": "1757499f",
   "metadata": {},
   "source": [
    "- Na primeira parte do nosso projeto, executamos o modelo mais simples possível com apenas as variáveis numéricas **(`age`, `fnlwgt`, `education_num`, `capital_gain`, `capital_loss` e `hours_per_week`)** sem nunhum tratamento prévio. Com este cenário, obtivemos os seguintes resultados utilizando o Random Forest:\n",
    "    - Accuracy: 0.8087\n",
    "    - Precision: 0.6154\n",
    "---\n",
    "- Na segunda parte, fizemos um trabalho de análise e tratamento mais profundo e detalhado para entender melhor os atributos e seus relacionamentos. Após todos os tratamentos feitos, utilizamos as colunas **(`education_num`, `sex`, `capital_gain`, `capital_loss`, `hours_check`, `age_check`, `married_check`, `workclass_check`, `occupation_check`, `country_check` e `race`)** devidamente tratadas para numéricas. Com isso, o melhor resultado foi utilizando o modelo Random Forest:\n",
    "    - Accuracy: 0.8562\n",
    "    - Precision: 0.7503\n",
    "---\n",
    "- Na terceira e última parte do projeto, fizemos um pré-processamento para padronizar os dados, selecionamos as melhores features, pois features que não possuem tanta relevância podem atrapalhar o modelo e por fim, o tunning do modelo com o GridSearchCV afim de encontrar os melhores parâmetros e com isso ter um melhor resultado. \n",
    "- Além disso, nesta parte foram utilizados outros modelos como o DecisionTree e o MLPClassifier. \n",
    "- O melhor resultado foi utilizando o modelo Random Forest\n",
    "- As colunas **`education_num`,  `capital_gain`, , `capital_loss`, `hours_check`, `married_check` e `occupation_check`** foram selecionadas como as melhores para predizer se a renda anual de uma pessoa é maior que 50k.\n",
    "- Perceba que todas as outras colunas foram removidas e mesmo assim tivemos resultados semelhantes e até melhores que os modelo da parte 2.\n",
    "    - Accuracy: 0.8636\n",
    "    - Precision: 0.7681\n",
    "    - F1 Score: 0.6772\n",
    "---\n",
    "\n",
    "# Problemas de Negócio\n",
    "O objetivo deste projeto é prever se a renda anual de um indivíduo excede 50 mil dólares por ano, com base em dados do censo, também conhecidos como o conjunto de dados \"Census Income\".  \n",
    "\n",
    "Realizar essa previsão de renda tem grande relevância estratégica e prática, pois pode fornecer insights valiosos que auxiliam na tomada de decisões em diversos setores da sociedade.  \n",
    "\n",
    "Embora este projeto não tenha um problema de negócio previamente definido, é possível identificar cenários em que essa análise seria aplicável, como por exemplo, no estudo da desigualdade socioeconômica e em serviços financeiros.\n",
    "\n",
    "Nos tópicos seguintes, detalharemos esses exemplos e, com base nos resultados, selecionaremos o modelo de machine learning mais adequado para atender ao propósito do projeto.\n",
    "\n",
    "---\n",
    "### Exemplo 1: Análise de desigualdade socioeconômica\n",
    "\n",
    "A previsão ajuda a entender os fatores que contribuem para a desigualdade de renda, como educação, ocupação, idade e estado civil, permitindo a análise das disparidades socioeconômicas.\n",
    " \n",
    "Considerando este problema de negócio, estamos mais interessados em entender quais características mais contribuem para a desigualdade de renda, ou seja, a relação entre os atributos X com a variável alvo Y.\n",
    "\n",
    "Como os modelos Random Forest e Decision Tree obtiveram resultados próximos, entender o problema de negócio é essencial para decidir qual modelo usar. Se o foco do problema é a análise de desigualdade socioeconômica, o modelo Decision Tree seria o mais indicado. pois é um modelo mais interpretável, intuitivo, simples e fácil de implementar e transmitir os resultados para especialistas não técnicos. \n",
    "\n",
    "Podemos listar algumas vantagens de se utilizar o Decision Tree para este caso:\n",
    "\n",
    ">**1. Transparência:**\n",
    ">- A análise de desigualdade socioeconômica geralmente envolve a comunicação dos resultados para diferentes stakeholders, como formuladores de políticas, pesquisadores e o público em geral. Um modelo interpretável facilita essa comunicação, pois as decisões tomadas pelo modelo podem ser claramente explicadas, mostrando como variáveis como educação, ocupação e estado civil influenciam os resultados.\n",
    ">\n",
    ">**2. Tomada de decisão informada:**\n",
    ">- Políticas voltadas para a redução da desigualdade socioeconômica precisam ser baseadas em decisões bem justificadas. O Decision Tree oferece uma visão clara de como as variáveis são usadas no processo de tomada de decisão, permitindo que os insights gerados sejam mais confiáveis e compreensíveis.\n",
    ">\n",
    ">**3. Simplicidade de implementação:**\n",
    ">- A simplicidade do Decision Tree também facilita sua implementação em projetos que demandam explicações frequentes. Quando você precisa ajustar o modelo ou adaptá-lo a novos dados, o processo é mais direto com um modelo mais simples e menos sensível a variáveis complexas.\n",
    ">\n",
    ">**4. Explicabilidade local:**\n",
    ">- Embora o Random Forest tenha mais flexibilidade e possa capturar padrões mais complexos, a explicabilidade local de um modelo como Decision Tree, que permite ver as regras de decisão diretamente, é crucial para entender fatores específicos que afetam indivíduos ou grupos com rendas diferentes.\n",
    "\n",
    "Portanto, considerando que a explicabilidade é um fator importante para a análise de desigualdade socioeconômica e comunicação dos resultados, o Decision Tree seria o modelo mais adequado.\n",
    "\n",
    " ---\n",
    "### Exemplo 2: Serviços financeiros\n",
    "\n",
    "Bancos e instituições financeiras podem utilizar esses modelos para avaliar o perfil de renda dos clientes, ajustando limites de crédito, taxas de empréstimo e ofertas de produtos financeiros de acordo com o risco de inadimplência.\n",
    "\n",
    "Para o cenário de serviços financeiros, onde o objetivo é avaliar o perfil de renda dos clientes, ajustar limites de crédito e taxas de empréstimo, o Random Forest seria o modelo preferido, e aqui estão as razões para isso:\n",
    "\n",
    ">**1. Maior precisão e robustez:**\n",
    ">- O setor financeiro envolve decisões críticas, onde a precisão no cálculo do risco é fundamental para evitar inadimplência e perdas financeiras. O Random Forest tende a ser mais robusto e oferecer maior acurácia, pois combina os resultados de várias árvores de decisão, reduzindo o risco de overfitting e capturando padrões complexos nos dados. Isso é especialmente importante quando se lida com grandes volumes de dados e múltiplas variáveis, como histórico de crédito, renda, idade e outras informações demográficas e financeiras.\n",
    ">\n",
    ">**2. Resistência a ruídos e overfitting:**\n",
    ">- O Random Forest é menos sensível a ruídos e pequenas variações nos dados, algo comum em dados financeiros. Essa robustez é crucial para garantir que o modelo não se ajuste demais aos dados de treinamento, o que pode ocorrer facilmente com uma Decision Tree, especialmente em cenários com variáveis ruidosas.\n",
    ">\n",
    ">**3. Capacidade de capturar interações complexas:**\n",
    ">- Clientes bancários podem apresentar perfis muito distintos e interações complexas entre variáveis (por exemplo, histórico de crédito combinado com renda e idade). O Random Forest, por ser um modelo mais flexível, consegue capturar essas interações de forma eficaz, fornecendo previsões mais precisas para diferentes perfis de clientes.\n",
    ">\n",
    ">**4. Escalabilidade:**\n",
    ">- Em serviços financeiros, é comum trabalhar com grandes volumes de dados. O Random Forest lida melhor com esse tipo de situação, mantendo um bom desempenho e consistência, mesmo quando aplicado a grandes bases de dados. Isso é particularmente importante quando bancos processam milhares ou milhões de clientes simultaneamente.\n",
    ">\n",
    ">**5. Importância das variáveis:**\n",
    ">- Embora a Decision Tree seja mais interpretável, o Random Forest ainda fornece métricas de importância das variáveis, permitindo que bancos e instituições financeiras identifiquem os fatores mais influentes nas previsões de renda e risco de crédito, sem sacrificar a performance do modelo.\n",
    "\n",
    "No caso de serviços financeiros, onde a precisão, a robustez e a capacidade de lidar com grandes volumes de dados são cruciais, o Random Forest seria a melhor escolha. Embora seja menos interpretável que o Decision Tree, o Random Forest oferece uma combinação superior de flexibilidade e desempenho, o que é vital para evitar inadimplência e otimizar as decisões financeiras.\n",
    "\n",
    "---\n",
    "# Gráfico Acurácia x Interpretabilidade\n",
    "Abaixo, podemos ver um gráfico que analisa a acurácia e a interpretabilidade de diferentes modelos. Podemos ver que o modelo Decision Tree possui boa acurácia e alta interpretabilidade. Já o modelo Random Forest possui baixa interpretabilidade e alta acurácia.\n",
    "\n",
    "![image-2.png](attachment:image-2.png)\n",
    "\n",
    "---\n",
    "# Análise das Métricas de Avaliação e da Matriz de Confusão\n",
    "\n",
    "Ao analisar as métricas de validação, é essencial considerar o problema de negócio. Por exemplo, no cenário de serviços financeiros, onde o objetivo é avaliar o perfil de renda para ajustar limites de crédito e taxas de empréstimo, a precisão no cálculo do risco é crucial para evitar inadimplência e perdas financeiras.  \n",
    "\n",
    "Um **falso positivo (FP)**, onde o modelo prevê que uma pessoa ganha mais de 50k quando na verdade ganha menos, pode levar à concessão equivocada de crédito, aumentando o risco de inadimplência. Por isso, reduzir os FP é fundamental neste caso, e a métrica **Precision** se torna prioritária. A métrica Precision é calculada como a razão entre verdadeiros positivos (TP) e o total de positivos previstos (TP + FP), indicando o percentual de acertos nas classificações positivas. No projeto, o modelo previu 3032 pessoas com renda acima de 50k, mas apenas 2329 (TP) realmente possuem essa renda, resultando em uma precisão de **76,81%**.  \n",
    "\n",
    "Por outro lado, no cenário de captação de clientes, onde o foco é identificar potenciais clientes com renda superior a 50k, um **falso negativo (FN)** — prever que alguém ganha menos de 50k quando na verdade ganha mais — pode levar à perda de oportunidades. Nesse caso, teriamos que diminuir a quantidade de valores FALSO NEGATIVO (FN) e por isso a métrica **Recall** é mais relevante. Esta métrica é calculada como a razão entre positivos verdadeiros (TP) e o total de pessoas que realmente possuem renda superior, que é a soma de positivos verdadeiros (TP) e falsos negativos (FN), indicando o percentual de acertos entre aqueles que realmente possuem renda superior a 50k. No projeto, de 3846 pessoas com renda superior a 50k, o modelo identificou corretamente 2329 (TP), resultando em um recall de **60,55%**.  \n",
    "\n",
    "Portanto, a escolha da métrica ideal depende diretamente do objetivo do negócio: **Precision** para minimizar riscos financeiros ou **Recall** para maximizar captação de clientes.\n",
    "\n",
    "- Fórmula para o cálculo 'Precision'\n",
    "![image-9.png](attachment:image-9.png)\n",
    "\n",
    "- Fórmula para o cálculo 'Recall'\n",
    "![image-8.png](attachment:image-8.png)\n",
    "\n",
    "- Matriz de confusão do nosso modelo final\n",
    "\n",
    "![image-11.png](attachment:image-11.png)\n",
    "\n",
    "- Relatório de classificação\n",
    "\n",
    "![image-12.png](attachment:image-12.png)\n",
    "\n",
    "\n",
    "O modelo final apresentou uma **precisão de 76,81%** para a **classe 1**. No entanto, a métrica **Recall** foi menor, atingindo **60,55%**, o que significa que o modelo está errando mais ao prever que uma pessoa ganha menos de 50k quando, na verdade, ela ganha mais.  \n",
    "\n",
    "Durante os testes, ao utilizar **Precision** como parâmetro de **scoring** no **GridSearchCV**, conseguimos aumentar consideravelmente a precisão para a classe 1, mas isso resultou em uma queda significativa no Recall. Por esse motivo, optamos por utilizar a **métrica F1** no **GridSearchCV**, pois ela representa uma **média harmônica** entre precisão e recall, oferecendo uma avaliação mais equilibrada entre as duas métricas.  \n",
    "\n",
    "Ter uma precisão muito alta acompanhada de um Recall muito baixo indica um desequilíbrio no modelo. Embora seja essencial evitar inadimplências, uma baixa captação de clientes também prejudica o negócio. Portanto, ao escolher a **métrica F1**, conseguimos balancear a importância de ambos os aspectos, garantindo um desempenho mais adequado às necessidades do projeto.\n",
    "\n",
    "\n",
    "- Fórmula para o cálculo 'F1 Score'\n",
    "![image-10.png](attachment:image-10.png)\n",
    "\n",
    "\n",
    "---\n",
    "# Estudo dos Atributos\n",
    "\n",
    "- Utilizando a mesma **pesquisa simples** feita com o auxílio do Chat-GPT, podemos entender melhor os possíveis motivos das features terem sido selecionadas.\n",
    "\n",
    ">**Education_num:**\n",
    ">Nível educacional é um forte preditor de renda. Pessoas com maior escolaridade têm mais chances de ocupar cargos com melhores salários.\n",
    "\n",
    ">**Capital-gain:**\n",
    ">Ganhos de capital indicam rendimentos de investimentos, sugerindo maior riqueza e, consequentemente, maior probabilidade de ganhar mais de 50 mil por ano.\n",
    "\n",
    ">**Capital-loss:**\n",
    ">Embora o capital-gain já tenha se mostrado relevante, a perda de capital (capital-loss) também pode ter uma relação com a renda, embora de maneira mais indireta. Indivíduos que reportam perdas de capital podem ser aqueles que investem em mercados financeiros ou imóveis, o que pode indicar um perfil de maior risco ou rendimentos flutuantes. Essa variável pode ser relevante quando analisada em conjunto com capital-gain.\n",
    "\n",
    ">**hours_check:**\n",
    ">O número de horas trabalhadas por semana também tem um impacto direto na renda. Profissionais que trabalham mais horas tendem a ganhar mais, seja por carga horária maior ou por cargos que demandam mais tempo, como em posições de alta responsabilidade ou executivas.\n",
    "\n",
    ">**Married_check**:\n",
    ">O estado civil afeta a renda, já que pessoas casadas tendem a ter maior estabilidade financeira e maiores rendimentos devido a fatores como combinação de salários e incentivos fiscais.\n",
    "\n",
    ">**Occupation_check:**\n",
    "> O tipo de ocupação impacta diretamente os salários. Profissões em setores como tecnologia ou finanças costumam pagar mais do que setores de serviços ou trabalho manual.\n",
    "\n"
   ]
  }
 ],
 "metadata": {
  "kernelspec": {
   "display_name": "Python 3 (ipykernel)",
   "language": "python",
   "name": "python3"
  },
  "language_info": {
   "codemirror_mode": {
    "name": "ipython",
    "version": 3
   },
   "file_extension": ".py",
   "mimetype": "text/x-python",
   "name": "python",
   "nbconvert_exporter": "python",
   "pygments_lexer": "ipython3",
   "version": "3.11.5"
  }
 },
 "nbformat": 4,
 "nbformat_minor": 5
}
