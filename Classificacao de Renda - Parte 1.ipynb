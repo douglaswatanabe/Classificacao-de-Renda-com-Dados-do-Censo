{
 "cells": [
  {
   "cell_type": "markdown",
   "id": "662ce108",
   "metadata": {},
   "source": [
    "# PROJETO: CLASSIFICAÇÃO DE RENDA COM DADOS DO CENSO-PARTE 1\n",
    "\n",
    "**Objetivo**: A tarefa é prever se renda anual de um indivíduo é superior a $50.000 por ano com base em dados do censo.\n",
    "\n",
    "**Dataset**: O conjunto de dados para este projeto é originário do [Repositório de Aprendizado de Máquina da UCI](https://archive.ics.uci.edu/ml/datasets/Adult)\n",
    "\n",
    "**Habilidades Avaliadas em Todo o Projeto**: \n",
    "- Manipulação de arquivos .csv\n",
    "- Limpeza e Tratamento dos dados\n",
    "- Análise exploratória dos dados\n",
    "- Técnicas de preprocessamento e transformação dos dados (OneHotEncoder, OrdinalEncoder, StandardScaler, .get_dummies, .qcut)\n",
    "- Seleção de features\n",
    "- Ajuste dos hiperparâmetros (GridSearchCV)\n",
    "- Aplicação de modelos de machine learning para classificação (LogisticRegression, KNeighborsClassifier, RandomForest, DecisionTree, MLPClassifier)\n",
    "- Métricas de validação (validação cruzada, acurácia, precisão, f1 score, matriz de confusão e relatório de classificação)\n",
    "- Previsão com a base de teste\n",
    "- Persistindo o modelo final de machine learning para o disco (joblib)\n",
    "- Pensamento analítico e conclusão\n",
    "- Projeção para outros tipos de problemas de negócio"
   ]
  },
  {
   "cell_type": "markdown",
   "id": "e8ef5631",
   "metadata": {},
   "source": [
    "**___________________________________________________________________________________________________________________________**\n",
    "\n",
    "# DESCRIÇÃO DO DATASET"
   ]
  },
  {
   "cell_type": "markdown",
   "id": "011ca6ec",
   "metadata": {},
   "source": [
    "- **age**: Idade.\n",
    "\n",
    "- **workclass**: Classe trabalhadora.\n",
    "\n",
    "- **education**: Níveis de Escolaridade.\n",
    "\n",
    "- **education-num**: Código do Nível de Escolaridade.\n",
    "\n",
    "- **marital-status**: Estado Civil.\n",
    "\n",
    "- **occupation**: Ocupação.\n",
    "\n",
    "- **relationship**: Relacionamento.\n",
    "\n",
    "- **race**: Raça.\n",
    "\n",
    "- **sex**: Sexo.\n",
    "\n",
    "- **capital-gain**: Ganho de Capital.\n",
    "\n",
    "- **capital-loss**: Perda de Capital.\n",
    "\n",
    "- **hours-per-week**: Horas de trabalho por Semana.\n",
    "\n",
    "- **native-country**: País Nativo.\n",
    "\n",
    "- **fnlwgt**: \"fnlwgt\" é uma abreviação de \"final weight\" (peso final) e refere-se a um valor utilizado em análises estatísticas, especialmente em pesquisas de amostra, como o Censo dos Estados Unidos. Esse peso é aplicado para ajustar a amostra de forma que ela represente adequadamente a população total, levando em conta fatores como a seleção da amostra e a não resposta. Assim, o \"fnlwgt\" ajuda a garantir que os resultados da pesquisa reflitam com precisão as características demográficas da população."
   ]
  },
  {
   "cell_type": "markdown",
   "id": "8e1fc2d9",
   "metadata": {},
   "source": [
    "**___________________________________________________________________________________________________________________________**\n",
    "\n",
    "# ETAPAS DO PROJETO\n",
    "- [Importação](#importacao)\n",
    "- [Análise Exploratória](#analise)\n",
    "- [Tratamento](#tratamento)\n",
    "- [Modelagem](#modelagem)\n",
    "- [Avaliação](#avaliacao)\n",
    "- [Previsão](#previsao)\n",
    "- [Conclusão](#conclusao)\n",
    "- [Resumo](#resumo)"
   ]
  },
  {
   "cell_type": "markdown",
   "id": "4b1aca1f",
   "metadata": {},
   "source": [
    "**___________________________________________________________________________________________________________________________**\n",
    "\n",
    "<a id='importacao'></a>\n",
    "# IMPORTAÇÃO\n",
    "\n",
    "- O projeto é composto basicamente por duas bases de dados, uma para treinamento e outra para teste.\n",
    "    - **Base de Treino:** 'dataset/dados_brutos/adult_train.data'\n",
    "    - **Base de Teste:** 'dataset/dados_brutos/adult_test.test'"
   ]
  },
  {
   "cell_type": "code",
   "execution_count": 1,
   "id": "f73bf65c",
   "metadata": {},
   "outputs": [],
   "source": [
    "# Importação de algumas bibliotecas\n",
    "import numpy as np\n",
    "import pandas as pd\n",
    "import matplotlib.pyplot as plt\n",
    "import seaborn as sns\n",
    "%matplotlib inline"
   ]
  },
  {
   "cell_type": "markdown",
   "id": "72face0e",
   "metadata": {},
   "source": [
    "## Tratando e Manipulando os Arquivos .csv\n",
    "- Antes de iniciar o projeto, precisamos importar, manipular, limpar e tratar os dados brutos para que fiquem na forma correta"
   ]
  },
  {
   "cell_type": "markdown",
   "id": "f03acf4f",
   "metadata": {},
   "source": [
    "- **Base de Treino**"
   ]
  },
  {
   "cell_type": "code",
   "execution_count": 2,
   "id": "e2e5b909",
   "metadata": {},
   "outputs": [
    {
     "data": {
      "text/html": [
       "<div>\n",
       "<style scoped>\n",
       "    .dataframe tbody tr th:only-of-type {\n",
       "        vertical-align: middle;\n",
       "    }\n",
       "\n",
       "    .dataframe tbody tr th {\n",
       "        vertical-align: top;\n",
       "    }\n",
       "\n",
       "    .dataframe thead th {\n",
       "        text-align: right;\n",
       "    }\n",
       "</style>\n",
       "<table border=\"1\" class=\"dataframe\">\n",
       "  <thead>\n",
       "    <tr style=\"text-align: right;\">\n",
       "      <th></th>\n",
       "      <th>0</th>\n",
       "      <th>1</th>\n",
       "      <th>2</th>\n",
       "      <th>3</th>\n",
       "      <th>4</th>\n",
       "      <th>5</th>\n",
       "      <th>6</th>\n",
       "      <th>7</th>\n",
       "      <th>8</th>\n",
       "      <th>9</th>\n",
       "      <th>10</th>\n",
       "      <th>11</th>\n",
       "      <th>12</th>\n",
       "      <th>13</th>\n",
       "      <th>14</th>\n",
       "    </tr>\n",
       "  </thead>\n",
       "  <tbody>\n",
       "    <tr>\n",
       "      <th>0</th>\n",
       "      <td>39</td>\n",
       "      <td>State-gov</td>\n",
       "      <td>77516</td>\n",
       "      <td>Bachelors</td>\n",
       "      <td>13</td>\n",
       "      <td>Never-married</td>\n",
       "      <td>Adm-clerical</td>\n",
       "      <td>Not-in-family</td>\n",
       "      <td>White</td>\n",
       "      <td>Male</td>\n",
       "      <td>2174</td>\n",
       "      <td>0</td>\n",
       "      <td>40</td>\n",
       "      <td>United-States</td>\n",
       "      <td>&lt;=50K</td>\n",
       "    </tr>\n",
       "    <tr>\n",
       "      <th>1</th>\n",
       "      <td>50</td>\n",
       "      <td>Self-emp-not-inc</td>\n",
       "      <td>83311</td>\n",
       "      <td>Bachelors</td>\n",
       "      <td>13</td>\n",
       "      <td>Married-civ-spouse</td>\n",
       "      <td>Exec-managerial</td>\n",
       "      <td>Husband</td>\n",
       "      <td>White</td>\n",
       "      <td>Male</td>\n",
       "      <td>0</td>\n",
       "      <td>0</td>\n",
       "      <td>13</td>\n",
       "      <td>United-States</td>\n",
       "      <td>&lt;=50K</td>\n",
       "    </tr>\n",
       "    <tr>\n",
       "      <th>2</th>\n",
       "      <td>38</td>\n",
       "      <td>Private</td>\n",
       "      <td>215646</td>\n",
       "      <td>HS-grad</td>\n",
       "      <td>9</td>\n",
       "      <td>Divorced</td>\n",
       "      <td>Handlers-cleaners</td>\n",
       "      <td>Not-in-family</td>\n",
       "      <td>White</td>\n",
       "      <td>Male</td>\n",
       "      <td>0</td>\n",
       "      <td>0</td>\n",
       "      <td>40</td>\n",
       "      <td>United-States</td>\n",
       "      <td>&lt;=50K</td>\n",
       "    </tr>\n",
       "    <tr>\n",
       "      <th>3</th>\n",
       "      <td>53</td>\n",
       "      <td>Private</td>\n",
       "      <td>234721</td>\n",
       "      <td>11th</td>\n",
       "      <td>7</td>\n",
       "      <td>Married-civ-spouse</td>\n",
       "      <td>Handlers-cleaners</td>\n",
       "      <td>Husband</td>\n",
       "      <td>Black</td>\n",
       "      <td>Male</td>\n",
       "      <td>0</td>\n",
       "      <td>0</td>\n",
       "      <td>40</td>\n",
       "      <td>United-States</td>\n",
       "      <td>&lt;=50K</td>\n",
       "    </tr>\n",
       "    <tr>\n",
       "      <th>4</th>\n",
       "      <td>28</td>\n",
       "      <td>Private</td>\n",
       "      <td>338409</td>\n",
       "      <td>Bachelors</td>\n",
       "      <td>13</td>\n",
       "      <td>Married-civ-spouse</td>\n",
       "      <td>Prof-specialty</td>\n",
       "      <td>Wife</td>\n",
       "      <td>Black</td>\n",
       "      <td>Female</td>\n",
       "      <td>0</td>\n",
       "      <td>0</td>\n",
       "      <td>40</td>\n",
       "      <td>Cuba</td>\n",
       "      <td>&lt;=50K</td>\n",
       "    </tr>\n",
       "  </tbody>\n",
       "</table>\n",
       "</div>"
      ],
      "text/plain": [
       "   0                 1       2          3   4                   5   \\\n",
       "0  39         State-gov   77516  Bachelors  13       Never-married   \n",
       "1  50  Self-emp-not-inc   83311  Bachelors  13  Married-civ-spouse   \n",
       "2  38           Private  215646    HS-grad   9            Divorced   \n",
       "3  53           Private  234721       11th   7  Married-civ-spouse   \n",
       "4  28           Private  338409  Bachelors  13  Married-civ-spouse   \n",
       "\n",
       "                  6              7      8       9     10  11  12  \\\n",
       "0       Adm-clerical  Not-in-family  White    Male  2174   0  40   \n",
       "1    Exec-managerial        Husband  White    Male     0   0  13   \n",
       "2  Handlers-cleaners  Not-in-family  White    Male     0   0  40   \n",
       "3  Handlers-cleaners        Husband  Black    Male     0   0  40   \n",
       "4     Prof-specialty           Wife  Black  Female     0   0  40   \n",
       "\n",
       "              13     14  \n",
       "0  United-States  <=50K  \n",
       "1  United-States  <=50K  \n",
       "2  United-States  <=50K  \n",
       "3  United-States  <=50K  \n",
       "4           Cuba  <=50K  "
      ]
     },
     "execution_count": 2,
     "metadata": {},
     "output_type": "execute_result"
    }
   ],
   "source": [
    "# Importação da base de dados\n",
    "df_treino = pd.read_csv('dataset/dados_brutos/adult_train.data', header = None, skipinitialspace=True)\n",
    "df_treino.head()"
   ]
  },
  {
   "cell_type": "markdown",
   "id": "7da2b10f",
   "metadata": {},
   "source": [
    "- Observe que o arquivo disponibilizado não possui cabeçalho para nomear as colunas\n",
    "- Por conta disso, teremos que obter os nomes das colunas através do arquivo 'adult_description.names'"
   ]
  },
  {
   "cell_type": "markdown",
   "id": "5e4cd859",
   "metadata": {},
   "source": [
    "- **Abrindo o arquivo adult_description**"
   ]
  },
  {
   "cell_type": "code",
   "execution_count": 3,
   "id": "3c61e426",
   "metadata": {},
   "outputs": [],
   "source": [
    "# Abrindo o arquivo csv\n",
    "file = open('dataset/dados_brutos/adult_description.names', 'r')"
   ]
  },
  {
   "cell_type": "code",
   "execution_count": 4,
   "id": "a5d24313",
   "metadata": {},
   "outputs": [],
   "source": [
    "# Lendo todas as linhas do arquivo e armazendo em uma variável\n",
    "rows = file.readlines()"
   ]
  },
  {
   "cell_type": "code",
   "execution_count": 5,
   "id": "bd2786a2",
   "metadata": {},
   "outputs": [],
   "source": [
    "# Fechando o arquivo csv\n",
    "file.close()"
   ]
  },
  {
   "cell_type": "code",
   "execution_count": 6,
   "id": "6fee1c3f",
   "metadata": {},
   "outputs": [
    {
     "data": {
      "text/plain": [
       "['| This data was extracted from the census bureau database found at\\n',\n",
       " '| http://www.census.gov/ftp/pub/DES/www/welcome.html\\n',\n",
       " '| Donor: Ronny Kohavi and Barry Becker,\\n',\n",
       " '|        Data Mining and Visualization\\n',\n",
       " '|        Silicon Graphics.\\n',\n",
       " '|        e-mail: ronnyk@sgi.com for questions.\\n',\n",
       " '| Split into train-test using MLC++ GenCVFiles (2/3, 1/3 random).\\n',\n",
       " '| 48842 instances, mix of continuous and discrete    (train=32561, test=16281)\\n',\n",
       " '| 45222 if instances with unknown values are removed (train=30162, test=15060)\\n',\n",
       " '| Duplicate or conflicting instances : 6\\n',\n",
       " '| Class probabilities for adult.all file\\n',\n",
       " \"| Probability for the label '>50K'  : 23.93% / 24.78% (without unknowns)\\n\",\n",
       " \"| Probability for the label '<=50K' : 76.07% / 75.22% (without unknowns)\\n\",\n",
       " '|\\n',\n",
       " '| Extraction was done by Barry Becker from the 1994 Census database.  A set of\\n',\n",
       " '|   reasonably clean records was extracted using the following conditions:\\n',\n",
       " '|   ((AAGE>16) && (AGI>100) && (AFNLWGT>1)&& (HRSWK>0))\\n',\n",
       " '|\\n',\n",
       " '| Prediction task is to determine whether a person makes over 50K\\n',\n",
       " '| a year.\\n',\n",
       " '|\\n',\n",
       " '| First cited in:\\n',\n",
       " '| @inproceedings{kohavi-nbtree,\\n',\n",
       " '|    author={Ron Kohavi},\\n',\n",
       " '|    title={Scaling Up the Accuracy of Naive-Bayes Classifiers: a\\n',\n",
       " '|           Decision-Tree Hybrid},\\n',\n",
       " '|    booktitle={Proceedings of the Second International Conference on\\n',\n",
       " '|               Knowledge Discovery and Data Mining},\\n',\n",
       " '|    year = 1996,\\n',\n",
       " '|    pages={to appear}}\\n',\n",
       " '|\\n',\n",
       " '| Error Accuracy reported as follows, after removal of unknowns from\\n',\n",
       " '|    train/test sets):\\n',\n",
       " '|    C4.5       : 84.46+-0.30\\n',\n",
       " '|    Naive-Bayes: 83.88+-0.30\\n',\n",
       " '|    NBTree     : 85.90+-0.28\\n',\n",
       " '|\\n',\n",
       " '|\\n',\n",
       " '| Following algorithms were later run with the following error rates,\\n',\n",
       " '|    all after removal of unknowns and using the original train/test split.\\n',\n",
       " '|    All these numbers are straight runs using MLC++ with default values.\\n',\n",
       " '|\\n',\n",
       " '|    Algorithm               Error\\n',\n",
       " '| -- ----------------        -----\\n',\n",
       " '| 1  C4.5                    15.54\\n',\n",
       " '| 2  C4.5-auto               14.46\\n',\n",
       " '| 3  C4.5 rules              14.94\\n',\n",
       " '| 4  Voted ID3 (0.6)         15.64\\n',\n",
       " '| 5  Voted ID3 (0.8)         16.47\\n',\n",
       " '| 6  T2                      16.84\\n',\n",
       " '| 7  1R                      19.54\\n',\n",
       " '| 8  NBTree                  14.10\\n',\n",
       " '| 9  CN2                     16.00\\n',\n",
       " '| 10 HOODG                   14.82\\n',\n",
       " '| 11 FSS Naive Bayes         14.05\\n',\n",
       " '| 12 IDTM (Decision table)   14.46\\n',\n",
       " '| 13 Naive-Bayes             16.12\\n',\n",
       " '| 14 Nearest-neighbor (1)    21.42\\n',\n",
       " '| 15 Nearest-neighbor (3)    20.35\\n',\n",
       " '| 16 OC1                     15.04\\n',\n",
       " '| 17 Pebls                   Crashed.  Unknown why (bounds WERE increased)\\n',\n",
       " '|\\n',\n",
       " '| Conversion of original data as follows:\\n',\n",
       " '| 1. Discretized agrossincome into two ranges with threshold 50,000.\\n',\n",
       " '| 2. Convert U.S. to US to avoid periods.\\n',\n",
       " '| 3. Convert Unknown to \"?\"\\n',\n",
       " '| 4. Run MLC++ GenCVFiles to generate data,test.\\n',\n",
       " '|\\n',\n",
       " '| Description of fnlwgt (final weight)\\n',\n",
       " '|\\n',\n",
       " '| The weights on the CPS files are controlled to independent estimates of the\\n',\n",
       " '| civilian noninstitutional population of the US.  These are prepared monthly\\n',\n",
       " '| for us by Population Division here at the Census Bureau.  We use 3 sets of\\n',\n",
       " '| controls.\\n',\n",
       " '|  These are:\\n',\n",
       " '|          1.  A single cell estimate of the population 16+ for each state.\\n',\n",
       " '|          2.  Controls for Hispanic Origin by age and sex.\\n',\n",
       " '|          3.  Controls by Race, age and sex.\\n',\n",
       " '|\\n',\n",
       " '| We use all three sets of controls in our weighting program and \"rake\" through\\n',\n",
       " '| them 6 times so that by the end we come back to all the controls we used.\\n',\n",
       " '|\\n',\n",
       " '| The term estimate refers to population totals derived from CPS by creating\\n',\n",
       " '| \"weighted tallies\" of any specified socio-economic characteristics of the\\n',\n",
       " '| population.\\n',\n",
       " '|\\n',\n",
       " '| People with similar demographic characteristics should have\\n',\n",
       " '| similar weights.  There is one important caveat to remember\\n',\n",
       " '| about this statement.  That is that since the CPS sample is\\n',\n",
       " '| actually a collection of 51 state samples, each with its own\\n',\n",
       " '| probability of selection, the statement only applies within\\n',\n",
       " '| state.\\n',\n",
       " '\\n',\n",
       " '\\n',\n",
       " '>50K, <=50K.\\n',\n",
       " '\\n',\n",
       " 'age: continuous.\\n',\n",
       " 'workclass: Private, Self-emp-not-inc, Self-emp-inc, Federal-gov, Local-gov, State-gov, Without-pay, Never-worked.\\n',\n",
       " 'fnlwgt: continuous.\\n',\n",
       " 'education: Bachelors, Some-college, 11th, HS-grad, Prof-school, Assoc-acdm, Assoc-voc, 9th, 7th-8th, 12th, Masters, 1st-4th, 10th, Doctorate, 5th-6th, Preschool.\\n',\n",
       " 'education-num: continuous.\\n',\n",
       " 'marital-status: Married-civ-spouse, Divorced, Never-married, Separated, Widowed, Married-spouse-absent, Married-AF-spouse.\\n',\n",
       " 'occupation: Tech-support, Craft-repair, Other-service, Sales, Exec-managerial, Prof-specialty, Handlers-cleaners, Machine-op-inspct, Adm-clerical, Farming-fishing, Transport-moving, Priv-house-serv, Protective-serv, Armed-Forces.\\n',\n",
       " 'relationship: Wife, Own-child, Husband, Not-in-family, Other-relative, Unmarried.\\n',\n",
       " 'race: White, Asian-Pac-Islander, Amer-Indian-Eskimo, Other, Black.\\n',\n",
       " 'sex: Female, Male.\\n',\n",
       " 'capital-gain: continuous.\\n',\n",
       " 'capital-loss: continuous.\\n',\n",
       " 'hours-per-week: continuous.\\n',\n",
       " 'native-country: United-States, Cambodia, England, Puerto-Rico, Canada, Germany, Outlying-US(Guam-USVI-etc), India, Japan, Greece, South, China, Cuba, Iran, Honduras, Philippines, Italy, Poland, Jamaica, Vietnam, Mexico, Portugal, Ireland, France, Dominican-Republic, Laos, Ecuador, Taiwan, Haiti, Columbia, Hungary, Guatemala, Nicaragua, Scotland, Thailand, Yugoslavia, El-Salvador, Trinadad&Tobago, Peru, Hong, Holand-Netherlands.\\n']"
      ]
     },
     "execution_count": 6,
     "metadata": {},
     "output_type": "execute_result"
    }
   ],
   "source": [
    "# Exibindo as linhas do arquivo\n",
    "rows"
   ]
  },
  {
   "cell_type": "markdown",
   "id": "784c5cc4",
   "metadata": {},
   "source": [
    "- Observe que agora temos uma lista chamada \"rows\" que contém todas as linhas do arquivo \"adult_description\"\n",
    "- Queremos apenas as últimas linhas que contém informações da base de dados. Vamos selecioná-las"
   ]
  },
  {
   "cell_type": "code",
   "execution_count": 7,
   "id": "d55730c5",
   "metadata": {},
   "outputs": [],
   "source": [
    "# Selecionando as últimas linhas\n",
    "description = [descr.strip() for descr in rows[-14:]]"
   ]
  },
  {
   "cell_type": "code",
   "execution_count": 8,
   "id": "d5485abb",
   "metadata": {},
   "outputs": [
    {
     "data": {
      "text/plain": [
       "['age: continuous.',\n",
       " 'workclass: Private, Self-emp-not-inc, Self-emp-inc, Federal-gov, Local-gov, State-gov, Without-pay, Never-worked.',\n",
       " 'fnlwgt: continuous.',\n",
       " 'education: Bachelors, Some-college, 11th, HS-grad, Prof-school, Assoc-acdm, Assoc-voc, 9th, 7th-8th, 12th, Masters, 1st-4th, 10th, Doctorate, 5th-6th, Preschool.',\n",
       " 'education-num: continuous.',\n",
       " 'marital-status: Married-civ-spouse, Divorced, Never-married, Separated, Widowed, Married-spouse-absent, Married-AF-spouse.',\n",
       " 'occupation: Tech-support, Craft-repair, Other-service, Sales, Exec-managerial, Prof-specialty, Handlers-cleaners, Machine-op-inspct, Adm-clerical, Farming-fishing, Transport-moving, Priv-house-serv, Protective-serv, Armed-Forces.',\n",
       " 'relationship: Wife, Own-child, Husband, Not-in-family, Other-relative, Unmarried.',\n",
       " 'race: White, Asian-Pac-Islander, Amer-Indian-Eskimo, Other, Black.',\n",
       " 'sex: Female, Male.',\n",
       " 'capital-gain: continuous.',\n",
       " 'capital-loss: continuous.',\n",
       " 'hours-per-week: continuous.',\n",
       " 'native-country: United-States, Cambodia, England, Puerto-Rico, Canada, Germany, Outlying-US(Guam-USVI-etc), India, Japan, Greece, South, China, Cuba, Iran, Honduras, Philippines, Italy, Poland, Jamaica, Vietnam, Mexico, Portugal, Ireland, France, Dominican-Republic, Laos, Ecuador, Taiwan, Haiti, Columbia, Hungary, Guatemala, Nicaragua, Scotland, Thailand, Yugoslavia, El-Salvador, Trinadad&Tobago, Peru, Hong, Holand-Netherlands.']"
      ]
     },
     "execution_count": 8,
     "metadata": {},
     "output_type": "execute_result"
    }
   ],
   "source": [
    "# Observe que agora nós temos a descrição de cada coluna\n",
    "description"
   ]
  },
  {
   "cell_type": "markdown",
   "id": "ca3e7baa",
   "metadata": {},
   "source": [
    "- Vamos agora pegar apenas o nome das colunas"
   ]
  },
  {
   "cell_type": "code",
   "execution_count": 9,
   "id": "52517121",
   "metadata": {},
   "outputs": [
    {
     "data": {
      "text/plain": [
       "['age',\n",
       " 'workclass',\n",
       " 'fnlwgt',\n",
       " 'education',\n",
       " 'education-num',\n",
       " 'marital-status',\n",
       " 'occupation',\n",
       " 'relationship',\n",
       " 'race',\n",
       " 'sex',\n",
       " 'capital-gain',\n",
       " 'capital-loss',\n",
       " 'hours-per-week',\n",
       " 'native-country',\n",
       " 'income']"
      ]
     },
     "execution_count": 9,
     "metadata": {},
     "output_type": "execute_result"
    }
   ],
   "source": [
    "# Selecionando apenas os nomes das colunas e adicionando o 'income' a lista\n",
    "columns = [col.split(':')[0] for col in description]\n",
    "columns.append('income') #adicionando ao final da lista o nome da nossas variável alvo\n",
    "columns"
   ]
  },
  {
   "cell_type": "markdown",
   "id": "4d2a26b0",
   "metadata": {},
   "source": [
    "- **Atualizando a base de treino com os nomes das colunas**\n",
    "    - Agora que temos os nomes de cada coluna, podemos atualizar a base de treino"
   ]
  },
  {
   "cell_type": "code",
   "execution_count": 10,
   "id": "11180838",
   "metadata": {},
   "outputs": [
    {
     "data": {
      "text/html": [
       "<div>\n",
       "<style scoped>\n",
       "    .dataframe tbody tr th:only-of-type {\n",
       "        vertical-align: middle;\n",
       "    }\n",
       "\n",
       "    .dataframe tbody tr th {\n",
       "        vertical-align: top;\n",
       "    }\n",
       "\n",
       "    .dataframe thead th {\n",
       "        text-align: right;\n",
       "    }\n",
       "</style>\n",
       "<table border=\"1\" class=\"dataframe\">\n",
       "  <thead>\n",
       "    <tr style=\"text-align: right;\">\n",
       "      <th></th>\n",
       "      <th>0</th>\n",
       "      <th>1</th>\n",
       "      <th>2</th>\n",
       "      <th>3</th>\n",
       "      <th>4</th>\n",
       "      <th>5</th>\n",
       "      <th>6</th>\n",
       "      <th>7</th>\n",
       "      <th>8</th>\n",
       "      <th>9</th>\n",
       "      <th>10</th>\n",
       "      <th>11</th>\n",
       "      <th>12</th>\n",
       "      <th>13</th>\n",
       "      <th>14</th>\n",
       "    </tr>\n",
       "  </thead>\n",
       "  <tbody>\n",
       "    <tr>\n",
       "      <th>0</th>\n",
       "      <td>39</td>\n",
       "      <td>State-gov</td>\n",
       "      <td>77516</td>\n",
       "      <td>Bachelors</td>\n",
       "      <td>13</td>\n",
       "      <td>Never-married</td>\n",
       "      <td>Adm-clerical</td>\n",
       "      <td>Not-in-family</td>\n",
       "      <td>White</td>\n",
       "      <td>Male</td>\n",
       "      <td>2174</td>\n",
       "      <td>0</td>\n",
       "      <td>40</td>\n",
       "      <td>United-States</td>\n",
       "      <td>&lt;=50K</td>\n",
       "    </tr>\n",
       "    <tr>\n",
       "      <th>1</th>\n",
       "      <td>50</td>\n",
       "      <td>Self-emp-not-inc</td>\n",
       "      <td>83311</td>\n",
       "      <td>Bachelors</td>\n",
       "      <td>13</td>\n",
       "      <td>Married-civ-spouse</td>\n",
       "      <td>Exec-managerial</td>\n",
       "      <td>Husband</td>\n",
       "      <td>White</td>\n",
       "      <td>Male</td>\n",
       "      <td>0</td>\n",
       "      <td>0</td>\n",
       "      <td>13</td>\n",
       "      <td>United-States</td>\n",
       "      <td>&lt;=50K</td>\n",
       "    </tr>\n",
       "  </tbody>\n",
       "</table>\n",
       "</div>"
      ],
      "text/plain": [
       "   0                 1      2          3   4                   5   \\\n",
       "0  39         State-gov  77516  Bachelors  13       Never-married   \n",
       "1  50  Self-emp-not-inc  83311  Bachelors  13  Married-civ-spouse   \n",
       "\n",
       "                6              7      8     9     10  11  12             13  \\\n",
       "0     Adm-clerical  Not-in-family  White  Male  2174   0  40  United-States   \n",
       "1  Exec-managerial        Husband  White  Male     0   0  13  United-States   \n",
       "\n",
       "      14  \n",
       "0  <=50K  \n",
       "1  <=50K  "
      ]
     },
     "execution_count": 10,
     "metadata": {},
     "output_type": "execute_result"
    }
   ],
   "source": [
    "# Vamos visualizar novamente o dataframe\n",
    "df_treino.head(2)"
   ]
  },
  {
   "cell_type": "code",
   "execution_count": 11,
   "id": "155dbab8",
   "metadata": {},
   "outputs": [],
   "source": [
    "# Inserindo os nomes das colunas\n",
    "df_treino.columns = columns"
   ]
  },
  {
   "cell_type": "code",
   "execution_count": 12,
   "id": "0f0cb949",
   "metadata": {},
   "outputs": [
    {
     "data": {
      "text/html": [
       "<div>\n",
       "<style scoped>\n",
       "    .dataframe tbody tr th:only-of-type {\n",
       "        vertical-align: middle;\n",
       "    }\n",
       "\n",
       "    .dataframe tbody tr th {\n",
       "        vertical-align: top;\n",
       "    }\n",
       "\n",
       "    .dataframe thead th {\n",
       "        text-align: right;\n",
       "    }\n",
       "</style>\n",
       "<table border=\"1\" class=\"dataframe\">\n",
       "  <thead>\n",
       "    <tr style=\"text-align: right;\">\n",
       "      <th></th>\n",
       "      <th>age</th>\n",
       "      <th>workclass</th>\n",
       "      <th>fnlwgt</th>\n",
       "      <th>education</th>\n",
       "      <th>education-num</th>\n",
       "      <th>marital-status</th>\n",
       "      <th>occupation</th>\n",
       "      <th>relationship</th>\n",
       "      <th>race</th>\n",
       "      <th>sex</th>\n",
       "      <th>capital-gain</th>\n",
       "      <th>capital-loss</th>\n",
       "      <th>hours-per-week</th>\n",
       "      <th>native-country</th>\n",
       "      <th>income</th>\n",
       "    </tr>\n",
       "  </thead>\n",
       "  <tbody>\n",
       "    <tr>\n",
       "      <th>0</th>\n",
       "      <td>39</td>\n",
       "      <td>State-gov</td>\n",
       "      <td>77516</td>\n",
       "      <td>Bachelors</td>\n",
       "      <td>13</td>\n",
       "      <td>Never-married</td>\n",
       "      <td>Adm-clerical</td>\n",
       "      <td>Not-in-family</td>\n",
       "      <td>White</td>\n",
       "      <td>Male</td>\n",
       "      <td>2174</td>\n",
       "      <td>0</td>\n",
       "      <td>40</td>\n",
       "      <td>United-States</td>\n",
       "      <td>&lt;=50K</td>\n",
       "    </tr>\n",
       "    <tr>\n",
       "      <th>1</th>\n",
       "      <td>50</td>\n",
       "      <td>Self-emp-not-inc</td>\n",
       "      <td>83311</td>\n",
       "      <td>Bachelors</td>\n",
       "      <td>13</td>\n",
       "      <td>Married-civ-spouse</td>\n",
       "      <td>Exec-managerial</td>\n",
       "      <td>Husband</td>\n",
       "      <td>White</td>\n",
       "      <td>Male</td>\n",
       "      <td>0</td>\n",
       "      <td>0</td>\n",
       "      <td>13</td>\n",
       "      <td>United-States</td>\n",
       "      <td>&lt;=50K</td>\n",
       "    </tr>\n",
       "  </tbody>\n",
       "</table>\n",
       "</div>"
      ],
      "text/plain": [
       "   age         workclass  fnlwgt  education  education-num  \\\n",
       "0   39         State-gov   77516  Bachelors             13   \n",
       "1   50  Self-emp-not-inc   83311  Bachelors             13   \n",
       "\n",
       "       marital-status       occupation   relationship   race   sex  \\\n",
       "0       Never-married     Adm-clerical  Not-in-family  White  Male   \n",
       "1  Married-civ-spouse  Exec-managerial        Husband  White  Male   \n",
       "\n",
       "   capital-gain  capital-loss  hours-per-week native-country income  \n",
       "0          2174             0              40  United-States  <=50K  \n",
       "1             0             0              13  United-States  <=50K  "
      ]
     },
     "execution_count": 12,
     "metadata": {},
     "output_type": "execute_result"
    }
   ],
   "source": [
    "# Observe agora o nosso dataframe com cada coluna nomeada corretamente\n",
    "df_treino.head(2)"
   ]
  },
  {
   "cell_type": "markdown",
   "id": "e9096e4b",
   "metadata": {},
   "source": [
    "- Renomeando algumas colunas apenas para facilitar no restante do projeto"
   ]
  },
  {
   "cell_type": "code",
   "execution_count": 13,
   "id": "8b996bd2",
   "metadata": {
    "scrolled": true
   },
   "outputs": [
    {
     "data": {
      "text/html": [
       "<div>\n",
       "<style scoped>\n",
       "    .dataframe tbody tr th:only-of-type {\n",
       "        vertical-align: middle;\n",
       "    }\n",
       "\n",
       "    .dataframe tbody tr th {\n",
       "        vertical-align: top;\n",
       "    }\n",
       "\n",
       "    .dataframe thead th {\n",
       "        text-align: right;\n",
       "    }\n",
       "</style>\n",
       "<table border=\"1\" class=\"dataframe\">\n",
       "  <thead>\n",
       "    <tr style=\"text-align: right;\">\n",
       "      <th></th>\n",
       "      <th>age</th>\n",
       "      <th>workclass</th>\n",
       "      <th>fnlwgt</th>\n",
       "      <th>education</th>\n",
       "      <th>education_num</th>\n",
       "      <th>marital_status</th>\n",
       "      <th>occupation</th>\n",
       "      <th>relationship</th>\n",
       "      <th>race</th>\n",
       "      <th>sex</th>\n",
       "      <th>capital_gain</th>\n",
       "      <th>capital_loss</th>\n",
       "      <th>hours_per_week</th>\n",
       "      <th>native_country</th>\n",
       "      <th>income</th>\n",
       "    </tr>\n",
       "  </thead>\n",
       "  <tbody>\n",
       "    <tr>\n",
       "      <th>0</th>\n",
       "      <td>39</td>\n",
       "      <td>State-gov</td>\n",
       "      <td>77516</td>\n",
       "      <td>Bachelors</td>\n",
       "      <td>13</td>\n",
       "      <td>Never-married</td>\n",
       "      <td>Adm-clerical</td>\n",
       "      <td>Not-in-family</td>\n",
       "      <td>White</td>\n",
       "      <td>Male</td>\n",
       "      <td>2174</td>\n",
       "      <td>0</td>\n",
       "      <td>40</td>\n",
       "      <td>United-States</td>\n",
       "      <td>&lt;=50K</td>\n",
       "    </tr>\n",
       "    <tr>\n",
       "      <th>1</th>\n",
       "      <td>50</td>\n",
       "      <td>Self-emp-not-inc</td>\n",
       "      <td>83311</td>\n",
       "      <td>Bachelors</td>\n",
       "      <td>13</td>\n",
       "      <td>Married-civ-spouse</td>\n",
       "      <td>Exec-managerial</td>\n",
       "      <td>Husband</td>\n",
       "      <td>White</td>\n",
       "      <td>Male</td>\n",
       "      <td>0</td>\n",
       "      <td>0</td>\n",
       "      <td>13</td>\n",
       "      <td>United-States</td>\n",
       "      <td>&lt;=50K</td>\n",
       "    </tr>\n",
       "  </tbody>\n",
       "</table>\n",
       "</div>"
      ],
      "text/plain": [
       "   age         workclass  fnlwgt  education  education_num  \\\n",
       "0   39         State-gov   77516  Bachelors             13   \n",
       "1   50  Self-emp-not-inc   83311  Bachelors             13   \n",
       "\n",
       "       marital_status       occupation   relationship   race   sex  \\\n",
       "0       Never-married     Adm-clerical  Not-in-family  White  Male   \n",
       "1  Married-civ-spouse  Exec-managerial        Husband  White  Male   \n",
       "\n",
       "   capital_gain  capital_loss  hours_per_week native_country income  \n",
       "0          2174             0              40  United-States  <=50K  \n",
       "1             0             0              13  United-States  <=50K  "
      ]
     },
     "execution_count": 13,
     "metadata": {},
     "output_type": "execute_result"
    }
   ],
   "source": [
    "# Renomeando algumas colunas\n",
    "df_treino = df_treino.rename(columns={'education-num': 'education_num', \n",
    "                         'marital-status': 'marital_status',\n",
    "                         'capital-gain': 'capital_gain',\n",
    "                         'capital-loss': 'capital_loss',\n",
    "                         'hours-per-week': 'hours_per_week',\n",
    "                         'native-country': 'native_country'})\n",
    "df_treino.head(2)"
   ]
  },
  {
   "cell_type": "markdown",
   "id": "5ff91390",
   "metadata": {},
   "source": [
    "- **Base de Teste**\n",
    "    - Agora, vamos fazer o mesmo processo para o arquivo que contém os dados de teste, atualizando com os nomes das colunas"
   ]
  },
  {
   "cell_type": "code",
   "execution_count": 14,
   "id": "b3bccace",
   "metadata": {},
   "outputs": [
    {
     "data": {
      "text/html": [
       "<div>\n",
       "<style scoped>\n",
       "    .dataframe tbody tr th:only-of-type {\n",
       "        vertical-align: middle;\n",
       "    }\n",
       "\n",
       "    .dataframe tbody tr th {\n",
       "        vertical-align: top;\n",
       "    }\n",
       "\n",
       "    .dataframe thead th {\n",
       "        text-align: right;\n",
       "    }\n",
       "</style>\n",
       "<table border=\"1\" class=\"dataframe\">\n",
       "  <thead>\n",
       "    <tr style=\"text-align: right;\">\n",
       "      <th></th>\n",
       "      <th>age</th>\n",
       "      <th>workclass</th>\n",
       "      <th>fnlwgt</th>\n",
       "      <th>education</th>\n",
       "      <th>education-num</th>\n",
       "      <th>marital-status</th>\n",
       "      <th>occupation</th>\n",
       "      <th>relationship</th>\n",
       "      <th>race</th>\n",
       "      <th>sex</th>\n",
       "      <th>capital-gain</th>\n",
       "      <th>capital-loss</th>\n",
       "      <th>hours-per-week</th>\n",
       "      <th>native-country</th>\n",
       "      <th>income</th>\n",
       "    </tr>\n",
       "  </thead>\n",
       "  <tbody>\n",
       "    <tr>\n",
       "      <th>0</th>\n",
       "      <td>25</td>\n",
       "      <td>Private</td>\n",
       "      <td>226802</td>\n",
       "      <td>11th</td>\n",
       "      <td>7</td>\n",
       "      <td>Never-married</td>\n",
       "      <td>Machine-op-inspct</td>\n",
       "      <td>Own-child</td>\n",
       "      <td>Black</td>\n",
       "      <td>Male</td>\n",
       "      <td>0</td>\n",
       "      <td>0</td>\n",
       "      <td>40</td>\n",
       "      <td>United-States</td>\n",
       "      <td>&lt;=50K.</td>\n",
       "    </tr>\n",
       "    <tr>\n",
       "      <th>1</th>\n",
       "      <td>38</td>\n",
       "      <td>Private</td>\n",
       "      <td>89814</td>\n",
       "      <td>HS-grad</td>\n",
       "      <td>9</td>\n",
       "      <td>Married-civ-spouse</td>\n",
       "      <td>Farming-fishing</td>\n",
       "      <td>Husband</td>\n",
       "      <td>White</td>\n",
       "      <td>Male</td>\n",
       "      <td>0</td>\n",
       "      <td>0</td>\n",
       "      <td>50</td>\n",
       "      <td>United-States</td>\n",
       "      <td>&lt;=50K.</td>\n",
       "    </tr>\n",
       "    <tr>\n",
       "      <th>2</th>\n",
       "      <td>28</td>\n",
       "      <td>Local-gov</td>\n",
       "      <td>336951</td>\n",
       "      <td>Assoc-acdm</td>\n",
       "      <td>12</td>\n",
       "      <td>Married-civ-spouse</td>\n",
       "      <td>Protective-serv</td>\n",
       "      <td>Husband</td>\n",
       "      <td>White</td>\n",
       "      <td>Male</td>\n",
       "      <td>0</td>\n",
       "      <td>0</td>\n",
       "      <td>40</td>\n",
       "      <td>United-States</td>\n",
       "      <td>&gt;50K.</td>\n",
       "    </tr>\n",
       "  </tbody>\n",
       "</table>\n",
       "</div>"
      ],
      "text/plain": [
       "   age  workclass  fnlwgt   education  education-num      marital-status  \\\n",
       "0   25    Private  226802        11th              7       Never-married   \n",
       "1   38    Private   89814     HS-grad              9  Married-civ-spouse   \n",
       "2   28  Local-gov  336951  Assoc-acdm             12  Married-civ-spouse   \n",
       "\n",
       "          occupation relationship   race   sex  capital-gain  capital-loss  \\\n",
       "0  Machine-op-inspct    Own-child  Black  Male             0             0   \n",
       "1    Farming-fishing      Husband  White  Male             0             0   \n",
       "2    Protective-serv      Husband  White  Male             0             0   \n",
       "\n",
       "   hours-per-week native-country  income  \n",
       "0              40  United-States  <=50K.  \n",
       "1              50  United-States  <=50K.  \n",
       "2              40  United-States   >50K.  "
      ]
     },
     "execution_count": 14,
     "metadata": {},
     "output_type": "execute_result"
    }
   ],
   "source": [
    "# Importação da base de dados\n",
    "df_teste = pd.read_csv('dataset/dados_brutos/adult_test.test', names=columns, skipinitialspace=True, skiprows=[0])\n",
    "\n",
    "df_teste.head(3)"
   ]
  },
  {
   "cell_type": "code",
   "execution_count": 15,
   "id": "396bfaca",
   "metadata": {
    "scrolled": false
   },
   "outputs": [
    {
     "data": {
      "text/html": [
       "<div>\n",
       "<style scoped>\n",
       "    .dataframe tbody tr th:only-of-type {\n",
       "        vertical-align: middle;\n",
       "    }\n",
       "\n",
       "    .dataframe tbody tr th {\n",
       "        vertical-align: top;\n",
       "    }\n",
       "\n",
       "    .dataframe thead th {\n",
       "        text-align: right;\n",
       "    }\n",
       "</style>\n",
       "<table border=\"1\" class=\"dataframe\">\n",
       "  <thead>\n",
       "    <tr style=\"text-align: right;\">\n",
       "      <th></th>\n",
       "      <th>age</th>\n",
       "      <th>workclass</th>\n",
       "      <th>fnlwgt</th>\n",
       "      <th>education</th>\n",
       "      <th>education_num</th>\n",
       "      <th>marital_status</th>\n",
       "      <th>occupation</th>\n",
       "      <th>relationship</th>\n",
       "      <th>race</th>\n",
       "      <th>sex</th>\n",
       "      <th>capital_gain</th>\n",
       "      <th>capital_loss</th>\n",
       "      <th>hours_per_week</th>\n",
       "      <th>native_country</th>\n",
       "      <th>income</th>\n",
       "    </tr>\n",
       "  </thead>\n",
       "  <tbody>\n",
       "    <tr>\n",
       "      <th>0</th>\n",
       "      <td>25</td>\n",
       "      <td>Private</td>\n",
       "      <td>226802</td>\n",
       "      <td>11th</td>\n",
       "      <td>7</td>\n",
       "      <td>Never-married</td>\n",
       "      <td>Machine-op-inspct</td>\n",
       "      <td>Own-child</td>\n",
       "      <td>Black</td>\n",
       "      <td>Male</td>\n",
       "      <td>0</td>\n",
       "      <td>0</td>\n",
       "      <td>40</td>\n",
       "      <td>United-States</td>\n",
       "      <td>&lt;=50K.</td>\n",
       "    </tr>\n",
       "    <tr>\n",
       "      <th>1</th>\n",
       "      <td>38</td>\n",
       "      <td>Private</td>\n",
       "      <td>89814</td>\n",
       "      <td>HS-grad</td>\n",
       "      <td>9</td>\n",
       "      <td>Married-civ-spouse</td>\n",
       "      <td>Farming-fishing</td>\n",
       "      <td>Husband</td>\n",
       "      <td>White</td>\n",
       "      <td>Male</td>\n",
       "      <td>0</td>\n",
       "      <td>0</td>\n",
       "      <td>50</td>\n",
       "      <td>United-States</td>\n",
       "      <td>&lt;=50K.</td>\n",
       "    </tr>\n",
       "  </tbody>\n",
       "</table>\n",
       "</div>"
      ],
      "text/plain": [
       "   age workclass  fnlwgt education  education_num      marital_status  \\\n",
       "0   25   Private  226802      11th              7       Never-married   \n",
       "1   38   Private   89814   HS-grad              9  Married-civ-spouse   \n",
       "\n",
       "          occupation relationship   race   sex  capital_gain  capital_loss  \\\n",
       "0  Machine-op-inspct    Own-child  Black  Male             0             0   \n",
       "1    Farming-fishing      Husband  White  Male             0             0   \n",
       "\n",
       "   hours_per_week native_country  income  \n",
       "0              40  United-States  <=50K.  \n",
       "1              50  United-States  <=50K.  "
      ]
     },
     "execution_count": 15,
     "metadata": {},
     "output_type": "execute_result"
    }
   ],
   "source": [
    "# Renomeando algumas colunas\n",
    "df_teste = df_teste.rename(columns={'education-num': 'education_num', \n",
    "                         'marital-status': 'marital_status',\n",
    "                         'capital-gain': 'capital_gain',\n",
    "                         'capital-loss': 'capital_loss',\n",
    "                         'hours-per-week': 'hours_per_week',\n",
    "                         'native-country': 'native_country'})\n",
    "df_teste.head(2)"
   ]
  },
  {
   "cell_type": "code",
   "execution_count": 16,
   "id": "71a20901",
   "metadata": {},
   "outputs": [],
   "source": [
    "# Removendo o '.' no final de cada valor da coluna 'income'\n",
    "df_teste.loc[:, 'income'] = df_teste.loc[:, 'income'].apply(lambda x: x.split('.')[0])"
   ]
  },
  {
   "cell_type": "markdown",
   "id": "01444bfb",
   "metadata": {},
   "source": [
    "- **Salvando as bases de treino e teste com a formatação correta em um novo arquivo csv**"
   ]
  },
  {
   "cell_type": "code",
   "execution_count": 17,
   "id": "fd2a87e6",
   "metadata": {},
   "outputs": [],
   "source": [
    "# Exportando as bases\n",
    "df_treino.to_csv('dataset/dados_limpos/adult_train.csv', index=False)\n",
    "df_teste.to_csv('dataset/dados_limpos/adult_test.csv', index=False)"
   ]
  },
  {
   "cell_type": "markdown",
   "id": "b4dd380b",
   "metadata": {},
   "source": [
    "## Importando a Base de Dados"
   ]
  },
  {
   "cell_type": "markdown",
   "id": "bfe8db6f",
   "metadata": {},
   "source": [
    "- **Base de Treino**"
   ]
  },
  {
   "cell_type": "code",
   "execution_count": 18,
   "id": "20255d29",
   "metadata": {},
   "outputs": [],
   "source": [
    "# Importando a base\n",
    "df_treino = pd.read_csv('dataset/dados_limpos/adult_train.csv')"
   ]
  },
  {
   "cell_type": "code",
   "execution_count": 19,
   "id": "02fc0318",
   "metadata": {},
   "outputs": [
    {
     "data": {
      "text/html": [
       "<div>\n",
       "<style scoped>\n",
       "    .dataframe tbody tr th:only-of-type {\n",
       "        vertical-align: middle;\n",
       "    }\n",
       "\n",
       "    .dataframe tbody tr th {\n",
       "        vertical-align: top;\n",
       "    }\n",
       "\n",
       "    .dataframe thead th {\n",
       "        text-align: right;\n",
       "    }\n",
       "</style>\n",
       "<table border=\"1\" class=\"dataframe\">\n",
       "  <thead>\n",
       "    <tr style=\"text-align: right;\">\n",
       "      <th></th>\n",
       "      <th>age</th>\n",
       "      <th>workclass</th>\n",
       "      <th>fnlwgt</th>\n",
       "      <th>education</th>\n",
       "      <th>education_num</th>\n",
       "      <th>marital_status</th>\n",
       "      <th>occupation</th>\n",
       "      <th>relationship</th>\n",
       "      <th>race</th>\n",
       "      <th>sex</th>\n",
       "      <th>capital_gain</th>\n",
       "      <th>capital_loss</th>\n",
       "      <th>hours_per_week</th>\n",
       "      <th>native_country</th>\n",
       "      <th>income</th>\n",
       "    </tr>\n",
       "  </thead>\n",
       "  <tbody>\n",
       "    <tr>\n",
       "      <th>0</th>\n",
       "      <td>39</td>\n",
       "      <td>State-gov</td>\n",
       "      <td>77516</td>\n",
       "      <td>Bachelors</td>\n",
       "      <td>13</td>\n",
       "      <td>Never-married</td>\n",
       "      <td>Adm-clerical</td>\n",
       "      <td>Not-in-family</td>\n",
       "      <td>White</td>\n",
       "      <td>Male</td>\n",
       "      <td>2174</td>\n",
       "      <td>0</td>\n",
       "      <td>40</td>\n",
       "      <td>United-States</td>\n",
       "      <td>&lt;=50K</td>\n",
       "    </tr>\n",
       "    <tr>\n",
       "      <th>1</th>\n",
       "      <td>50</td>\n",
       "      <td>Self-emp-not-inc</td>\n",
       "      <td>83311</td>\n",
       "      <td>Bachelors</td>\n",
       "      <td>13</td>\n",
       "      <td>Married-civ-spouse</td>\n",
       "      <td>Exec-managerial</td>\n",
       "      <td>Husband</td>\n",
       "      <td>White</td>\n",
       "      <td>Male</td>\n",
       "      <td>0</td>\n",
       "      <td>0</td>\n",
       "      <td>13</td>\n",
       "      <td>United-States</td>\n",
       "      <td>&lt;=50K</td>\n",
       "    </tr>\n",
       "    <tr>\n",
       "      <th>2</th>\n",
       "      <td>38</td>\n",
       "      <td>Private</td>\n",
       "      <td>215646</td>\n",
       "      <td>HS-grad</td>\n",
       "      <td>9</td>\n",
       "      <td>Divorced</td>\n",
       "      <td>Handlers-cleaners</td>\n",
       "      <td>Not-in-family</td>\n",
       "      <td>White</td>\n",
       "      <td>Male</td>\n",
       "      <td>0</td>\n",
       "      <td>0</td>\n",
       "      <td>40</td>\n",
       "      <td>United-States</td>\n",
       "      <td>&lt;=50K</td>\n",
       "    </tr>\n",
       "  </tbody>\n",
       "</table>\n",
       "</div>"
      ],
      "text/plain": [
       "   age         workclass  fnlwgt  education  education_num  \\\n",
       "0   39         State-gov   77516  Bachelors             13   \n",
       "1   50  Self-emp-not-inc   83311  Bachelors             13   \n",
       "2   38           Private  215646    HS-grad              9   \n",
       "\n",
       "       marital_status         occupation   relationship   race   sex  \\\n",
       "0       Never-married       Adm-clerical  Not-in-family  White  Male   \n",
       "1  Married-civ-spouse    Exec-managerial        Husband  White  Male   \n",
       "2            Divorced  Handlers-cleaners  Not-in-family  White  Male   \n",
       "\n",
       "   capital_gain  capital_loss  hours_per_week native_country income  \n",
       "0          2174             0              40  United-States  <=50K  \n",
       "1             0             0              13  United-States  <=50K  \n",
       "2             0             0              40  United-States  <=50K  "
      ]
     },
     "execution_count": 19,
     "metadata": {},
     "output_type": "execute_result"
    }
   ],
   "source": [
    "# Exibindo o dataframe\n",
    "df_treino.head(3)"
   ]
  },
  {
   "cell_type": "markdown",
   "id": "fed52283",
   "metadata": {},
   "source": [
    "- **Base de Teste**"
   ]
  },
  {
   "cell_type": "code",
   "execution_count": 20,
   "id": "a183d4c9",
   "metadata": {},
   "outputs": [],
   "source": [
    "# Importando a base\n",
    "df_teste = pd.read_csv('dataset/dados_limpos/adult_test.csv')"
   ]
  },
  {
   "cell_type": "code",
   "execution_count": 21,
   "id": "04e70d69",
   "metadata": {},
   "outputs": [
    {
     "data": {
      "text/html": [
       "<div>\n",
       "<style scoped>\n",
       "    .dataframe tbody tr th:only-of-type {\n",
       "        vertical-align: middle;\n",
       "    }\n",
       "\n",
       "    .dataframe tbody tr th {\n",
       "        vertical-align: top;\n",
       "    }\n",
       "\n",
       "    .dataframe thead th {\n",
       "        text-align: right;\n",
       "    }\n",
       "</style>\n",
       "<table border=\"1\" class=\"dataframe\">\n",
       "  <thead>\n",
       "    <tr style=\"text-align: right;\">\n",
       "      <th></th>\n",
       "      <th>age</th>\n",
       "      <th>workclass</th>\n",
       "      <th>fnlwgt</th>\n",
       "      <th>education</th>\n",
       "      <th>education_num</th>\n",
       "      <th>marital_status</th>\n",
       "      <th>occupation</th>\n",
       "      <th>relationship</th>\n",
       "      <th>race</th>\n",
       "      <th>sex</th>\n",
       "      <th>capital_gain</th>\n",
       "      <th>capital_loss</th>\n",
       "      <th>hours_per_week</th>\n",
       "      <th>native_country</th>\n",
       "      <th>income</th>\n",
       "    </tr>\n",
       "  </thead>\n",
       "  <tbody>\n",
       "    <tr>\n",
       "      <th>0</th>\n",
       "      <td>25</td>\n",
       "      <td>Private</td>\n",
       "      <td>226802</td>\n",
       "      <td>11th</td>\n",
       "      <td>7</td>\n",
       "      <td>Never-married</td>\n",
       "      <td>Machine-op-inspct</td>\n",
       "      <td>Own-child</td>\n",
       "      <td>Black</td>\n",
       "      <td>Male</td>\n",
       "      <td>0</td>\n",
       "      <td>0</td>\n",
       "      <td>40</td>\n",
       "      <td>United-States</td>\n",
       "      <td>&lt;=50K</td>\n",
       "    </tr>\n",
       "    <tr>\n",
       "      <th>1</th>\n",
       "      <td>38</td>\n",
       "      <td>Private</td>\n",
       "      <td>89814</td>\n",
       "      <td>HS-grad</td>\n",
       "      <td>9</td>\n",
       "      <td>Married-civ-spouse</td>\n",
       "      <td>Farming-fishing</td>\n",
       "      <td>Husband</td>\n",
       "      <td>White</td>\n",
       "      <td>Male</td>\n",
       "      <td>0</td>\n",
       "      <td>0</td>\n",
       "      <td>50</td>\n",
       "      <td>United-States</td>\n",
       "      <td>&lt;=50K</td>\n",
       "    </tr>\n",
       "    <tr>\n",
       "      <th>2</th>\n",
       "      <td>28</td>\n",
       "      <td>Local-gov</td>\n",
       "      <td>336951</td>\n",
       "      <td>Assoc-acdm</td>\n",
       "      <td>12</td>\n",
       "      <td>Married-civ-spouse</td>\n",
       "      <td>Protective-serv</td>\n",
       "      <td>Husband</td>\n",
       "      <td>White</td>\n",
       "      <td>Male</td>\n",
       "      <td>0</td>\n",
       "      <td>0</td>\n",
       "      <td>40</td>\n",
       "      <td>United-States</td>\n",
       "      <td>&gt;50K</td>\n",
       "    </tr>\n",
       "  </tbody>\n",
       "</table>\n",
       "</div>"
      ],
      "text/plain": [
       "   age  workclass  fnlwgt   education  education_num      marital_status  \\\n",
       "0   25    Private  226802        11th              7       Never-married   \n",
       "1   38    Private   89814     HS-grad              9  Married-civ-spouse   \n",
       "2   28  Local-gov  336951  Assoc-acdm             12  Married-civ-spouse   \n",
       "\n",
       "          occupation relationship   race   sex  capital_gain  capital_loss  \\\n",
       "0  Machine-op-inspct    Own-child  Black  Male             0             0   \n",
       "1    Farming-fishing      Husband  White  Male             0             0   \n",
       "2    Protective-serv      Husband  White  Male             0             0   \n",
       "\n",
       "   hours_per_week native_country income  \n",
       "0              40  United-States  <=50K  \n",
       "1              50  United-States  <=50K  \n",
       "2              40  United-States   >50K  "
      ]
     },
     "execution_count": 21,
     "metadata": {},
     "output_type": "execute_result"
    }
   ],
   "source": [
    "# Exibindo o dataframe\n",
    "df_teste.head(3)"
   ]
  },
  {
   "cell_type": "markdown",
   "id": "2c84b075",
   "metadata": {},
   "source": [
    "**___________________________________________________________________________________________________________________________**\n",
    "\n",
    "<a id='analise'></a>\n",
    "# ANÁLISE EXPLORATÓRIA"
   ]
  },
  {
   "cell_type": "markdown",
   "id": "dd058abc",
   "metadata": {},
   "source": [
    "## Relatório ydata-profiling\n",
    "- Vamos iniciar a análise da base utilizando o ydata-profiling para gerar um relatório e facilitar nossa análise geral\n",
    "- Após isso, podemos ir analisando cada coluna e suas relações para um entendimento mais profundo\n",
    "- https://github.com/ydataai/ydata-profiling"
   ]
  },
  {
   "cell_type": "code",
   "execution_count": 22,
   "id": "92302edd",
   "metadata": {},
   "outputs": [],
   "source": [
    "# Importando a biblioteca ydata-profiling\n",
    "from ydata_profiling import ProfileReport"
   ]
  },
  {
   "cell_type": "code",
   "execution_count": 23,
   "id": "4f955aaa",
   "metadata": {},
   "outputs": [],
   "source": [
    "# Instanciando o ProfileReport\n",
    "report = ProfileReport(df_treino, title='adult_report')"
   ]
  },
  {
   "cell_type": "code",
   "execution_count": 24,
   "id": "153dbf0a",
   "metadata": {
    "scrolled": false
   },
   "outputs": [
    {
     "name": "stderr",
     "output_type": "stream",
     "text": [
      "C:\\Users\\Douglas\\anaconda3\\Lib\\site-packages\\ydata_profiling\\profile_report.py:354: UserWarning: Try running command: 'pip install --upgrade Pillow' to avoid ValueError\n",
      "  warnings.warn(\n"
     ]
    },
    {
     "data": {
      "application/vnd.jupyter.widget-view+json": {
       "model_id": "6ca6610c99e742c18ee20f47cd37f3f5",
       "version_major": 2,
       "version_minor": 0
      },
      "text/plain": [
       "Summarize dataset:   0%|          | 0/5 [00:00<?, ?it/s]"
      ]
     },
     "metadata": {},
     "output_type": "display_data"
    },
    {
     "data": {
      "application/vnd.jupyter.widget-view+json": {
       "model_id": "a81d0f1a4eb44db7a9af332355f391c0",
       "version_major": 2,
       "version_minor": 0
      },
      "text/plain": [
       "Generate report structure:   0%|          | 0/1 [00:00<?, ?it/s]"
      ]
     },
     "metadata": {},
     "output_type": "display_data"
    },
    {
     "data": {
      "application/vnd.jupyter.widget-view+json": {
       "model_id": "62b912e8a8e74d26bd706bf867319d9f",
       "version_major": 2,
       "version_minor": 0
      },
      "text/plain": [
       "Render HTML:   0%|          | 0/1 [00:00<?, ?it/s]"
      ]
     },
     "metadata": {},
     "output_type": "display_data"
    },
    {
     "data": {
      "application/vnd.jupyter.widget-view+json": {
       "model_id": "eadadd88a7c54ae69af08d030f86306c",
       "version_major": 2,
       "version_minor": 0
      },
      "text/plain": [
       "Export report to file:   0%|          | 0/1 [00:00<?, ?it/s]"
      ]
     },
     "metadata": {},
     "output_type": "display_data"
    }
   ],
   "source": [
    "# Criando o relatório html\n",
    "report.to_file('adult_report.html')"
   ]
  },
  {
   "cell_type": "markdown",
   "id": "97ecd0bb",
   "metadata": {},
   "source": [
    "## Analisando algumas informações da base"
   ]
  },
  {
   "cell_type": "markdown",
   "id": "3219ba3c",
   "metadata": {},
   "source": [
    "- **Base de Treino**"
   ]
  },
  {
   "cell_type": "code",
   "execution_count": 25,
   "id": "1e33501c",
   "metadata": {
    "scrolled": false
   },
   "outputs": [
    {
     "name": "stdout",
     "output_type": "stream",
     "text": [
      "<class 'pandas.core.frame.DataFrame'>\n",
      "RangeIndex: 32561 entries, 0 to 32560\n",
      "Data columns (total 15 columns):\n",
      " #   Column          Non-Null Count  Dtype \n",
      "---  ------          --------------  ----- \n",
      " 0   age             32561 non-null  int64 \n",
      " 1   workclass       32561 non-null  object\n",
      " 2   fnlwgt          32561 non-null  int64 \n",
      " 3   education       32561 non-null  object\n",
      " 4   education_num   32561 non-null  int64 \n",
      " 5   marital_status  32561 non-null  object\n",
      " 6   occupation      32561 non-null  object\n",
      " 7   relationship    32561 non-null  object\n",
      " 8   race            32561 non-null  object\n",
      " 9   sex             32561 non-null  object\n",
      " 10  capital_gain    32561 non-null  int64 \n",
      " 11  capital_loss    32561 non-null  int64 \n",
      " 12  hours_per_week  32561 non-null  int64 \n",
      " 13  native_country  32561 non-null  object\n",
      " 14  income          32561 non-null  object\n",
      "dtypes: int64(6), object(9)\n",
      "memory usage: 3.7+ MB\n"
     ]
    }
   ],
   "source": [
    "# Analisando informações da base\n",
    "df_treino.info()"
   ]
  },
  {
   "cell_type": "markdown",
   "id": "5a1d962d",
   "metadata": {},
   "source": [
    "- **Base de Teste**"
   ]
  },
  {
   "cell_type": "code",
   "execution_count": 26,
   "id": "6b91f9bd",
   "metadata": {
    "scrolled": false
   },
   "outputs": [
    {
     "name": "stdout",
     "output_type": "stream",
     "text": [
      "<class 'pandas.core.frame.DataFrame'>\n",
      "RangeIndex: 16281 entries, 0 to 16280\n",
      "Data columns (total 15 columns):\n",
      " #   Column          Non-Null Count  Dtype \n",
      "---  ------          --------------  ----- \n",
      " 0   age             16281 non-null  int64 \n",
      " 1   workclass       16281 non-null  object\n",
      " 2   fnlwgt          16281 non-null  int64 \n",
      " 3   education       16281 non-null  object\n",
      " 4   education_num   16281 non-null  int64 \n",
      " 5   marital_status  16281 non-null  object\n",
      " 6   occupation      16281 non-null  object\n",
      " 7   relationship    16281 non-null  object\n",
      " 8   race            16281 non-null  object\n",
      " 9   sex             16281 non-null  object\n",
      " 10  capital_gain    16281 non-null  int64 \n",
      " 11  capital_loss    16281 non-null  int64 \n",
      " 12  hours_per_week  16281 non-null  int64 \n",
      " 13  native_country  16281 non-null  object\n",
      " 14  income          16281 non-null  object\n",
      "dtypes: int64(6), object(9)\n",
      "memory usage: 1.9+ MB\n"
     ]
    }
   ],
   "source": [
    "# Analisando informações da base\n",
    "df_teste.info()"
   ]
  },
  {
   "cell_type": "markdown",
   "id": "c4816de4",
   "metadata": {},
   "source": [
    "## Verificando os valores nulos"
   ]
  },
  {
   "cell_type": "markdown",
   "id": "4f537bbc",
   "metadata": {},
   "source": [
    "- **Base de Treino**"
   ]
  },
  {
   "cell_type": "code",
   "execution_count": 27,
   "id": "532d4a75",
   "metadata": {
    "scrolled": true
   },
   "outputs": [
    {
     "data": {
      "text/plain": [
       "age               0\n",
       "workclass         0\n",
       "fnlwgt            0\n",
       "education         0\n",
       "education_num     0\n",
       "marital_status    0\n",
       "occupation        0\n",
       "relationship      0\n",
       "race              0\n",
       "sex               0\n",
       "capital_gain      0\n",
       "capital_loss      0\n",
       "hours_per_week    0\n",
       "native_country    0\n",
       "income            0\n",
       "dtype: int64"
      ]
     },
     "execution_count": 27,
     "metadata": {},
     "output_type": "execute_result"
    }
   ],
   "source": [
    "# Verificando os valores nulos\n",
    "df_treino.isnull().sum()"
   ]
  },
  {
   "cell_type": "markdown",
   "id": "581a238f",
   "metadata": {},
   "source": [
    "- **Base de Teste**"
   ]
  },
  {
   "cell_type": "code",
   "execution_count": 28,
   "id": "a6b352fa",
   "metadata": {
    "scrolled": true
   },
   "outputs": [
    {
     "data": {
      "text/plain": [
       "age               0\n",
       "workclass         0\n",
       "fnlwgt            0\n",
       "education         0\n",
       "education_num     0\n",
       "marital_status    0\n",
       "occupation        0\n",
       "relationship      0\n",
       "race              0\n",
       "sex               0\n",
       "capital_gain      0\n",
       "capital_loss      0\n",
       "hours_per_week    0\n",
       "native_country    0\n",
       "income            0\n",
       "dtype: int64"
      ]
     },
     "execution_count": 28,
     "metadata": {},
     "output_type": "execute_result"
    }
   ],
   "source": [
    "# Verificando os valores nulos\n",
    "df_teste.isnull().sum()"
   ]
  },
  {
   "cell_type": "markdown",
   "id": "5491ef3c",
   "metadata": {},
   "source": [
    "- Não temos valores nulos em ambas as bases"
   ]
  },
  {
   "cell_type": "markdown",
   "id": "7c1a642b",
   "metadata": {},
   "source": [
    "## Verificando os valores duplicados"
   ]
  },
  {
   "cell_type": "markdown",
   "id": "066e0f79",
   "metadata": {},
   "source": [
    "- **Base de Treino**"
   ]
  },
  {
   "cell_type": "code",
   "execution_count": 29,
   "id": "da86c10d",
   "metadata": {
    "scrolled": true
   },
   "outputs": [
    {
     "data": {
      "text/plain": [
       "24"
      ]
     },
     "execution_count": 29,
     "metadata": {},
     "output_type": "execute_result"
    }
   ],
   "source": [
    "# Verificando os valores duplicados\n",
    "df_treino.duplicated().sum()"
   ]
  },
  {
   "cell_type": "markdown",
   "id": "759c1a99",
   "metadata": {},
   "source": [
    "- **Base de Teste**"
   ]
  },
  {
   "cell_type": "code",
   "execution_count": 30,
   "id": "a79d6749",
   "metadata": {
    "scrolled": true
   },
   "outputs": [
    {
     "data": {
      "text/plain": [
       "5"
      ]
     },
     "execution_count": 30,
     "metadata": {},
     "output_type": "execute_result"
    }
   ],
   "source": [
    "# Verificando os valores duplicados\n",
    "df_teste.duplicated().sum()"
   ]
  },
  {
   "cell_type": "markdown",
   "id": "2e9d0e89",
   "metadata": {},
   "source": [
    "- Temos alguns valores duplicados, precisaremos tratá-los"
   ]
  },
  {
   "cell_type": "markdown",
   "id": "9532ff05",
   "metadata": {},
   "source": [
    "## Verificando a cardinalidade"
   ]
  },
  {
   "cell_type": "markdown",
   "id": "6dc78b6f",
   "metadata": {},
   "source": [
    "- **Base de Treino**"
   ]
  },
  {
   "cell_type": "code",
   "execution_count": 31,
   "id": "f26ca7c9",
   "metadata": {},
   "outputs": [
    {
     "data": {
      "text/plain": [
       "fnlwgt            21648\n",
       "capital_gain        119\n",
       "hours_per_week       94\n",
       "capital_loss         92\n",
       "age                  73\n",
       "native_country       42\n",
       "education            16\n",
       "education_num        16\n",
       "occupation           15\n",
       "workclass             9\n",
       "marital_status        7\n",
       "relationship          6\n",
       "race                  5\n",
       "sex                   2\n",
       "income                2\n",
       "dtype: int64"
      ]
     },
     "execution_count": 31,
     "metadata": {},
     "output_type": "execute_result"
    }
   ],
   "source": [
    "# Verificando a cardinalidade das colunas\n",
    "df_treino.nunique().sort_values(ascending=False)"
   ]
  },
  {
   "cell_type": "markdown",
   "id": "8e77a6c9",
   "metadata": {},
   "source": [
    "- **Base de Teste**"
   ]
  },
  {
   "cell_type": "code",
   "execution_count": 32,
   "id": "804c2bee",
   "metadata": {},
   "outputs": [
    {
     "data": {
      "text/plain": [
       "fnlwgt            12787\n",
       "capital_gain        113\n",
       "hours_per_week       89\n",
       "capital_loss         82\n",
       "age                  73\n",
       "native_country       41\n",
       "education            16\n",
       "education_num        16\n",
       "occupation           15\n",
       "workclass             9\n",
       "marital_status        7\n",
       "relationship          6\n",
       "race                  5\n",
       "sex                   2\n",
       "income                2\n",
       "dtype: int64"
      ]
     },
     "execution_count": 32,
     "metadata": {},
     "output_type": "execute_result"
    }
   ],
   "source": [
    "# Verificando a cardinalidade das colunas\n",
    "df_teste.nunique().sort_values(ascending=False)"
   ]
  },
  {
   "cell_type": "markdown",
   "id": "3e824508",
   "metadata": {},
   "source": [
    "## Verificando as colunas categóricas"
   ]
  },
  {
   "cell_type": "markdown",
   "id": "6fcc7b94",
   "metadata": {},
   "source": [
    "- **Base de Treino**"
   ]
  },
  {
   "cell_type": "code",
   "execution_count": 33,
   "id": "49eea1ec",
   "metadata": {},
   "outputs": [
    {
     "data": {
      "text/plain": [
       "age                int64\n",
       "workclass         object\n",
       "fnlwgt             int64\n",
       "education         object\n",
       "education_num      int64\n",
       "marital_status    object\n",
       "occupation        object\n",
       "relationship      object\n",
       "race              object\n",
       "sex               object\n",
       "capital_gain       int64\n",
       "capital_loss       int64\n",
       "hours_per_week     int64\n",
       "native_country    object\n",
       "income            object\n",
       "dtype: object"
      ]
     },
     "execution_count": 33,
     "metadata": {},
     "output_type": "execute_result"
    }
   ],
   "source": [
    "# Tipo de variável de cada coluna\n",
    "df_treino.dtypes"
   ]
  },
  {
   "cell_type": "code",
   "execution_count": 34,
   "id": "21db30cb",
   "metadata": {},
   "outputs": [
    {
     "data": {
      "text/plain": [
       "Index(['workclass', 'education', 'marital_status', 'occupation',\n",
       "       'relationship', 'race', 'sex', 'native_country', 'income'],\n",
       "      dtype='object')"
      ]
     },
     "execution_count": 34,
     "metadata": {},
     "output_type": "execute_result"
    }
   ],
   "source": [
    "# Selecionando apenas as colunas categóricas\n",
    "cat_cols = df_treino.columns[df_treino.dtypes == 'object']\n",
    "cat_cols"
   ]
  },
  {
   "cell_type": "code",
   "execution_count": 35,
   "id": "bdbac849",
   "metadata": {
    "scrolled": true
   },
   "outputs": [
    {
     "data": {
      "text/html": [
       "<div>\n",
       "<style scoped>\n",
       "    .dataframe tbody tr th:only-of-type {\n",
       "        vertical-align: middle;\n",
       "    }\n",
       "\n",
       "    .dataframe tbody tr th {\n",
       "        vertical-align: top;\n",
       "    }\n",
       "\n",
       "    .dataframe thead th {\n",
       "        text-align: right;\n",
       "    }\n",
       "</style>\n",
       "<table border=\"1\" class=\"dataframe\">\n",
       "  <thead>\n",
       "    <tr style=\"text-align: right;\">\n",
       "      <th></th>\n",
       "      <th>workclass</th>\n",
       "      <th>education</th>\n",
       "      <th>marital_status</th>\n",
       "      <th>occupation</th>\n",
       "      <th>relationship</th>\n",
       "      <th>race</th>\n",
       "      <th>sex</th>\n",
       "      <th>native_country</th>\n",
       "      <th>income</th>\n",
       "    </tr>\n",
       "  </thead>\n",
       "  <tbody>\n",
       "    <tr>\n",
       "      <th>0</th>\n",
       "      <td>State-gov</td>\n",
       "      <td>Bachelors</td>\n",
       "      <td>Never-married</td>\n",
       "      <td>Adm-clerical</td>\n",
       "      <td>Not-in-family</td>\n",
       "      <td>White</td>\n",
       "      <td>Male</td>\n",
       "      <td>United-States</td>\n",
       "      <td>&lt;=50K</td>\n",
       "    </tr>\n",
       "    <tr>\n",
       "      <th>1</th>\n",
       "      <td>Self-emp-not-inc</td>\n",
       "      <td>Bachelors</td>\n",
       "      <td>Married-civ-spouse</td>\n",
       "      <td>Exec-managerial</td>\n",
       "      <td>Husband</td>\n",
       "      <td>White</td>\n",
       "      <td>Male</td>\n",
       "      <td>United-States</td>\n",
       "      <td>&lt;=50K</td>\n",
       "    </tr>\n",
       "    <tr>\n",
       "      <th>2</th>\n",
       "      <td>Private</td>\n",
       "      <td>HS-grad</td>\n",
       "      <td>Divorced</td>\n",
       "      <td>Handlers-cleaners</td>\n",
       "      <td>Not-in-family</td>\n",
       "      <td>White</td>\n",
       "      <td>Male</td>\n",
       "      <td>United-States</td>\n",
       "      <td>&lt;=50K</td>\n",
       "    </tr>\n",
       "  </tbody>\n",
       "</table>\n",
       "</div>"
      ],
      "text/plain": [
       "          workclass  education      marital_status         occupation  \\\n",
       "0         State-gov  Bachelors       Never-married       Adm-clerical   \n",
       "1  Self-emp-not-inc  Bachelors  Married-civ-spouse    Exec-managerial   \n",
       "2           Private    HS-grad            Divorced  Handlers-cleaners   \n",
       "\n",
       "    relationship   race   sex native_country income  \n",
       "0  Not-in-family  White  Male  United-States  <=50K  \n",
       "1        Husband  White  Male  United-States  <=50K  \n",
       "2  Not-in-family  White  Male  United-States  <=50K  "
      ]
     },
     "execution_count": 35,
     "metadata": {},
     "output_type": "execute_result"
    }
   ],
   "source": [
    "# Visualizando as colunas categóricas\n",
    "df_treino[cat_cols].head(3)"
   ]
  },
  {
   "cell_type": "code",
   "execution_count": 36,
   "id": "4a49aea3",
   "metadata": {
    "scrolled": true
   },
   "outputs": [
    {
     "data": {
      "text/html": [
       "<div>\n",
       "<style scoped>\n",
       "    .dataframe tbody tr th:only-of-type {\n",
       "        vertical-align: middle;\n",
       "    }\n",
       "\n",
       "    .dataframe tbody tr th {\n",
       "        vertical-align: top;\n",
       "    }\n",
       "\n",
       "    .dataframe thead th {\n",
       "        text-align: right;\n",
       "    }\n",
       "</style>\n",
       "<table border=\"1\" class=\"dataframe\">\n",
       "  <thead>\n",
       "    <tr style=\"text-align: right;\">\n",
       "      <th></th>\n",
       "      <th>workclass</th>\n",
       "      <th>education</th>\n",
       "      <th>marital_status</th>\n",
       "      <th>occupation</th>\n",
       "      <th>relationship</th>\n",
       "      <th>race</th>\n",
       "      <th>sex</th>\n",
       "      <th>native_country</th>\n",
       "      <th>income</th>\n",
       "    </tr>\n",
       "  </thead>\n",
       "  <tbody>\n",
       "    <tr>\n",
       "      <th>count</th>\n",
       "      <td>32561</td>\n",
       "      <td>32561</td>\n",
       "      <td>32561</td>\n",
       "      <td>32561</td>\n",
       "      <td>32561</td>\n",
       "      <td>32561</td>\n",
       "      <td>32561</td>\n",
       "      <td>32561</td>\n",
       "      <td>32561</td>\n",
       "    </tr>\n",
       "    <tr>\n",
       "      <th>unique</th>\n",
       "      <td>9</td>\n",
       "      <td>16</td>\n",
       "      <td>7</td>\n",
       "      <td>15</td>\n",
       "      <td>6</td>\n",
       "      <td>5</td>\n",
       "      <td>2</td>\n",
       "      <td>42</td>\n",
       "      <td>2</td>\n",
       "    </tr>\n",
       "    <tr>\n",
       "      <th>top</th>\n",
       "      <td>Private</td>\n",
       "      <td>HS-grad</td>\n",
       "      <td>Married-civ-spouse</td>\n",
       "      <td>Prof-specialty</td>\n",
       "      <td>Husband</td>\n",
       "      <td>White</td>\n",
       "      <td>Male</td>\n",
       "      <td>United-States</td>\n",
       "      <td>&lt;=50K</td>\n",
       "    </tr>\n",
       "    <tr>\n",
       "      <th>freq</th>\n",
       "      <td>22696</td>\n",
       "      <td>10501</td>\n",
       "      <td>14976</td>\n",
       "      <td>4140</td>\n",
       "      <td>13193</td>\n",
       "      <td>27816</td>\n",
       "      <td>21790</td>\n",
       "      <td>29170</td>\n",
       "      <td>24720</td>\n",
       "    </tr>\n",
       "  </tbody>\n",
       "</table>\n",
       "</div>"
      ],
      "text/plain": [
       "       workclass education      marital_status      occupation relationship  \\\n",
       "count      32561     32561               32561           32561        32561   \n",
       "unique         9        16                   7              15            6   \n",
       "top      Private   HS-grad  Married-civ-spouse  Prof-specialty      Husband   \n",
       "freq       22696     10501               14976            4140        13193   \n",
       "\n",
       "         race    sex native_country income  \n",
       "count   32561  32561          32561  32561  \n",
       "unique      5      2             42      2  \n",
       "top     White   Male  United-States  <=50K  \n",
       "freq    27816  21790          29170  24720  "
      ]
     },
     "execution_count": 36,
     "metadata": {},
     "output_type": "execute_result"
    }
   ],
   "source": [
    "# Analisando a estatística descritiva da base das colunas categóricas\n",
    "df_treino.describe(include=['O'])"
   ]
  },
  {
   "cell_type": "markdown",
   "id": "f33bdf37",
   "metadata": {},
   "source": [
    "- **Base de Teste**"
   ]
  },
  {
   "cell_type": "code",
   "execution_count": 37,
   "id": "8c868dc0",
   "metadata": {
    "scrolled": false
   },
   "outputs": [
    {
     "data": {
      "text/html": [
       "<div>\n",
       "<style scoped>\n",
       "    .dataframe tbody tr th:only-of-type {\n",
       "        vertical-align: middle;\n",
       "    }\n",
       "\n",
       "    .dataframe tbody tr th {\n",
       "        vertical-align: top;\n",
       "    }\n",
       "\n",
       "    .dataframe thead th {\n",
       "        text-align: right;\n",
       "    }\n",
       "</style>\n",
       "<table border=\"1\" class=\"dataframe\">\n",
       "  <thead>\n",
       "    <tr style=\"text-align: right;\">\n",
       "      <th></th>\n",
       "      <th>workclass</th>\n",
       "      <th>education</th>\n",
       "      <th>marital_status</th>\n",
       "      <th>occupation</th>\n",
       "      <th>relationship</th>\n",
       "      <th>race</th>\n",
       "      <th>sex</th>\n",
       "      <th>native_country</th>\n",
       "      <th>income</th>\n",
       "    </tr>\n",
       "  </thead>\n",
       "  <tbody>\n",
       "    <tr>\n",
       "      <th>count</th>\n",
       "      <td>16281</td>\n",
       "      <td>16281</td>\n",
       "      <td>16281</td>\n",
       "      <td>16281</td>\n",
       "      <td>16281</td>\n",
       "      <td>16281</td>\n",
       "      <td>16281</td>\n",
       "      <td>16281</td>\n",
       "      <td>16281</td>\n",
       "    </tr>\n",
       "    <tr>\n",
       "      <th>unique</th>\n",
       "      <td>9</td>\n",
       "      <td>16</td>\n",
       "      <td>7</td>\n",
       "      <td>15</td>\n",
       "      <td>6</td>\n",
       "      <td>5</td>\n",
       "      <td>2</td>\n",
       "      <td>41</td>\n",
       "      <td>2</td>\n",
       "    </tr>\n",
       "    <tr>\n",
       "      <th>top</th>\n",
       "      <td>Private</td>\n",
       "      <td>HS-grad</td>\n",
       "      <td>Married-civ-spouse</td>\n",
       "      <td>Prof-specialty</td>\n",
       "      <td>Husband</td>\n",
       "      <td>White</td>\n",
       "      <td>Male</td>\n",
       "      <td>United-States</td>\n",
       "      <td>&lt;=50K</td>\n",
       "    </tr>\n",
       "    <tr>\n",
       "      <th>freq</th>\n",
       "      <td>11210</td>\n",
       "      <td>5283</td>\n",
       "      <td>7403</td>\n",
       "      <td>2032</td>\n",
       "      <td>6523</td>\n",
       "      <td>13946</td>\n",
       "      <td>10860</td>\n",
       "      <td>14662</td>\n",
       "      <td>12435</td>\n",
       "    </tr>\n",
       "  </tbody>\n",
       "</table>\n",
       "</div>"
      ],
      "text/plain": [
       "       workclass education      marital_status      occupation relationship  \\\n",
       "count      16281     16281               16281           16281        16281   \n",
       "unique         9        16                   7              15            6   \n",
       "top      Private   HS-grad  Married-civ-spouse  Prof-specialty      Husband   \n",
       "freq       11210      5283                7403            2032         6523   \n",
       "\n",
       "         race    sex native_country income  \n",
       "count   16281  16281          16281  16281  \n",
       "unique      5      2             41      2  \n",
       "top     White   Male  United-States  <=50K  \n",
       "freq    13946  10860          14662  12435  "
      ]
     },
     "execution_count": 37,
     "metadata": {},
     "output_type": "execute_result"
    }
   ],
   "source": [
    "# Analisando a estatística descritiva da base das colunas categóricas\n",
    "df_teste.describe(include=['O'])"
   ]
  },
  {
   "cell_type": "markdown",
   "id": "f4f2da73",
   "metadata": {},
   "source": [
    "- Perceba que a coluna 'income' é o nosso target, a coluna que queremos prever. Essa coluna é do tipo categórica e por isso será necessário converte-la para numérica."
   ]
  },
  {
   "cell_type": "markdown",
   "id": "ed66878d",
   "metadata": {},
   "source": [
    "## Verificando os outliers"
   ]
  },
  {
   "cell_type": "markdown",
   "id": "38b5e938",
   "metadata": {},
   "source": [
    "- **Base de Treino**"
   ]
  },
  {
   "cell_type": "code",
   "execution_count": 38,
   "id": "c3bb2611",
   "metadata": {
    "scrolled": true
   },
   "outputs": [
    {
     "data": {
      "text/html": [
       "<div>\n",
       "<style scoped>\n",
       "    .dataframe tbody tr th:only-of-type {\n",
       "        vertical-align: middle;\n",
       "    }\n",
       "\n",
       "    .dataframe tbody tr th {\n",
       "        vertical-align: top;\n",
       "    }\n",
       "\n",
       "    .dataframe thead th {\n",
       "        text-align: right;\n",
       "    }\n",
       "</style>\n",
       "<table border=\"1\" class=\"dataframe\">\n",
       "  <thead>\n",
       "    <tr style=\"text-align: right;\">\n",
       "      <th></th>\n",
       "      <th>age</th>\n",
       "      <th>fnlwgt</th>\n",
       "      <th>education_num</th>\n",
       "      <th>capital_gain</th>\n",
       "      <th>capital_loss</th>\n",
       "      <th>hours_per_week</th>\n",
       "    </tr>\n",
       "  </thead>\n",
       "  <tbody>\n",
       "    <tr>\n",
       "      <th>count</th>\n",
       "      <td>32561.000000</td>\n",
       "      <td>3.256100e+04</td>\n",
       "      <td>32561.000000</td>\n",
       "      <td>32561.000000</td>\n",
       "      <td>32561.000000</td>\n",
       "      <td>32561.000000</td>\n",
       "    </tr>\n",
       "    <tr>\n",
       "      <th>mean</th>\n",
       "      <td>38.581647</td>\n",
       "      <td>1.897784e+05</td>\n",
       "      <td>10.080679</td>\n",
       "      <td>1077.648844</td>\n",
       "      <td>87.303830</td>\n",
       "      <td>40.437456</td>\n",
       "    </tr>\n",
       "    <tr>\n",
       "      <th>std</th>\n",
       "      <td>13.640433</td>\n",
       "      <td>1.055500e+05</td>\n",
       "      <td>2.572720</td>\n",
       "      <td>7385.292085</td>\n",
       "      <td>402.960219</td>\n",
       "      <td>12.347429</td>\n",
       "    </tr>\n",
       "    <tr>\n",
       "      <th>min</th>\n",
       "      <td>17.000000</td>\n",
       "      <td>1.228500e+04</td>\n",
       "      <td>1.000000</td>\n",
       "      <td>0.000000</td>\n",
       "      <td>0.000000</td>\n",
       "      <td>1.000000</td>\n",
       "    </tr>\n",
       "    <tr>\n",
       "      <th>25%</th>\n",
       "      <td>28.000000</td>\n",
       "      <td>1.178270e+05</td>\n",
       "      <td>9.000000</td>\n",
       "      <td>0.000000</td>\n",
       "      <td>0.000000</td>\n",
       "      <td>40.000000</td>\n",
       "    </tr>\n",
       "    <tr>\n",
       "      <th>50%</th>\n",
       "      <td>37.000000</td>\n",
       "      <td>1.783560e+05</td>\n",
       "      <td>10.000000</td>\n",
       "      <td>0.000000</td>\n",
       "      <td>0.000000</td>\n",
       "      <td>40.000000</td>\n",
       "    </tr>\n",
       "    <tr>\n",
       "      <th>75%</th>\n",
       "      <td>48.000000</td>\n",
       "      <td>2.370510e+05</td>\n",
       "      <td>12.000000</td>\n",
       "      <td>0.000000</td>\n",
       "      <td>0.000000</td>\n",
       "      <td>45.000000</td>\n",
       "    </tr>\n",
       "    <tr>\n",
       "      <th>max</th>\n",
       "      <td>90.000000</td>\n",
       "      <td>1.484705e+06</td>\n",
       "      <td>16.000000</td>\n",
       "      <td>99999.000000</td>\n",
       "      <td>4356.000000</td>\n",
       "      <td>99.000000</td>\n",
       "    </tr>\n",
       "  </tbody>\n",
       "</table>\n",
       "</div>"
      ],
      "text/plain": [
       "                age        fnlwgt  education_num  capital_gain  capital_loss  \\\n",
       "count  32561.000000  3.256100e+04   32561.000000  32561.000000  32561.000000   \n",
       "mean      38.581647  1.897784e+05      10.080679   1077.648844     87.303830   \n",
       "std       13.640433  1.055500e+05       2.572720   7385.292085    402.960219   \n",
       "min       17.000000  1.228500e+04       1.000000      0.000000      0.000000   \n",
       "25%       28.000000  1.178270e+05       9.000000      0.000000      0.000000   \n",
       "50%       37.000000  1.783560e+05      10.000000      0.000000      0.000000   \n",
       "75%       48.000000  2.370510e+05      12.000000      0.000000      0.000000   \n",
       "max       90.000000  1.484705e+06      16.000000  99999.000000   4356.000000   \n",
       "\n",
       "       hours_per_week  \n",
       "count    32561.000000  \n",
       "mean        40.437456  \n",
       "std         12.347429  \n",
       "min          1.000000  \n",
       "25%         40.000000  \n",
       "50%         40.000000  \n",
       "75%         45.000000  \n",
       "max         99.000000  "
      ]
     },
     "execution_count": 38,
     "metadata": {},
     "output_type": "execute_result"
    }
   ],
   "source": [
    "# Analisando a estatística descritiva da base\n",
    "df_treino.describe()"
   ]
  },
  {
   "cell_type": "markdown",
   "id": "29d0973f",
   "metadata": {},
   "source": [
    "- Aparentemente as colunas **capital-gain, capital-loss e hours-per-week** possuem valores discrepantes"
   ]
  },
  {
   "cell_type": "code",
   "execution_count": 39,
   "id": "0b5c8617",
   "metadata": {
    "scrolled": false
   },
   "outputs": [
    {
     "data": {
      "image/png": "[encoded data removed]",
      "text/plain": [
       "<Figure size 1200x500 with 3 Axes>"
      ]
     },
     "metadata": {},
     "output_type": "display_data"
    }
   ],
   "source": [
    "# Visualizando a distribuição das colunas citadas acima\n",
    "\n",
    "plt.figure(figsize = (12, 5))\n",
    "\n",
    "plt.subplot(1, 3, 1)\n",
    "plt.title('capital_gain')\n",
    "df_treino['capital_gain'].plot.box()\n",
    "\n",
    "plt.subplot(1, 3, 2)\n",
    "plt.title('capital_loss')\n",
    "df_treino['capital_loss'].plot.box()\n",
    "\n",
    "plt.subplot(1, 3, 3)\n",
    "plt.title('hours_per_week')\n",
    "df_treino['hours_per_week'].plot.box()\n",
    "\n",
    "plt.tight_layout()"
   ]
  },
  {
   "cell_type": "markdown",
   "id": "6b277d65",
   "metadata": {},
   "source": [
    "- **Base de Teste**"
   ]
  },
  {
   "cell_type": "code",
   "execution_count": 40,
   "id": "8a65925a",
   "metadata": {
    "scrolled": true
   },
   "outputs": [
    {
     "data": {
      "text/html": [
       "<div>\n",
       "<style scoped>\n",
       "    .dataframe tbody tr th:only-of-type {\n",
       "        vertical-align: middle;\n",
       "    }\n",
       "\n",
       "    .dataframe tbody tr th {\n",
       "        vertical-align: top;\n",
       "    }\n",
       "\n",
       "    .dataframe thead th {\n",
       "        text-align: right;\n",
       "    }\n",
       "</style>\n",
       "<table border=\"1\" class=\"dataframe\">\n",
       "  <thead>\n",
       "    <tr style=\"text-align: right;\">\n",
       "      <th></th>\n",
       "      <th>age</th>\n",
       "      <th>fnlwgt</th>\n",
       "      <th>education_num</th>\n",
       "      <th>capital_gain</th>\n",
       "      <th>capital_loss</th>\n",
       "      <th>hours_per_week</th>\n",
       "    </tr>\n",
       "  </thead>\n",
       "  <tbody>\n",
       "    <tr>\n",
       "      <th>count</th>\n",
       "      <td>16281.000000</td>\n",
       "      <td>1.628100e+04</td>\n",
       "      <td>16281.000000</td>\n",
       "      <td>16281.000000</td>\n",
       "      <td>16281.000000</td>\n",
       "      <td>16281.000000</td>\n",
       "    </tr>\n",
       "    <tr>\n",
       "      <th>mean</th>\n",
       "      <td>38.767459</td>\n",
       "      <td>1.894357e+05</td>\n",
       "      <td>10.072907</td>\n",
       "      <td>1081.905104</td>\n",
       "      <td>87.899269</td>\n",
       "      <td>40.392236</td>\n",
       "    </tr>\n",
       "    <tr>\n",
       "      <th>std</th>\n",
       "      <td>13.849187</td>\n",
       "      <td>1.057149e+05</td>\n",
       "      <td>2.567545</td>\n",
       "      <td>7583.935968</td>\n",
       "      <td>403.105286</td>\n",
       "      <td>12.479332</td>\n",
       "    </tr>\n",
       "    <tr>\n",
       "      <th>min</th>\n",
       "      <td>17.000000</td>\n",
       "      <td>1.349200e+04</td>\n",
       "      <td>1.000000</td>\n",
       "      <td>0.000000</td>\n",
       "      <td>0.000000</td>\n",
       "      <td>1.000000</td>\n",
       "    </tr>\n",
       "    <tr>\n",
       "      <th>25%</th>\n",
       "      <td>28.000000</td>\n",
       "      <td>1.167360e+05</td>\n",
       "      <td>9.000000</td>\n",
       "      <td>0.000000</td>\n",
       "      <td>0.000000</td>\n",
       "      <td>40.000000</td>\n",
       "    </tr>\n",
       "    <tr>\n",
       "      <th>50%</th>\n",
       "      <td>37.000000</td>\n",
       "      <td>1.778310e+05</td>\n",
       "      <td>10.000000</td>\n",
       "      <td>0.000000</td>\n",
       "      <td>0.000000</td>\n",
       "      <td>40.000000</td>\n",
       "    </tr>\n",
       "    <tr>\n",
       "      <th>75%</th>\n",
       "      <td>48.000000</td>\n",
       "      <td>2.383840e+05</td>\n",
       "      <td>12.000000</td>\n",
       "      <td>0.000000</td>\n",
       "      <td>0.000000</td>\n",
       "      <td>45.000000</td>\n",
       "    </tr>\n",
       "    <tr>\n",
       "      <th>max</th>\n",
       "      <td>90.000000</td>\n",
       "      <td>1.490400e+06</td>\n",
       "      <td>16.000000</td>\n",
       "      <td>99999.000000</td>\n",
       "      <td>3770.000000</td>\n",
       "      <td>99.000000</td>\n",
       "    </tr>\n",
       "  </tbody>\n",
       "</table>\n",
       "</div>"
      ],
      "text/plain": [
       "                age        fnlwgt  education_num  capital_gain  capital_loss  \\\n",
       "count  16281.000000  1.628100e+04   16281.000000  16281.000000  16281.000000   \n",
       "mean      38.767459  1.894357e+05      10.072907   1081.905104     87.899269   \n",
       "std       13.849187  1.057149e+05       2.567545   7583.935968    403.105286   \n",
       "min       17.000000  1.349200e+04       1.000000      0.000000      0.000000   \n",
       "25%       28.000000  1.167360e+05       9.000000      0.000000      0.000000   \n",
       "50%       37.000000  1.778310e+05      10.000000      0.000000      0.000000   \n",
       "75%       48.000000  2.383840e+05      12.000000      0.000000      0.000000   \n",
       "max       90.000000  1.490400e+06      16.000000  99999.000000   3770.000000   \n",
       "\n",
       "       hours_per_week  \n",
       "count    16281.000000  \n",
       "mean        40.392236  \n",
       "std         12.479332  \n",
       "min          1.000000  \n",
       "25%         40.000000  \n",
       "50%         40.000000  \n",
       "75%         45.000000  \n",
       "max         99.000000  "
      ]
     },
     "execution_count": 40,
     "metadata": {},
     "output_type": "execute_result"
    }
   ],
   "source": [
    "# Analisando a estatística descritiva da base\n",
    "df_teste.describe()"
   ]
  },
  {
   "cell_type": "markdown",
   "id": "18602d57",
   "metadata": {},
   "source": [
    "- Aparentemente as colunas **capital-gain, capital-loss e hours-per-week** possuem valores discrepantes"
   ]
  },
  {
   "cell_type": "code",
   "execution_count": 41,
   "id": "ea33921c",
   "metadata": {},
   "outputs": [
    {
     "data": {
      "image/png": "[encoded data removed]",
      "text/plain": [
       "<Figure size 1200x500 with 3 Axes>"
      ]
     },
     "metadata": {},
     "output_type": "display_data"
    }
   ],
   "source": [
    "# Visualizando a distribuição das colunas citadas acima\n",
    "\n",
    "plt.figure(figsize = (12, 5))\n",
    "\n",
    "plt.subplot(1, 3, 1)\n",
    "plt.title('capital_gain')\n",
    "df_teste['capital_gain'].plot.box()\n",
    "\n",
    "plt.subplot(1, 3, 2)\n",
    "plt.title('capital_loss')\n",
    "df_teste['capital_loss'].plot.box()\n",
    "\n",
    "plt.subplot(1, 3, 3)\n",
    "plt.title('hours_per_week')\n",
    "df_teste['hours_per_week'].plot.box()\n",
    "\n",
    "plt.tight_layout()"
   ]
  },
  {
   "cell_type": "markdown",
   "id": "c5e71c2d",
   "metadata": {},
   "source": [
    "**___________________________________________________________________________________________________________________________**\n",
    "\n",
    "<a id='tratamento'></a>\n",
    "# TRATAMENTO"
   ]
  },
  {
   "cell_type": "markdown",
   "id": "d3617808",
   "metadata": {},
   "source": [
    "## Tratando as Colunas Duplicadas\n",
    "- Vamos iniciar o nosso tratamento removendo as linhas duplicadas"
   ]
  },
  {
   "cell_type": "markdown",
   "id": "1b7eb7f5",
   "metadata": {},
   "source": [
    "- **Base de Treino**"
   ]
  },
  {
   "cell_type": "code",
   "execution_count": 42,
   "id": "9db5c1b5",
   "metadata": {
    "scrolled": false
   },
   "outputs": [
    {
     "data": {
      "text/plain": [
       "24"
      ]
     },
     "execution_count": 42,
     "metadata": {},
     "output_type": "execute_result"
    }
   ],
   "source": [
    "# Quantidade de registros duplicados\n",
    "df_treino.duplicated().sum()"
   ]
  },
  {
   "cell_type": "code",
   "execution_count": 43,
   "id": "597120bd",
   "metadata": {},
   "outputs": [],
   "source": [
    "# Removendo os valores duplicados\n",
    "df_treino = df_treino.drop_duplicates(ignore_index=True)"
   ]
  },
  {
   "cell_type": "code",
   "execution_count": 44,
   "id": "20a35b5b",
   "metadata": {
    "scrolled": true
   },
   "outputs": [
    {
     "data": {
      "text/plain": [
       "0"
      ]
     },
     "execution_count": 44,
     "metadata": {},
     "output_type": "execute_result"
    }
   ],
   "source": [
    "# Quantidade de registros duplicados igual a zero\n",
    "df_treino.duplicated().sum()"
   ]
  },
  {
   "cell_type": "markdown",
   "id": "6b352421",
   "metadata": {},
   "source": [
    "- **Base de Teste**"
   ]
  },
  {
   "cell_type": "code",
   "execution_count": 45,
   "id": "6ce73335",
   "metadata": {
    "scrolled": true
   },
   "outputs": [
    {
     "data": {
      "text/plain": [
       "5"
      ]
     },
     "execution_count": 45,
     "metadata": {},
     "output_type": "execute_result"
    }
   ],
   "source": [
    "# Quantidade de registros duplicados\n",
    "df_teste.duplicated().sum()"
   ]
  },
  {
   "cell_type": "code",
   "execution_count": 46,
   "id": "98b07862",
   "metadata": {},
   "outputs": [],
   "source": [
    "# Removendo os valores duplicados\n",
    "df_teste = df_teste.drop_duplicates(ignore_index=True)"
   ]
  },
  {
   "cell_type": "code",
   "execution_count": 47,
   "id": "d49c2235",
   "metadata": {
    "scrolled": false
   },
   "outputs": [
    {
     "data": {
      "text/plain": [
       "0"
      ]
     },
     "execution_count": 47,
     "metadata": {},
     "output_type": "execute_result"
    }
   ],
   "source": [
    "# Quantidade de registros duplicados igual a zero\n",
    "df_teste.duplicated().sum()"
   ]
  },
  {
   "cell_type": "markdown",
   "id": "99017799",
   "metadata": {},
   "source": [
    "- A remoção de valores duplicados é crucial para garantir a qualidade e a precisão dos dados, melhorando a eficiência operacional e a confiabilidade nas análises e nas decisões tomadas a partir desses dados."
   ]
  },
  {
   "cell_type": "markdown",
   "id": "54c7d723",
   "metadata": {},
   "source": [
    "## Tratando a Coluna Income\n",
    "- Vamos agora transformar a nossa coluna target 'income' em numérica"
   ]
  },
  {
   "cell_type": "markdown",
   "id": "de7928df",
   "metadata": {},
   "source": [
    "- **Base de Treino**"
   ]
  },
  {
   "cell_type": "code",
   "execution_count": 48,
   "id": "ab403e9d",
   "metadata": {},
   "outputs": [
    {
     "data": {
      "text/plain": [
       "income\n",
       "<=50K    24698\n",
       ">50K      7839\n",
       "Name: count, dtype: int64"
      ]
     },
     "execution_count": 48,
     "metadata": {},
     "output_type": "execute_result"
    }
   ],
   "source": [
    "# Frequencia de cada classe\n",
    "df_treino['income'].value_counts()"
   ]
  },
  {
   "cell_type": "markdown",
   "id": "03630b02",
   "metadata": {},
   "source": [
    "- Observe que temos duas classes e iremos codificá-la da seguinte forma:\n",
    "    - **>50K (maior que 50k) = 1**\n",
    "    - **<=50K (menor ou igual a 50k) = 0**\n",
    "\n",
    "- De acordo com o nosso objetivo, queremos através dos Dados do Censo detectar se a renda da pessoa excede o valor de 50 mil por ano. Portanto o valor igual a 1 representa a classe de pessoas que excederam o valor de 50 mil por ano."
   ]
  },
  {
   "cell_type": "code",
   "execution_count": 49,
   "id": "8cec4743",
   "metadata": {},
   "outputs": [],
   "source": [
    "# Transformando em numérica\n",
    "df_treino.loc[:, 'income'] = df_treino['income'].map({'>50K': 1, '<=50K': 0})"
   ]
  },
  {
   "cell_type": "code",
   "execution_count": 50,
   "id": "6207420f",
   "metadata": {},
   "outputs": [
    {
     "data": {
      "text/html": [
       "<div>\n",
       "<style scoped>\n",
       "    .dataframe tbody tr th:only-of-type {\n",
       "        vertical-align: middle;\n",
       "    }\n",
       "\n",
       "    .dataframe tbody tr th {\n",
       "        vertical-align: top;\n",
       "    }\n",
       "\n",
       "    .dataframe thead th {\n",
       "        text-align: right;\n",
       "    }\n",
       "</style>\n",
       "<table border=\"1\" class=\"dataframe\">\n",
       "  <thead>\n",
       "    <tr style=\"text-align: right;\">\n",
       "      <th></th>\n",
       "      <th>age</th>\n",
       "      <th>workclass</th>\n",
       "      <th>fnlwgt</th>\n",
       "      <th>education</th>\n",
       "      <th>education_num</th>\n",
       "      <th>marital_status</th>\n",
       "      <th>occupation</th>\n",
       "      <th>relationship</th>\n",
       "      <th>race</th>\n",
       "      <th>sex</th>\n",
       "      <th>capital_gain</th>\n",
       "      <th>capital_loss</th>\n",
       "      <th>hours_per_week</th>\n",
       "      <th>native_country</th>\n",
       "      <th>income</th>\n",
       "    </tr>\n",
       "  </thead>\n",
       "  <tbody>\n",
       "    <tr>\n",
       "      <th>0</th>\n",
       "      <td>39</td>\n",
       "      <td>State-gov</td>\n",
       "      <td>77516</td>\n",
       "      <td>Bachelors</td>\n",
       "      <td>13</td>\n",
       "      <td>Never-married</td>\n",
       "      <td>Adm-clerical</td>\n",
       "      <td>Not-in-family</td>\n",
       "      <td>White</td>\n",
       "      <td>Male</td>\n",
       "      <td>2174</td>\n",
       "      <td>0</td>\n",
       "      <td>40</td>\n",
       "      <td>United-States</td>\n",
       "      <td>0</td>\n",
       "    </tr>\n",
       "    <tr>\n",
       "      <th>1</th>\n",
       "      <td>50</td>\n",
       "      <td>Self-emp-not-inc</td>\n",
       "      <td>83311</td>\n",
       "      <td>Bachelors</td>\n",
       "      <td>13</td>\n",
       "      <td>Married-civ-spouse</td>\n",
       "      <td>Exec-managerial</td>\n",
       "      <td>Husband</td>\n",
       "      <td>White</td>\n",
       "      <td>Male</td>\n",
       "      <td>0</td>\n",
       "      <td>0</td>\n",
       "      <td>13</td>\n",
       "      <td>United-States</td>\n",
       "      <td>0</td>\n",
       "    </tr>\n",
       "    <tr>\n",
       "      <th>2</th>\n",
       "      <td>38</td>\n",
       "      <td>Private</td>\n",
       "      <td>215646</td>\n",
       "      <td>HS-grad</td>\n",
       "      <td>9</td>\n",
       "      <td>Divorced</td>\n",
       "      <td>Handlers-cleaners</td>\n",
       "      <td>Not-in-family</td>\n",
       "      <td>White</td>\n",
       "      <td>Male</td>\n",
       "      <td>0</td>\n",
       "      <td>0</td>\n",
       "      <td>40</td>\n",
       "      <td>United-States</td>\n",
       "      <td>0</td>\n",
       "    </tr>\n",
       "  </tbody>\n",
       "</table>\n",
       "</div>"
      ],
      "text/plain": [
       "   age         workclass  fnlwgt  education  education_num  \\\n",
       "0   39         State-gov   77516  Bachelors             13   \n",
       "1   50  Self-emp-not-inc   83311  Bachelors             13   \n",
       "2   38           Private  215646    HS-grad              9   \n",
       "\n",
       "       marital_status         occupation   relationship   race   sex  \\\n",
       "0       Never-married       Adm-clerical  Not-in-family  White  Male   \n",
       "1  Married-civ-spouse    Exec-managerial        Husband  White  Male   \n",
       "2            Divorced  Handlers-cleaners  Not-in-family  White  Male   \n",
       "\n",
       "   capital_gain  capital_loss  hours_per_week native_country income  \n",
       "0          2174             0              40  United-States      0  \n",
       "1             0             0              13  United-States      0  \n",
       "2             0             0              40  United-States      0  "
      ]
     },
     "execution_count": 50,
     "metadata": {},
     "output_type": "execute_result"
    }
   ],
   "source": [
    "# Perceba que nossa coluna 'income' se tornou numérica\n",
    "df_treino.head(3)"
   ]
  },
  {
   "cell_type": "markdown",
   "id": "070276c9",
   "metadata": {},
   "source": [
    "- Perceba que a coluna ficou como tipo 'object', vamos converter para inteiro"
   ]
  },
  {
   "cell_type": "code",
   "execution_count": 51,
   "id": "d5a9a419",
   "metadata": {
    "scrolled": true
   },
   "outputs": [
    {
     "data": {
      "text/plain": [
       "dtype('O')"
      ]
     },
     "execution_count": 51,
     "metadata": {},
     "output_type": "execute_result"
    }
   ],
   "source": [
    "# Tipo da coluna income\n",
    "df_treino['income'].dtype"
   ]
  },
  {
   "cell_type": "code",
   "execution_count": 52,
   "id": "3a4ddd17",
   "metadata": {
    "scrolled": true
   },
   "outputs": [
    {
     "name": "stderr",
     "output_type": "stream",
     "text": [
      "C:\\Users\\Douglas\\AppData\\Local\\Temp\\ipykernel_864\\2955417944.py:2: SettingWithCopyWarning: \n",
      "A value is trying to be set on a copy of a slice from a DataFrame.\n",
      "Try using .loc[row_indexer,col_indexer] = value instead\n",
      "\n",
      "See the caveats in the documentation: https://pandas.pydata.org/pandas-docs/stable/user_guide/indexing.html#returning-a-view-versus-a-copy\n",
      "  df_treino['income'] = df_treino['income'].astype('int32')\n"
     ]
    }
   ],
   "source": [
    "# Convertendo a coluna para o tipo 'int32'\n",
    "df_treino['income'] = df_treino['income'].astype('int32')"
   ]
  },
  {
   "cell_type": "code",
   "execution_count": 53,
   "id": "5940e6de",
   "metadata": {
    "scrolled": true
   },
   "outputs": [
    {
     "data": {
      "text/plain": [
       "income\n",
       "0    24698\n",
       "1     7839\n",
       "Name: count, dtype: int64"
      ]
     },
     "execution_count": 53,
     "metadata": {},
     "output_type": "execute_result"
    }
   ],
   "source": [
    "# Frequencia de cada classe\n",
    "df_treino['income'].value_counts()"
   ]
  },
  {
   "cell_type": "code",
   "execution_count": 54,
   "id": "96e17197",
   "metadata": {
    "scrolled": true
   },
   "outputs": [
    {
     "name": "stdout",
     "output_type": "stream",
     "text": [
      "Porcentagem de registros <=50k: 75.907 %\n",
      "Porcentagem de registros >50k:  24.093 %\n"
     ]
    }
   ],
   "source": [
    "# Frequencia de cada classe em porcentagem\n",
    "pct_menor50 = (df_treino['income'].value_counts()[0] / len(df_treino['income'])) * 100\n",
    "pct_maior50 = (df_treino['income'].value_counts()[1] / len(df_treino['income'])) * 100\n",
    "\n",
    "print('Porcentagem de registros <=50k: {} %'.format(pct_menor50.round(3))) \n",
    "print('Porcentagem de registros >50k:  {} %'.format(pct_maior50.round(3))) "
   ]
  },
  {
   "cell_type": "markdown",
   "id": "d96afd03",
   "metadata": {},
   "source": [
    "- Podemos perceber que a coluna 'income' está desbalanceada\n",
    "- Temos 3 vezes mais dados da classe = 0 do que da classe = 1\n",
    "- Podemos visualizar este desbalanceamento no gráfico abaixo"
   ]
  },
  {
   "cell_type": "code",
   "execution_count": 55,
   "id": "8f478630",
   "metadata": {
    "scrolled": false
   },
   "outputs": [
    {
     "data": {
      "text/plain": [
       "<Axes: xlabel='income', ylabel='count'>"
      ]
     },
     "execution_count": 55,
     "metadata": {},
     "output_type": "execute_result"
    },
    {
     "data": {
      "image/png": "[encoded data removed]",
      "text/plain": [
       "<Figure size 640x480 with 1 Axes>"
      ]
     },
     "metadata": {},
     "output_type": "display_data"
    }
   ],
   "source": [
    "# Visualização grafica\n",
    "sns.countplot(data=df_treino, x='income')"
   ]
  },
  {
   "cell_type": "markdown",
   "id": "165b9487",
   "metadata": {},
   "source": [
    "- **Base de Teste**\n",
    "    - Fazendo o mesmo procedimento para a base de teste"
   ]
  },
  {
   "cell_type": "code",
   "execution_count": 56,
   "id": "cf4c52a6",
   "metadata": {
    "scrolled": true
   },
   "outputs": [
    {
     "data": {
      "text/plain": [
       "income\n",
       "<=50K    12430\n",
       ">50K      3846\n",
       "Name: count, dtype: int64"
      ]
     },
     "execution_count": 56,
     "metadata": {},
     "output_type": "execute_result"
    }
   ],
   "source": [
    "# Frequencia de cada classe\n",
    "df_teste['income'].value_counts()"
   ]
  },
  {
   "cell_type": "code",
   "execution_count": 57,
   "id": "fcd94fd7",
   "metadata": {},
   "outputs": [],
   "source": [
    "# Transformando em numérica\n",
    "df_teste.loc[:, 'income'] = df_teste['income'].map({'>50K': 1, '<=50K': 0})"
   ]
  },
  {
   "cell_type": "code",
   "execution_count": 58,
   "id": "ac4bfd9b",
   "metadata": {
    "scrolled": true
   },
   "outputs": [
    {
     "data": {
      "text/plain": [
       "dtype('O')"
      ]
     },
     "execution_count": 58,
     "metadata": {},
     "output_type": "execute_result"
    }
   ],
   "source": [
    "# Tipo da coluna income\n",
    "df_teste['income'].dtype"
   ]
  },
  {
   "cell_type": "code",
   "execution_count": 59,
   "id": "e9f7394b",
   "metadata": {},
   "outputs": [],
   "source": [
    "# Convertendo a coluna para o tipo 'int32'\n",
    "df_teste['income'] = df_teste['income'].astype('int32')"
   ]
  },
  {
   "cell_type": "markdown",
   "id": "446026dc",
   "metadata": {},
   "source": [
    "## Removendo as Colunas Categóricas"
   ]
  },
  {
   "cell_type": "markdown",
   "id": "c8d32af9",
   "metadata": {},
   "source": [
    "- Como vimos anteriormente, temos colunas com valores catagóricos que precisam ser tratadas.\n",
    "- Nesta primeira parte do projeto, vamos remover todas as colunas categóricas e testar o modelo mais simples possível\n",
    "- Após isso, podemos ir melhorando nosso modelo aos poucos, tratando e analisando melhor os dados\n",
    "---\n",
    "- Temos uma lista com as colunas categóricas. Porém a coluna 'income' que antes era categórica, agora foi transformada para numérica e por isso precisamos remove-la da lista"
   ]
  },
  {
   "cell_type": "code",
   "execution_count": 60,
   "id": "635c1cbe",
   "metadata": {
    "scrolled": true
   },
   "outputs": [
    {
     "data": {
      "text/plain": [
       "Index(['workclass', 'education', 'marital_status', 'occupation',\n",
       "       'relationship', 'race', 'sex', 'native_country'],\n",
       "      dtype='object')"
      ]
     },
     "execution_count": 60,
     "metadata": {},
     "output_type": "execute_result"
    }
   ],
   "source": [
    "# Removendo a coluna \"income\" da lista cat_cols\n",
    "cat_cols = cat_cols.drop('income')\n",
    "cat_cols"
   ]
  },
  {
   "cell_type": "markdown",
   "id": "0f74eb3d",
   "metadata": {},
   "source": [
    "- **Base de Treino**"
   ]
  },
  {
   "cell_type": "code",
   "execution_count": 61,
   "id": "e0b2191d",
   "metadata": {
    "scrolled": true
   },
   "outputs": [
    {
     "data": {
      "text/html": [
       "<div>\n",
       "<style scoped>\n",
       "    .dataframe tbody tr th:only-of-type {\n",
       "        vertical-align: middle;\n",
       "    }\n",
       "\n",
       "    .dataframe tbody tr th {\n",
       "        vertical-align: top;\n",
       "    }\n",
       "\n",
       "    .dataframe thead th {\n",
       "        text-align: right;\n",
       "    }\n",
       "</style>\n",
       "<table border=\"1\" class=\"dataframe\">\n",
       "  <thead>\n",
       "    <tr style=\"text-align: right;\">\n",
       "      <th></th>\n",
       "      <th>workclass</th>\n",
       "      <th>education</th>\n",
       "      <th>marital_status</th>\n",
       "      <th>occupation</th>\n",
       "      <th>relationship</th>\n",
       "      <th>race</th>\n",
       "      <th>sex</th>\n",
       "      <th>native_country</th>\n",
       "    </tr>\n",
       "  </thead>\n",
       "  <tbody>\n",
       "    <tr>\n",
       "      <th>0</th>\n",
       "      <td>State-gov</td>\n",
       "      <td>Bachelors</td>\n",
       "      <td>Never-married</td>\n",
       "      <td>Adm-clerical</td>\n",
       "      <td>Not-in-family</td>\n",
       "      <td>White</td>\n",
       "      <td>Male</td>\n",
       "      <td>United-States</td>\n",
       "    </tr>\n",
       "    <tr>\n",
       "      <th>1</th>\n",
       "      <td>Self-emp-not-inc</td>\n",
       "      <td>Bachelors</td>\n",
       "      <td>Married-civ-spouse</td>\n",
       "      <td>Exec-managerial</td>\n",
       "      <td>Husband</td>\n",
       "      <td>White</td>\n",
       "      <td>Male</td>\n",
       "      <td>United-States</td>\n",
       "    </tr>\n",
       "  </tbody>\n",
       "</table>\n",
       "</div>"
      ],
      "text/plain": [
       "          workclass  education      marital_status       occupation  \\\n",
       "0         State-gov  Bachelors       Never-married     Adm-clerical   \n",
       "1  Self-emp-not-inc  Bachelors  Married-civ-spouse  Exec-managerial   \n",
       "\n",
       "    relationship   race   sex native_country  \n",
       "0  Not-in-family  White  Male  United-States  \n",
       "1        Husband  White  Male  United-States  "
      ]
     },
     "execution_count": 61,
     "metadata": {},
     "output_type": "execute_result"
    }
   ],
   "source": [
    "# Mostrando as colunas categoricas que serão removidas da base\n",
    "df_treino[cat_cols].head(2)"
   ]
  },
  {
   "cell_type": "code",
   "execution_count": 62,
   "id": "e30b5fb6",
   "metadata": {},
   "outputs": [],
   "source": [
    "# Removendo as colunas categóricas da base\n",
    "df_treino = df_treino.drop(cat_cols, axis=1)"
   ]
  },
  {
   "cell_type": "markdown",
   "id": "cc4314e6",
   "metadata": {},
   "source": [
    "- **Base de Teste**"
   ]
  },
  {
   "cell_type": "code",
   "execution_count": 63,
   "id": "9e675897",
   "metadata": {},
   "outputs": [],
   "source": [
    "# Removendo as colunas categóricas da base\n",
    "df_teste= df_teste.drop(cat_cols, axis=1)"
   ]
  },
  {
   "cell_type": "markdown",
   "id": "a0bd100b",
   "metadata": {},
   "source": [
    "## Base Final\n",
    "- Agora, vamos avaliar o resultados dos modelos utilizando a base de dados abaixo"
   ]
  },
  {
   "cell_type": "code",
   "execution_count": 64,
   "id": "19d34a01",
   "metadata": {
    "scrolled": true
   },
   "outputs": [
    {
     "data": {
      "text/html": [
       "<div>\n",
       "<style scoped>\n",
       "    .dataframe tbody tr th:only-of-type {\n",
       "        vertical-align: middle;\n",
       "    }\n",
       "\n",
       "    .dataframe tbody tr th {\n",
       "        vertical-align: top;\n",
       "    }\n",
       "\n",
       "    .dataframe thead th {\n",
       "        text-align: right;\n",
       "    }\n",
       "</style>\n",
       "<table border=\"1\" class=\"dataframe\">\n",
       "  <thead>\n",
       "    <tr style=\"text-align: right;\">\n",
       "      <th></th>\n",
       "      <th>age</th>\n",
       "      <th>fnlwgt</th>\n",
       "      <th>education_num</th>\n",
       "      <th>capital_gain</th>\n",
       "      <th>capital_loss</th>\n",
       "      <th>hours_per_week</th>\n",
       "      <th>income</th>\n",
       "    </tr>\n",
       "  </thead>\n",
       "  <tbody>\n",
       "    <tr>\n",
       "      <th>0</th>\n",
       "      <td>39</td>\n",
       "      <td>77516</td>\n",
       "      <td>13</td>\n",
       "      <td>2174</td>\n",
       "      <td>0</td>\n",
       "      <td>40</td>\n",
       "      <td>0</td>\n",
       "    </tr>\n",
       "    <tr>\n",
       "      <th>1</th>\n",
       "      <td>50</td>\n",
       "      <td>83311</td>\n",
       "      <td>13</td>\n",
       "      <td>0</td>\n",
       "      <td>0</td>\n",
       "      <td>13</td>\n",
       "      <td>0</td>\n",
       "    </tr>\n",
       "    <tr>\n",
       "      <th>2</th>\n",
       "      <td>38</td>\n",
       "      <td>215646</td>\n",
       "      <td>9</td>\n",
       "      <td>0</td>\n",
       "      <td>0</td>\n",
       "      <td>40</td>\n",
       "      <td>0</td>\n",
       "    </tr>\n",
       "    <tr>\n",
       "      <th>3</th>\n",
       "      <td>53</td>\n",
       "      <td>234721</td>\n",
       "      <td>7</td>\n",
       "      <td>0</td>\n",
       "      <td>0</td>\n",
       "      <td>40</td>\n",
       "      <td>0</td>\n",
       "    </tr>\n",
       "    <tr>\n",
       "      <th>4</th>\n",
       "      <td>28</td>\n",
       "      <td>338409</td>\n",
       "      <td>13</td>\n",
       "      <td>0</td>\n",
       "      <td>0</td>\n",
       "      <td>40</td>\n",
       "      <td>0</td>\n",
       "    </tr>\n",
       "  </tbody>\n",
       "</table>\n",
       "</div>"
      ],
      "text/plain": [
       "   age  fnlwgt  education_num  capital_gain  capital_loss  hours_per_week  \\\n",
       "0   39   77516             13          2174             0              40   \n",
       "1   50   83311             13             0             0              13   \n",
       "2   38  215646              9             0             0              40   \n",
       "3   53  234721              7             0             0              40   \n",
       "4   28  338409             13             0             0              40   \n",
       "\n",
       "   income  \n",
       "0       0  \n",
       "1       0  \n",
       "2       0  \n",
       "3       0  \n",
       "4       0  "
      ]
     },
     "execution_count": 64,
     "metadata": {},
     "output_type": "execute_result"
    }
   ],
   "source": [
    "# Base de Treino\n",
    "df_treino.head()"
   ]
  },
  {
   "cell_type": "code",
   "execution_count": 65,
   "id": "29ab3359",
   "metadata": {
    "scrolled": true
   },
   "outputs": [
    {
     "data": {
      "text/html": [
       "<div>\n",
       "<style scoped>\n",
       "    .dataframe tbody tr th:only-of-type {\n",
       "        vertical-align: middle;\n",
       "    }\n",
       "\n",
       "    .dataframe tbody tr th {\n",
       "        vertical-align: top;\n",
       "    }\n",
       "\n",
       "    .dataframe thead th {\n",
       "        text-align: right;\n",
       "    }\n",
       "</style>\n",
       "<table border=\"1\" class=\"dataframe\">\n",
       "  <thead>\n",
       "    <tr style=\"text-align: right;\">\n",
       "      <th></th>\n",
       "      <th>age</th>\n",
       "      <th>fnlwgt</th>\n",
       "      <th>education_num</th>\n",
       "      <th>capital_gain</th>\n",
       "      <th>capital_loss</th>\n",
       "      <th>hours_per_week</th>\n",
       "      <th>income</th>\n",
       "    </tr>\n",
       "  </thead>\n",
       "  <tbody>\n",
       "    <tr>\n",
       "      <th>0</th>\n",
       "      <td>25</td>\n",
       "      <td>226802</td>\n",
       "      <td>7</td>\n",
       "      <td>0</td>\n",
       "      <td>0</td>\n",
       "      <td>40</td>\n",
       "      <td>0</td>\n",
       "    </tr>\n",
       "    <tr>\n",
       "      <th>1</th>\n",
       "      <td>38</td>\n",
       "      <td>89814</td>\n",
       "      <td>9</td>\n",
       "      <td>0</td>\n",
       "      <td>0</td>\n",
       "      <td>50</td>\n",
       "      <td>0</td>\n",
       "    </tr>\n",
       "    <tr>\n",
       "      <th>2</th>\n",
       "      <td>28</td>\n",
       "      <td>336951</td>\n",
       "      <td>12</td>\n",
       "      <td>0</td>\n",
       "      <td>0</td>\n",
       "      <td>40</td>\n",
       "      <td>1</td>\n",
       "    </tr>\n",
       "    <tr>\n",
       "      <th>3</th>\n",
       "      <td>44</td>\n",
       "      <td>160323</td>\n",
       "      <td>10</td>\n",
       "      <td>7688</td>\n",
       "      <td>0</td>\n",
       "      <td>40</td>\n",
       "      <td>1</td>\n",
       "    </tr>\n",
       "    <tr>\n",
       "      <th>4</th>\n",
       "      <td>18</td>\n",
       "      <td>103497</td>\n",
       "      <td>10</td>\n",
       "      <td>0</td>\n",
       "      <td>0</td>\n",
       "      <td>30</td>\n",
       "      <td>0</td>\n",
       "    </tr>\n",
       "  </tbody>\n",
       "</table>\n",
       "</div>"
      ],
      "text/plain": [
       "   age  fnlwgt  education_num  capital_gain  capital_loss  hours_per_week  \\\n",
       "0   25  226802              7             0             0              40   \n",
       "1   38   89814              9             0             0              50   \n",
       "2   28  336951             12             0             0              40   \n",
       "3   44  160323             10          7688             0              40   \n",
       "4   18  103497             10             0             0              30   \n",
       "\n",
       "   income  \n",
       "0       0  \n",
       "1       0  \n",
       "2       1  \n",
       "3       1  \n",
       "4       0  "
      ]
     },
     "execution_count": 65,
     "metadata": {},
     "output_type": "execute_result"
    }
   ],
   "source": [
    "# Base de Teste\n",
    "df_teste.head()"
   ]
  },
  {
   "cell_type": "markdown",
   "id": "d403e579",
   "metadata": {},
   "source": [
    "**___________________________________________________________________________________________________________________________**\n",
    "\n",
    "<a id='modelagem'></a>\n",
    "# MODELAGEM"
   ]
  },
  {
   "cell_type": "markdown",
   "id": "82b1af18",
   "metadata": {},
   "source": [
    "- Vamos testar os seguintes modelos:\n",
    "     - **Random Forest**\n",
    "        - https://scikit-learn.org/stable/modules/generated/sklearn.ensemble.RandomForestClassifier.html#sklearn.ensemble.RandomForestClassifier\n",
    "    \n",
    "    - **KNeighborsClassifier (KNN)**\n",
    "        - https://scikit-learn.org/stable/modules/generated/sklearn.neighbors.KNeighborsClassifier.html#sklearn.neighbors.KNeighborsClassifier\n",
    "    \n",
    "    - **Logistic Regression**\n",
    "        - https://scikit-learn.org/stable/modules/generated/sklearn.linear_model.LogisticRegression.html#sklearn.linear_model.LogisticRegression\n",
    "          "
   ]
  },
  {
   "cell_type": "markdown",
   "id": "5ae2ee76",
   "metadata": {},
   "source": [
    "- Antes de usar os algoritmos, precisamos separar a base de treino em **treino e validação**\n",
    "    - Vamos fazer isso utilizando o **train_test_split**\n",
    "        - https://scikit-learn.org/stable/modules/generated/sklearn.model_selection.train_test_split.html"
   ]
  },
  {
   "cell_type": "code",
   "execution_count": 66,
   "id": "769a8cba",
   "metadata": {},
   "outputs": [],
   "source": [
    "# Importando o train_test_split\n",
    "from sklearn.model_selection import train_test_split\n",
    "\n",
    "# Importando os modelos de Machine Learning\n",
    "from sklearn.ensemble import RandomForestClassifier\n",
    "from sklearn.neighbors import KNeighborsClassifier\n",
    "from sklearn.linear_model import LogisticRegression"
   ]
  },
  {
   "cell_type": "code",
   "execution_count": 67,
   "id": "f2f5bea5",
   "metadata": {},
   "outputs": [],
   "source": [
    "X = df_treino.drop('income', axis=1)\n",
    "y = df_treino['income']\n",
    "\n",
    "X_train, X_val, y_train, y_val = train_test_split(X, y, test_size=0.3, random_state=42)"
   ]
  },
  {
   "cell_type": "markdown",
   "id": "ff8060ed",
   "metadata": {},
   "source": [
    "## Random Forest"
   ]
  },
  {
   "cell_type": "code",
   "execution_count": 68,
   "id": "4d187ac4",
   "metadata": {},
   "outputs": [],
   "source": [
    "# Criando o classificador\n",
    "clf_rf = RandomForestClassifier(random_state=42)"
   ]
  },
  {
   "cell_type": "code",
   "execution_count": 69,
   "id": "cb3734c7",
   "metadata": {},
   "outputs": [
    {
     "data": {
      "text/html": [
       "<style>#sk-container-id-1 {color: black;background-color: white;}#sk-container-id-1 pre{padding: 0;}#sk-container-id-1 div.sk-toggleable {background-color: white;}#sk-container-id-1 label.sk-toggleable__label {cursor: pointer;display: block;width: 100%;margin-bottom: 0;padding: 0.3em;box-sizing: border-box;text-align: center;}#sk-container-id-1 label.sk-toggleable__label-arrow:before {content: \"▸\";float: left;margin-right: 0.25em;color: #696969;}#sk-container-id-1 label.sk-toggleable__label-arrow:hover:before {color: black;}#sk-container-id-1 div.sk-estimator:hover label.sk-toggleable__label-arrow:before {color: black;}#sk-container-id-1 div.sk-toggleable__content {max-height: 0;max-width: 0;overflow: hidden;text-align: left;background-color: #f0f8ff;}#sk-container-id-1 div.sk-toggleable__content pre {margin: 0.2em;color: black;border-radius: 0.25em;background-color: #f0f8ff;}#sk-container-id-1 input.sk-toggleable__control:checked~div.sk-toggleable__content {max-height: 200px;max-width: 100%;overflow: auto;}#sk-container-id-1 input.sk-toggleable__control:checked~label.sk-toggleable__label-arrow:before {content: \"▾\";}#sk-container-id-1 div.sk-estimator input.sk-toggleable__control:checked~label.sk-toggleable__label {background-color: #d4ebff;}#sk-container-id-1 div.sk-label input.sk-toggleable__control:checked~label.sk-toggleable__label {background-color: #d4ebff;}#sk-container-id-1 input.sk-hidden--visually {border: 0;clip: rect(1px 1px 1px 1px);clip: rect(1px, 1px, 1px, 1px);height: 1px;margin: -1px;overflow: hidden;padding: 0;position: absolute;width: 1px;}#sk-container-id-1 div.sk-estimator {font-family: monospace;background-color: #f0f8ff;border: 1px dotted black;border-radius: 0.25em;box-sizing: border-box;margin-bottom: 0.5em;}#sk-container-id-1 div.sk-estimator:hover {background-color: #d4ebff;}#sk-container-id-1 div.sk-parallel-item::after {content: \"\";width: 100%;border-bottom: 1px solid gray;flex-grow: 1;}#sk-container-id-1 div.sk-label:hover label.sk-toggleable__label {background-color: #d4ebff;}#sk-container-id-1 div.sk-serial::before {content: \"\";position: absolute;border-left: 1px solid gray;box-sizing: border-box;top: 0;bottom: 0;left: 50%;z-index: 0;}#sk-container-id-1 div.sk-serial {display: flex;flex-direction: column;align-items: center;background-color: white;padding-right: 0.2em;padding-left: 0.2em;position: relative;}#sk-container-id-1 div.sk-item {position: relative;z-index: 1;}#sk-container-id-1 div.sk-parallel {display: flex;align-items: stretch;justify-content: center;background-color: white;position: relative;}#sk-container-id-1 div.sk-item::before, #sk-container-id-1 div.sk-parallel-item::before {content: \"\";position: absolute;border-left: 1px solid gray;box-sizing: border-box;top: 0;bottom: 0;left: 50%;z-index: -1;}#sk-container-id-1 div.sk-parallel-item {display: flex;flex-direction: column;z-index: 1;position: relative;background-color: white;}#sk-container-id-1 div.sk-parallel-item:first-child::after {align-self: flex-end;width: 50%;}#sk-container-id-1 div.sk-parallel-item:last-child::after {align-self: flex-start;width: 50%;}#sk-container-id-1 div.sk-parallel-item:only-child::after {width: 0;}#sk-container-id-1 div.sk-dashed-wrapped {border: 1px dashed gray;margin: 0 0.4em 0.5em 0.4em;box-sizing: border-box;padding-bottom: 0.4em;background-color: white;}#sk-container-id-1 div.sk-label label {font-family: monospace;font-weight: bold;display: inline-block;line-height: 1.2em;}#sk-container-id-1 div.sk-label-container {text-align: center;}#sk-container-id-1 div.sk-container {/* jupyter's `normalize.less` sets `[hidden] { display: none; }` but bootstrap.min.css set `[hidden] { display: none !important; }` so we also need the `!important` here to be able to override the default hidden behavior on the sphinx rendered scikit-learn.org. See: https://github.com/scikit-learn/scikit-learn/issues/21755 */display: inline-block !important;position: relative;}#sk-container-id-1 div.sk-text-repr-fallback {display: none;}</style><div id=\"sk-container-id-1\" class=\"sk-top-container\"><div class=\"sk-text-repr-fallback\"><pre>RandomForestClassifier(random_state=42)</pre><b>In a Jupyter environment, please rerun this cell to show the HTML representation or trust the notebook. <br />On GitHub, the HTML representation is unable to render, please try loading this page with nbviewer.org.</b></div><div class=\"sk-container\" hidden><div class=\"sk-item\"><div class=\"sk-estimator sk-toggleable\"><input class=\"sk-toggleable__control sk-hidden--visually\" id=\"sk-estimator-id-1\" type=\"checkbox\" checked><label for=\"sk-estimator-id-1\" class=\"sk-toggleable__label sk-toggleable__label-arrow\">RandomForestClassifier</label><div class=\"sk-toggleable__content\"><pre>RandomForestClassifier(random_state=42)</pre></div></div></div></div></div>"
      ],
      "text/plain": [
       "RandomForestClassifier(random_state=42)"
      ]
     },
     "execution_count": 69,
     "metadata": {},
     "output_type": "execute_result"
    }
   ],
   "source": [
    "# Fazendo o fit com os dados\n",
    "clf_rf.fit(X_train, y_train)"
   ]
  },
  {
   "cell_type": "code",
   "execution_count": 70,
   "id": "78852919",
   "metadata": {},
   "outputs": [],
   "source": [
    "# Fazendo a previsão\n",
    "y_pred_rf = clf_rf.predict(X_val)"
   ]
  },
  {
   "cell_type": "markdown",
   "id": "75e875a0",
   "metadata": {},
   "source": [
    "## KNeighborsClassifier"
   ]
  },
  {
   "cell_type": "code",
   "execution_count": 71,
   "id": "2743659a",
   "metadata": {},
   "outputs": [],
   "source": [
    "# Criando o classificador\n",
    "clf_knn = KNeighborsClassifier()"
   ]
  },
  {
   "cell_type": "code",
   "execution_count": 72,
   "id": "701d7299",
   "metadata": {},
   "outputs": [
    {
     "data": {
      "text/html": [
       "<style>#sk-container-id-2 {color: black;background-color: white;}#sk-container-id-2 pre{padding: 0;}#sk-container-id-2 div.sk-toggleable {background-color: white;}#sk-container-id-2 label.sk-toggleable__label {cursor: pointer;display: block;width: 100%;margin-bottom: 0;padding: 0.3em;box-sizing: border-box;text-align: center;}#sk-container-id-2 label.sk-toggleable__label-arrow:before {content: \"▸\";float: left;margin-right: 0.25em;color: #696969;}#sk-container-id-2 label.sk-toggleable__label-arrow:hover:before {color: black;}#sk-container-id-2 div.sk-estimator:hover label.sk-toggleable__label-arrow:before {color: black;}#sk-container-id-2 div.sk-toggleable__content {max-height: 0;max-width: 0;overflow: hidden;text-align: left;background-color: #f0f8ff;}#sk-container-id-2 div.sk-toggleable__content pre {margin: 0.2em;color: black;border-radius: 0.25em;background-color: #f0f8ff;}#sk-container-id-2 input.sk-toggleable__control:checked~div.sk-toggleable__content {max-height: 200px;max-width: 100%;overflow: auto;}#sk-container-id-2 input.sk-toggleable__control:checked~label.sk-toggleable__label-arrow:before {content: \"▾\";}#sk-container-id-2 div.sk-estimator input.sk-toggleable__control:checked~label.sk-toggleable__label {background-color: #d4ebff;}#sk-container-id-2 div.sk-label input.sk-toggleable__control:checked~label.sk-toggleable__label {background-color: #d4ebff;}#sk-container-id-2 input.sk-hidden--visually {border: 0;clip: rect(1px 1px 1px 1px);clip: rect(1px, 1px, 1px, 1px);height: 1px;margin: -1px;overflow: hidden;padding: 0;position: absolute;width: 1px;}#sk-container-id-2 div.sk-estimator {font-family: monospace;background-color: #f0f8ff;border: 1px dotted black;border-radius: 0.25em;box-sizing: border-box;margin-bottom: 0.5em;}#sk-container-id-2 div.sk-estimator:hover {background-color: #d4ebff;}#sk-container-id-2 div.sk-parallel-item::after {content: \"\";width: 100%;border-bottom: 1px solid gray;flex-grow: 1;}#sk-container-id-2 div.sk-label:hover label.sk-toggleable__label {background-color: #d4ebff;}#sk-container-id-2 div.sk-serial::before {content: \"\";position: absolute;border-left: 1px solid gray;box-sizing: border-box;top: 0;bottom: 0;left: 50%;z-index: 0;}#sk-container-id-2 div.sk-serial {display: flex;flex-direction: column;align-items: center;background-color: white;padding-right: 0.2em;padding-left: 0.2em;position: relative;}#sk-container-id-2 div.sk-item {position: relative;z-index: 1;}#sk-container-id-2 div.sk-parallel {display: flex;align-items: stretch;justify-content: center;background-color: white;position: relative;}#sk-container-id-2 div.sk-item::before, #sk-container-id-2 div.sk-parallel-item::before {content: \"\";position: absolute;border-left: 1px solid gray;box-sizing: border-box;top: 0;bottom: 0;left: 50%;z-index: -1;}#sk-container-id-2 div.sk-parallel-item {display: flex;flex-direction: column;z-index: 1;position: relative;background-color: white;}#sk-container-id-2 div.sk-parallel-item:first-child::after {align-self: flex-end;width: 50%;}#sk-container-id-2 div.sk-parallel-item:last-child::after {align-self: flex-start;width: 50%;}#sk-container-id-2 div.sk-parallel-item:only-child::after {width: 0;}#sk-container-id-2 div.sk-dashed-wrapped {border: 1px dashed gray;margin: 0 0.4em 0.5em 0.4em;box-sizing: border-box;padding-bottom: 0.4em;background-color: white;}#sk-container-id-2 div.sk-label label {font-family: monospace;font-weight: bold;display: inline-block;line-height: 1.2em;}#sk-container-id-2 div.sk-label-container {text-align: center;}#sk-container-id-2 div.sk-container {/* jupyter's `normalize.less` sets `[hidden] { display: none; }` but bootstrap.min.css set `[hidden] { display: none !important; }` so we also need the `!important` here to be able to override the default hidden behavior on the sphinx rendered scikit-learn.org. See: https://github.com/scikit-learn/scikit-learn/issues/21755 */display: inline-block !important;position: relative;}#sk-container-id-2 div.sk-text-repr-fallback {display: none;}</style><div id=\"sk-container-id-2\" class=\"sk-top-container\"><div class=\"sk-text-repr-fallback\"><pre>KNeighborsClassifier()</pre><b>In a Jupyter environment, please rerun this cell to show the HTML representation or trust the notebook. <br />On GitHub, the HTML representation is unable to render, please try loading this page with nbviewer.org.</b></div><div class=\"sk-container\" hidden><div class=\"sk-item\"><div class=\"sk-estimator sk-toggleable\"><input class=\"sk-toggleable__control sk-hidden--visually\" id=\"sk-estimator-id-2\" type=\"checkbox\" checked><label for=\"sk-estimator-id-2\" class=\"sk-toggleable__label sk-toggleable__label-arrow\">KNeighborsClassifier</label><div class=\"sk-toggleable__content\"><pre>KNeighborsClassifier()</pre></div></div></div></div></div>"
      ],
      "text/plain": [
       "KNeighborsClassifier()"
      ]
     },
     "execution_count": 72,
     "metadata": {},
     "output_type": "execute_result"
    }
   ],
   "source": [
    "# Fazendo o fit com os dados\n",
    "clf_knn.fit(X_train,y_train)"
   ]
  },
  {
   "cell_type": "code",
   "execution_count": 73,
   "id": "da245cc5",
   "metadata": {},
   "outputs": [],
   "source": [
    "# Fazendo a previsão\n",
    "y_pred_knn = clf_knn.predict(X_val)"
   ]
  },
  {
   "cell_type": "markdown",
   "id": "0d03b3c7",
   "metadata": {},
   "source": [
    "## Regressão Logística"
   ]
  },
  {
   "cell_type": "code",
   "execution_count": 74,
   "id": "84c32a66",
   "metadata": {},
   "outputs": [],
   "source": [
    "# Criando o classificador\n",
    "clf_log = LogisticRegression(random_state=42)"
   ]
  },
  {
   "cell_type": "code",
   "execution_count": 75,
   "id": "0879ac5d",
   "metadata": {},
   "outputs": [
    {
     "data": {
      "text/html": [
       "<style>#sk-container-id-3 {color: black;background-color: white;}#sk-container-id-3 pre{padding: 0;}#sk-container-id-3 div.sk-toggleable {background-color: white;}#sk-container-id-3 label.sk-toggleable__label {cursor: pointer;display: block;width: 100%;margin-bottom: 0;padding: 0.3em;box-sizing: border-box;text-align: center;}#sk-container-id-3 label.sk-toggleable__label-arrow:before {content: \"▸\";float: left;margin-right: 0.25em;color: #696969;}#sk-container-id-3 label.sk-toggleable__label-arrow:hover:before {color: black;}#sk-container-id-3 div.sk-estimator:hover label.sk-toggleable__label-arrow:before {color: black;}#sk-container-id-3 div.sk-toggleable__content {max-height: 0;max-width: 0;overflow: hidden;text-align: left;background-color: #f0f8ff;}#sk-container-id-3 div.sk-toggleable__content pre {margin: 0.2em;color: black;border-radius: 0.25em;background-color: #f0f8ff;}#sk-container-id-3 input.sk-toggleable__control:checked~div.sk-toggleable__content {max-height: 200px;max-width: 100%;overflow: auto;}#sk-container-id-3 input.sk-toggleable__control:checked~label.sk-toggleable__label-arrow:before {content: \"▾\";}#sk-container-id-3 div.sk-estimator input.sk-toggleable__control:checked~label.sk-toggleable__label {background-color: #d4ebff;}#sk-container-id-3 div.sk-label input.sk-toggleable__control:checked~label.sk-toggleable__label {background-color: #d4ebff;}#sk-container-id-3 input.sk-hidden--visually {border: 0;clip: rect(1px 1px 1px 1px);clip: rect(1px, 1px, 1px, 1px);height: 1px;margin: -1px;overflow: hidden;padding: 0;position: absolute;width: 1px;}#sk-container-id-3 div.sk-estimator {font-family: monospace;background-color: #f0f8ff;border: 1px dotted black;border-radius: 0.25em;box-sizing: border-box;margin-bottom: 0.5em;}#sk-container-id-3 div.sk-estimator:hover {background-color: #d4ebff;}#sk-container-id-3 div.sk-parallel-item::after {content: \"\";width: 100%;border-bottom: 1px solid gray;flex-grow: 1;}#sk-container-id-3 div.sk-label:hover label.sk-toggleable__label {background-color: #d4ebff;}#sk-container-id-3 div.sk-serial::before {content: \"\";position: absolute;border-left: 1px solid gray;box-sizing: border-box;top: 0;bottom: 0;left: 50%;z-index: 0;}#sk-container-id-3 div.sk-serial {display: flex;flex-direction: column;align-items: center;background-color: white;padding-right: 0.2em;padding-left: 0.2em;position: relative;}#sk-container-id-3 div.sk-item {position: relative;z-index: 1;}#sk-container-id-3 div.sk-parallel {display: flex;align-items: stretch;justify-content: center;background-color: white;position: relative;}#sk-container-id-3 div.sk-item::before, #sk-container-id-3 div.sk-parallel-item::before {content: \"\";position: absolute;border-left: 1px solid gray;box-sizing: border-box;top: 0;bottom: 0;left: 50%;z-index: -1;}#sk-container-id-3 div.sk-parallel-item {display: flex;flex-direction: column;z-index: 1;position: relative;background-color: white;}#sk-container-id-3 div.sk-parallel-item:first-child::after {align-self: flex-end;width: 50%;}#sk-container-id-3 div.sk-parallel-item:last-child::after {align-self: flex-start;width: 50%;}#sk-container-id-3 div.sk-parallel-item:only-child::after {width: 0;}#sk-container-id-3 div.sk-dashed-wrapped {border: 1px dashed gray;margin: 0 0.4em 0.5em 0.4em;box-sizing: border-box;padding-bottom: 0.4em;background-color: white;}#sk-container-id-3 div.sk-label label {font-family: monospace;font-weight: bold;display: inline-block;line-height: 1.2em;}#sk-container-id-3 div.sk-label-container {text-align: center;}#sk-container-id-3 div.sk-container {/* jupyter's `normalize.less` sets `[hidden] { display: none; }` but bootstrap.min.css set `[hidden] { display: none !important; }` so we also need the `!important` here to be able to override the default hidden behavior on the sphinx rendered scikit-learn.org. See: https://github.com/scikit-learn/scikit-learn/issues/21755 */display: inline-block !important;position: relative;}#sk-container-id-3 div.sk-text-repr-fallback {display: none;}</style><div id=\"sk-container-id-3\" class=\"sk-top-container\"><div class=\"sk-text-repr-fallback\"><pre>LogisticRegression(random_state=42)</pre><b>In a Jupyter environment, please rerun this cell to show the HTML representation or trust the notebook. <br />On GitHub, the HTML representation is unable to render, please try loading this page with nbviewer.org.</b></div><div class=\"sk-container\" hidden><div class=\"sk-item\"><div class=\"sk-estimator sk-toggleable\"><input class=\"sk-toggleable__control sk-hidden--visually\" id=\"sk-estimator-id-3\" type=\"checkbox\" checked><label for=\"sk-estimator-id-3\" class=\"sk-toggleable__label sk-toggleable__label-arrow\">LogisticRegression</label><div class=\"sk-toggleable__content\"><pre>LogisticRegression(random_state=42)</pre></div></div></div></div></div>"
      ],
      "text/plain": [
       "LogisticRegression(random_state=42)"
      ]
     },
     "execution_count": 75,
     "metadata": {},
     "output_type": "execute_result"
    }
   ],
   "source": [
    "# Fazendo o fit com os dados\n",
    "clf_log.fit(X_train,y_train)"
   ]
  },
  {
   "cell_type": "code",
   "execution_count": 76,
   "id": "e34a382b",
   "metadata": {},
   "outputs": [],
   "source": [
    "# Fazendo a previsão\n",
    "y_pred_log = clf_log.predict(X_val)"
   ]
  },
  {
   "cell_type": "markdown",
   "id": "98763414",
   "metadata": {},
   "source": [
    "**___________________________________________________________________________________________________________________________**\n",
    "\n",
    "<a id='avaliacao'></a>\n",
    "# AVALIAÇÃO"
   ]
  },
  {
   "cell_type": "markdown",
   "id": "a9176a1c",
   "metadata": {},
   "source": [
    "- Para fazer essa análise, podemos usar:\n",
    "    - Acurácia:\n",
    "        - https://scikit-learn.org/stable/modules/generated/sklearn.metrics.accuracy_score.html\n",
    "    - Precisão:\n",
    "        - https://scikit-learn.org/stable/modules/generated/sklearn.metrics.precision_score.html#\n",
    "    - Matriz de confusão (ajuda a visualizar a distribuição dos erros):\n",
    "        - https://scikit-learn.org/stable/modules/generated/sklearn.metrics.confusion_matrix.html\n",
    "    - Relatório de Classificação:\n",
    "        - https://scikit-learn.org/stable/modules/generated/sklearn.metrics.classification_report.html"
   ]
  },
  {
   "cell_type": "code",
   "execution_count": 77,
   "id": "a5b05922",
   "metadata": {
    "scrolled": true
   },
   "outputs": [],
   "source": [
    "# Importando\n",
    "from sklearn.metrics import accuracy_score, precision_score\n",
    "from sklearn.metrics import classification_report, confusion_matrix"
   ]
  },
  {
   "cell_type": "code",
   "execution_count": 78,
   "id": "d18f7dce",
   "metadata": {},
   "outputs": [],
   "source": [
    "# Função para avaliação\n",
    "def avaliacao(y_real, y_pred):\n",
    "    # Acurácia\n",
    "    acc = accuracy_score(y_real, y_pred)\n",
    "    # Precisão\n",
    "    pre = precision_score(y_real, y_pred)\n",
    "    \n",
    "    print('Accuracy:', acc)\n",
    "    print('\\nPrecision:', pre)\n",
    "\n",
    "    # Relatório de classificação\n",
    "    print('\\n', classification_report(y_real, y_pred))\n",
    "\n",
    "    # Matriz de confusão\n",
    "    print('\\n', pd.crosstab(y_real, y_pred, rownames=['Real'], colnames=['Predito']).reindex(index=[1, 0], columns=[1, 0]))\n",
    "    \n",
    "    return acc, pre"
   ]
  },
  {
   "cell_type": "markdown",
   "id": "6ac8e3a9",
   "metadata": {},
   "source": [
    "- **Random Forest**"
   ]
  },
  {
   "cell_type": "code",
   "execution_count": 79,
   "id": "0b17a1cd",
   "metadata": {
    "scrolled": false
   },
   "outputs": [
    {
     "name": "stdout",
     "output_type": "stream",
     "text": [
      "Accuracy: 0.8034214300348289\n",
      "\n",
      "Precision: 0.6137071651090342\n",
      "\n",
      "               precision    recall  f1-score   support\n",
      "\n",
      "           0       0.85      0.90      0.87      7405\n",
      "           1       0.61      0.50      0.55      2357\n",
      "\n",
      "    accuracy                           0.80      9762\n",
      "   macro avg       0.73      0.70      0.71      9762\n",
      "weighted avg       0.79      0.80      0.80      9762\n",
      "\n",
      "\n",
      " Predito     1     0\n",
      "Real               \n",
      "1        1182  1175\n",
      "0         744  6661\n"
     ]
    }
   ],
   "source": [
    "# Para Random Forest\n",
    "acc_rf, pre_rf = avaliacao(y_val, y_pred_rf)"
   ]
  },
  {
   "cell_type": "markdown",
   "id": "e30eb961",
   "metadata": {},
   "source": [
    "- **KNeighborsClassifier**"
   ]
  },
  {
   "cell_type": "code",
   "execution_count": 80,
   "id": "fa446ede",
   "metadata": {},
   "outputs": [
    {
     "name": "stdout",
     "output_type": "stream",
     "text": [
      "Accuracy: 0.7729973366113502\n",
      "\n",
      "Precision: 0.5501779359430605\n",
      "\n",
      "               precision    recall  f1-score   support\n",
      "\n",
      "           0       0.81      0.91      0.86      7405\n",
      "           1       0.55      0.33      0.41      2357\n",
      "\n",
      "    accuracy                           0.77      9762\n",
      "   macro avg       0.68      0.62      0.64      9762\n",
      "weighted avg       0.75      0.77      0.75      9762\n",
      "\n",
      "\n",
      " Predito    1     0\n",
      "Real              \n",
      "1        773  1584\n",
      "0        632  6773\n"
     ]
    }
   ],
   "source": [
    "# Para KNeighborsClassifier\n",
    "acc_knn, pre_knn = avaliacao(y_val, y_pred_knn)"
   ]
  },
  {
   "cell_type": "markdown",
   "id": "5c182e5b",
   "metadata": {},
   "source": [
    "- **Regressão Logística**"
   ]
  },
  {
   "cell_type": "code",
   "execution_count": 81,
   "id": "7bf6b6aa",
   "metadata": {
    "scrolled": true
   },
   "outputs": [
    {
     "name": "stdout",
     "output_type": "stream",
     "text": [
      "Accuracy: 0.7976849006351158\n",
      "\n",
      "Precision: 0.7089715536105032\n",
      "\n",
      "               precision    recall  f1-score   support\n",
      "\n",
      "           0       0.81      0.96      0.88      7405\n",
      "           1       0.71      0.27      0.40      2357\n",
      "\n",
      "    accuracy                           0.80      9762\n",
      "   macro avg       0.76      0.62      0.64      9762\n",
      "weighted avg       0.78      0.80      0.76      9762\n",
      "\n",
      "\n",
      " Predito    1     0\n",
      "Real              \n",
      "1        648  1709\n",
      "0        266  7139\n"
     ]
    }
   ],
   "source": [
    "# Para Regressão Logística\n",
    "acc_log, pre_log = avaliacao(y_val, y_pred_log)"
   ]
  },
  {
   "cell_type": "markdown",
   "id": "11e59e8d",
   "metadata": {},
   "source": [
    "## DataFrame de Comparação"
   ]
  },
  {
   "cell_type": "code",
   "execution_count": 82,
   "id": "1a483b49",
   "metadata": {},
   "outputs": [],
   "source": [
    "# Cria um dataframe para comparar a acurácia e precisão das nossas alterações\n",
    "df_avaliacao = pd.DataFrame({'Modelos': ['Random Forest', 'KNN', 'Regressao Logistica']})"
   ]
  },
  {
   "cell_type": "code",
   "execution_count": 83,
   "id": "46bc8165",
   "metadata": {},
   "outputs": [],
   "source": [
    "# Adiciona uma coluna e insere os resultados das avaliações\n",
    "df_avaliacao['Acurácia'] = [acc_rf, acc_knn, acc_log]\n",
    "df_avaliacao['Precisão'] = [pre_rf, pre_knn, pre_log]"
   ]
  },
  {
   "cell_type": "code",
   "execution_count": 84,
   "id": "ed6c6701",
   "metadata": {
    "scrolled": true
   },
   "outputs": [
    {
     "data": {
      "text/html": [
       "<div>\n",
       "<style scoped>\n",
       "    .dataframe tbody tr th:only-of-type {\n",
       "        vertical-align: middle;\n",
       "    }\n",
       "\n",
       "    .dataframe tbody tr th {\n",
       "        vertical-align: top;\n",
       "    }\n",
       "\n",
       "    .dataframe thead th {\n",
       "        text-align: right;\n",
       "    }\n",
       "</style>\n",
       "<table border=\"1\" class=\"dataframe\">\n",
       "  <thead>\n",
       "    <tr style=\"text-align: right;\">\n",
       "      <th></th>\n",
       "      <th>Modelos</th>\n",
       "      <th>Acurácia</th>\n",
       "      <th>Precisão</th>\n",
       "    </tr>\n",
       "  </thead>\n",
       "  <tbody>\n",
       "    <tr>\n",
       "      <th>0</th>\n",
       "      <td>Random Forest</td>\n",
       "      <td>0.803421</td>\n",
       "      <td>0.613707</td>\n",
       "    </tr>\n",
       "    <tr>\n",
       "      <th>1</th>\n",
       "      <td>KNN</td>\n",
       "      <td>0.772997</td>\n",
       "      <td>0.550178</td>\n",
       "    </tr>\n",
       "    <tr>\n",
       "      <th>2</th>\n",
       "      <td>Regressao Logistica</td>\n",
       "      <td>0.797685</td>\n",
       "      <td>0.708972</td>\n",
       "    </tr>\n",
       "  </tbody>\n",
       "</table>\n",
       "</div>"
      ],
      "text/plain": [
       "               Modelos  Acurácia  Precisão\n",
       "0        Random Forest  0.803421  0.613707\n",
       "1                  KNN  0.772997  0.550178\n",
       "2  Regressao Logistica  0.797685  0.708972"
      ]
     },
     "execution_count": 84,
     "metadata": {},
     "output_type": "execute_result"
    }
   ],
   "source": [
    "# Mostra o dataframe\n",
    "df_avaliacao"
   ]
  },
  {
   "cell_type": "markdown",
   "id": "d5398eb5",
   "metadata": {},
   "source": [
    "**___________________________________________________________________________________________________________________________**\n",
    "\n",
    "<a id='previsao'></a>\n",
    "# PREVISÃO"
   ]
  },
  {
   "cell_type": "markdown",
   "id": "70fb0198",
   "metadata": {},
   "source": [
    "## Fazendo a previsão para os dados de teste\n",
    "- Vamos usar o modelo RandomForest que obteve o melhor desempenho para fazer o predict na base de teste"
   ]
  },
  {
   "cell_type": "code",
   "execution_count": 85,
   "id": "6f653a36",
   "metadata": {},
   "outputs": [
    {
     "data": {
      "text/html": [
       "<div>\n",
       "<style scoped>\n",
       "    .dataframe tbody tr th:only-of-type {\n",
       "        vertical-align: middle;\n",
       "    }\n",
       "\n",
       "    .dataframe tbody tr th {\n",
       "        vertical-align: top;\n",
       "    }\n",
       "\n",
       "    .dataframe thead th {\n",
       "        text-align: right;\n",
       "    }\n",
       "</style>\n",
       "<table border=\"1\" class=\"dataframe\">\n",
       "  <thead>\n",
       "    <tr style=\"text-align: right;\">\n",
       "      <th></th>\n",
       "      <th>age</th>\n",
       "      <th>fnlwgt</th>\n",
       "      <th>education_num</th>\n",
       "      <th>capital_gain</th>\n",
       "      <th>capital_loss</th>\n",
       "      <th>hours_per_week</th>\n",
       "      <th>income</th>\n",
       "    </tr>\n",
       "  </thead>\n",
       "  <tbody>\n",
       "    <tr>\n",
       "      <th>0</th>\n",
       "      <td>25</td>\n",
       "      <td>226802</td>\n",
       "      <td>7</td>\n",
       "      <td>0</td>\n",
       "      <td>0</td>\n",
       "      <td>40</td>\n",
       "      <td>0</td>\n",
       "    </tr>\n",
       "    <tr>\n",
       "      <th>1</th>\n",
       "      <td>38</td>\n",
       "      <td>89814</td>\n",
       "      <td>9</td>\n",
       "      <td>0</td>\n",
       "      <td>0</td>\n",
       "      <td>50</td>\n",
       "      <td>0</td>\n",
       "    </tr>\n",
       "    <tr>\n",
       "      <th>2</th>\n",
       "      <td>28</td>\n",
       "      <td>336951</td>\n",
       "      <td>12</td>\n",
       "      <td>0</td>\n",
       "      <td>0</td>\n",
       "      <td>40</td>\n",
       "      <td>1</td>\n",
       "    </tr>\n",
       "  </tbody>\n",
       "</table>\n",
       "</div>"
      ],
      "text/plain": [
       "   age  fnlwgt  education_num  capital_gain  capital_loss  hours_per_week  \\\n",
       "0   25  226802              7             0             0              40   \n",
       "1   38   89814              9             0             0              50   \n",
       "2   28  336951             12             0             0              40   \n",
       "\n",
       "   income  \n",
       "0       0  \n",
       "1       0  \n",
       "2       1  "
      ]
     },
     "execution_count": 85,
     "metadata": {},
     "output_type": "execute_result"
    }
   ],
   "source": [
    "# Visualizando a base de teste\n",
    "df_teste.head(3)"
   ]
  },
  {
   "cell_type": "markdown",
   "id": "ba1ba048",
   "metadata": {},
   "source": [
    "- Para os dados de teste, precisamos separar a coluna income. Ela servira apenas como base para avaliar o desempenho do nosso modelo"
   ]
  },
  {
   "cell_type": "code",
   "execution_count": 86,
   "id": "3e2dd327",
   "metadata": {},
   "outputs": [],
   "source": [
    "# Separando em X e y\n",
    "X_test = df_teste.drop('income', axis=1)\n",
    "y_test = df_teste['income']"
   ]
  },
  {
   "cell_type": "code",
   "execution_count": 87,
   "id": "feac1cbf",
   "metadata": {},
   "outputs": [],
   "source": [
    "# Fazendo a previsão\n",
    "y_pred = clf_rf.predict(X_test)"
   ]
  },
  {
   "cell_type": "code",
   "execution_count": 88,
   "id": "1b320098",
   "metadata": {
    "scrolled": true
   },
   "outputs": [
    {
     "name": "stdout",
     "output_type": "stream",
     "text": [
      "Accuracy: 0.8087982305234701\n",
      "\n",
      "Precision: 0.6154814348646948\n",
      "\n",
      "               precision    recall  f1-score   support\n",
      "\n",
      "           0       0.86      0.90      0.88     12430\n",
      "           1       0.62      0.51      0.56      3846\n",
      "\n",
      "    accuracy                           0.81     16276\n",
      "   macro avg       0.74      0.71      0.72     16276\n",
      "weighted avg       0.80      0.81      0.80     16276\n",
      "\n",
      "\n",
      " Predito     1      0\n",
      "Real                \n",
      "1        1956   1890\n",
      "0        1222  11208\n"
     ]
    }
   ],
   "source": [
    "# Avaliando o nosso modelo\n",
    "acc_pred, pre_pred = avaliacao(y_test, y_pred)"
   ]
  },
  {
   "cell_type": "markdown",
   "id": "1757499f",
   "metadata": {},
   "source": [
    "**___________________________________________________________________________________________________________________________**\n",
    "\n",
    "<a id='conclusao'></a>\n",
    "# CONCLUSÃO\n",
    "\n",
    "- O valor máximo de acurácia que obtivemos foi de 80.87%\n",
    "    - Porém nossa precisão foi bem menor, 61.54%\n",
    "- Se olharmos apenas para a acurácia, o valor pode nos enganar, isso porque nossa classe está DESBALANCEADA\n",
    "---\n",
    "- Como assim, desbalanceadas?\n",
    "    - Observe que 75.907 % da classe são de pessoas que ganham um valor menor ou igual a 50k (classe 0)\n",
    "    - E apenas 24.093 % da classe são de pessoas que ganham mais que 50k (classe 1)\n",
    "- O desbalanceamento é um dos motivos do nosso modelo estar prevendo muito bem a classe 0 e prevendo muito mal a classe 1\n",
    "    - É por isso que se olharmos apenas para a alta acurácia, o valor pode nos enganar. A acurácia da classe 0 eleva a acurácia geral, mascarando com isso a baixa acurácia para a classe 1.\n",
    "---\n",
    "- Como queremos prever se a renda da pessoa excede o valor de 50 mil por ano, precisamos melhorar as previsões para a classe 1.\n",
    "    - Portanto temos que levar em consideração que as classes estão desbalanceadas e analisar diferentes métricas de validação para garantir que o nosso modelo realmente esteja se saindo bem, principalmente para prever os valores igual a 1\n",
    "\n",
    "\n",
    "**Melhorias**\n",
    "- Análise e tratamento mais detalhado das colunas\n",
    "- Transformar as colunas categóricas em numéricas\n",
    "- Pré-processamento dos dados\n",
    "- Validação Cruzada\n",
    "- Seleção de features\n",
    "- Tunning dos Modelos"
   ]
  },
  {
   "cell_type": "markdown",
   "id": "959eb5fb",
   "metadata": {},
   "source": [
    "**___________________________________________________________________________________________________________________________**\n",
    "\n",
    "<a id='resumo'></a>\n",
    "# RESUMO\n",
    "\n",
    "\n",
    "**Tratamento**\n",
    "- Coluna Income foi transformada de categórica para numérica\n",
    "- Os valores duplicados e os valores categóricos foram removidos\n",
    "- Testado varios modelos com uma base simples sem muitos tratamentos"
   ]
  },
  {
   "cell_type": "markdown",
   "id": "836c80e8",
   "metadata": {},
   "source": [
    "### Código dos tratamentos\n",
    "```\n",
    "# Removendo os valores duplicados\n",
    "df_treino = df_treino.drop_duplicates(ignore_index=True)\n",
    "df_teste = df_teste.drop_duplicates(ignore_index=True)\n",
    "\n",
    "# Transformando em numérica\n",
    "df_treino.loc[:, 'income'] = df_treino['income'].map({'>50K': 1, '<=50K': 0})\n",
    "df_teste.loc[:, 'income'] = df_teste['income'].map({'>50K': 1, '<=50K': 0})\n",
    "\n",
    "# Convertendo a coluna para o tipo 'int32'\n",
    "df_treino['income'] = df_treino['income'].astype('int32')\n",
    "df_teste['income'] = df_teste['income'].astype('int32')\n",
    "\n",
    "```"
   ]
  }
 ],
 "metadata": {
  "kernelspec": {
   "display_name": "Python 3 (ipykernel)",
   "language": "python",
   "name": "python3"
  },
  "language_info": {
   "codemirror_mode": {
    "name": "ipython",
    "version": 3
   },
   "file_extension": ".py",
   "mimetype": "text/x-python",
   "name": "python",
   "nbconvert_exporter": "python",
   "pygments_lexer": "ipython3",
   "version": "3.11.5"
  }
 },
 "nbformat": 4,
 "nbformat_minor": 5
}
